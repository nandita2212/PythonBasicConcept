{
 "cells": [
  {
   "cell_type": "code",
   "execution_count": 6,
   "id": "fd6ea5b0",
   "metadata": {},
   "outputs": [],
   "source": [
    "# range = in-built function \n",
    "# Its work is to generate sequence of no.s\n",
    "# range(start,stop,step)\n",
    "# if you dont provide any step then bydefault it will take 1 as its step.\n",
    "# the values/data goes from lower no. to higher when step is 1\n",
    "# the values/data goes from higher no. to lower when step is -1\n",
    "# Can be ignored, start and step but if start is not defined then 0 will be taken by default."
   ]
  },
  {
   "cell_type": "code",
   "execution_count": 7,
   "id": "0ab42d21",
   "metadata": {},
   "outputs": [],
   "source": [
    "r1=range(10,20)"
   ]
  },
  {
   "cell_type": "code",
   "execution_count": 89,
   "id": "be0d7a40",
   "metadata": {},
   "outputs": [
    {
     "data": {
      "text/plain": [
       "1958837456592"
      ]
     },
     "execution_count": 89,
     "metadata": {},
     "output_type": "execute_result"
    }
   ],
   "source": [
    "id(r1)"
   ]
  },
  {
   "cell_type": "code",
   "execution_count": 11,
   "id": "6f6bdf7a",
   "metadata": {},
   "outputs": [
    {
     "name": "stdout",
     "output_type": "stream",
     "text": [
      "range(10, 20)\n"
     ]
    }
   ],
   "source": [
    "print(r1)"
   ]
  },
  {
   "cell_type": "code",
   "execution_count": 12,
   "id": "94bb4cec",
   "metadata": {},
   "outputs": [
    {
     "data": {
      "text/plain": [
       "[10, 11, 12, 13, 14, 15, 16, 17, 18, 19]"
      ]
     },
     "execution_count": 12,
     "metadata": {},
     "output_type": "execute_result"
    }
   ],
   "source": [
    "list(r1)"
   ]
  },
  {
   "cell_type": "code",
   "execution_count": 14,
   "id": "4f06b4ea",
   "metadata": {},
   "outputs": [
    {
     "ename": "ValueError",
     "evalue": "range() arg 3 must not be zero",
     "output_type": "error",
     "traceback": [
      "\u001b[1;31m---------------------------------------------------------------------------\u001b[0m",
      "\u001b[1;31mValueError\u001b[0m                                Traceback (most recent call last)",
      "Cell \u001b[1;32mIn[14], line 1\u001b[0m\n\u001b[1;32m----> 1\u001b[0m r2\u001b[38;5;241m=\u001b[39m\u001b[38;5;28;43mrange\u001b[39;49m\u001b[43m(\u001b[49m\u001b[38;5;241;43m10\u001b[39;49m\u001b[43m,\u001b[49m\u001b[38;5;241;43m20\u001b[39;49m\u001b[43m,\u001b[49m\u001b[38;5;241;43m0\u001b[39;49m\u001b[43m)\u001b[49m\n\u001b[0;32m      2\u001b[0m \u001b[38;5;28mprint\u001b[39m(r2)\n",
      "\u001b[1;31mValueError\u001b[0m: range() arg 3 must not be zero"
     ]
    }
   ],
   "source": [
    "r2=range(10,20,0)\n",
    "print(r2)"
   ]
  },
  {
   "cell_type": "code",
   "execution_count": 15,
   "id": "9cc4c456",
   "metadata": {},
   "outputs": [],
   "source": [
    "r2=range(20,10)"
   ]
  },
  {
   "cell_type": "code",
   "execution_count": 16,
   "id": "3b10bb8c",
   "metadata": {},
   "outputs": [
    {
     "data": {
      "text/plain": [
       "[]"
      ]
     },
     "execution_count": 16,
     "metadata": {},
     "output_type": "execute_result"
    }
   ],
   "source": [
    "list(r2)"
   ]
  },
  {
   "cell_type": "code",
   "execution_count": 17,
   "id": "5b923bdc",
   "metadata": {},
   "outputs": [
    {
     "data": {
      "text/plain": [
       "range"
      ]
     },
     "execution_count": 17,
     "metadata": {},
     "output_type": "execute_result"
    }
   ],
   "source": [
    "type(r1)"
   ]
  },
  {
   "cell_type": "code",
   "execution_count": 21,
   "id": "0f05c817",
   "metadata": {},
   "outputs": [
    {
     "name": "stdout",
     "output_type": "stream",
     "text": [
      "[0, 1, 2, 3, 4, 5, 6, 7, 8]\n"
     ]
    }
   ],
   "source": [
    "r4=range(0,9)\n",
    "print(list(r4))"
   ]
  },
  {
   "cell_type": "code",
   "execution_count": 24,
   "id": "02c3e2d5",
   "metadata": {},
   "outputs": [
    {
     "name": "stdout",
     "output_type": "stream",
     "text": [
      "range(10, 20, -1)\n",
      "[]\n"
     ]
    }
   ],
   "source": [
    "r3 = range(10,20,-1)\n",
    "print(r3)\n",
    "\n",
    "print(list(r3))\n",
    "\n"
   ]
  },
  {
   "cell_type": "code",
   "execution_count": 27,
   "id": "05922e37",
   "metadata": {},
   "outputs": [
    {
     "name": "stdout",
     "output_type": "stream",
     "text": [
      "range(20, 10)\n",
      "[]\n"
     ]
    }
   ],
   "source": [
    "r3 = range(20,10,1)\n",
    "\n",
    "print(r3)\n",
    "\n",
    "print(list(r3))"
   ]
  },
  {
   "cell_type": "code",
   "execution_count": 28,
   "id": "c9bec2a9",
   "metadata": {},
   "outputs": [
    {
     "name": "stdout",
     "output_type": "stream",
     "text": [
      "[10, 13, 16, 19]\n"
     ]
    }
   ],
   "source": [
    "r5=range(10,20,3)\n",
    "print(list(r5))"
   ]
  },
  {
   "cell_type": "code",
   "execution_count": 29,
   "id": "65eed4b1",
   "metadata": {},
   "outputs": [
    {
     "name": "stdout",
     "output_type": "stream",
     "text": [
      "[10, 8, 6]\n"
     ]
    }
   ],
   "source": [
    "r6 = range(10,5,-2)\n",
    "print(list(r6))"
   ]
  },
  {
   "cell_type": "code",
   "execution_count": 30,
   "id": "2f8c7a4f",
   "metadata": {},
   "outputs": [
    {
     "data": {
      "text/plain": [
       "[0, 1, 2, 3, 4]"
      ]
     },
     "execution_count": 30,
     "metadata": {},
     "output_type": "execute_result"
    }
   ],
   "source": [
    "list(range(5))"
   ]
  },
  {
   "cell_type": "code",
   "execution_count": 31,
   "id": "c681b3ec",
   "metadata": {},
   "outputs": [],
   "source": [
    "#For Loop"
   ]
  },
  {
   "cell_type": "code",
   "execution_count": 33,
   "id": "446fd61c",
   "metadata": {},
   "outputs": [
    {
     "name": "stdout",
     "output_type": "stream",
     "text": [
      "5\n",
      "6\n",
      "7\n",
      "8\n",
      "9\n"
     ]
    }
   ],
   "source": [
    "#5 6 7 8 9\n",
    "for i in range(5,10,1):\n",
    "    print(i)\n"
   ]
  },
  {
   "cell_type": "code",
   "execution_count": 35,
   "id": "8390f693",
   "metadata": {},
   "outputs": [
    {
     "name": "stdout",
     "output_type": "stream",
     "text": [
      "15\n",
      "13\n",
      "11\n",
      "9\n",
      "7\n"
     ]
    }
   ],
   "source": [
    "for i in range(5,15,2):\n",
    "    print(i)"
   ]
  },
  {
   "cell_type": "code",
   "execution_count": 36,
   "id": "d64918b5",
   "metadata": {},
   "outputs": [
    {
     "name": "stdout",
     "output_type": "stream",
     "text": [
      "15\n",
      "13\n",
      "11\n",
      "9\n",
      "7\n"
     ]
    }
   ],
   "source": [
    "for i in range(15,5,-2):\n",
    "    print(i)"
   ]
  },
  {
   "cell_type": "code",
   "execution_count": 39,
   "id": "55ae7022",
   "metadata": {},
   "outputs": [
    {
     "name": "stdout",
     "output_type": "stream",
     "text": [
      "0 0\n",
      "0 1\n",
      "0 2\n",
      "1 0\n",
      "1 1\n",
      "1 2\n",
      "2 0\n",
      "2 1\n",
      "2 2\n"
     ]
    }
   ],
   "source": [
    "for i in range(0,3):\n",
    "    for j in range(0,1,1):\n",
    "        print(i,j)"
   ]
  },
  {
   "cell_type": "code",
   "execution_count": 41,
   "id": "84a1a7bb",
   "metadata": {},
   "outputs": [
    {
     "name": "stdout",
     "output_type": "stream",
     "text": [
      "0 0\n",
      "0 1\n",
      "0 2\n",
      "Here\n",
      "1 0\n",
      "1 1\n",
      "1 2\n",
      "Here\n",
      "2 0\n",
      "2 1\n",
      "2 2\n",
      "Here\n"
     ]
    }
   ],
   "source": [
    "for i in range(0,3,1):\n",
    "    for j in range(0,3,1):\n",
    "        print(i,j)\n",
    "    print(\"Here\")"
   ]
  },
  {
   "cell_type": "code",
   "execution_count": 45,
   "id": "117ad0d0",
   "metadata": {},
   "outputs": [
    {
     "name": "stdout",
     "output_type": "stream",
     "text": [
      "0\n",
      "1\n",
      "out of for-loop\n"
     ]
    }
   ],
   "source": [
    "#break - it is used come out of a loop.\n",
    "\n",
    "for i in range(5):\n",
    "    if i == 2:\n",
    "        break\n",
    "    print(i)\n",
    "    \n",
    "print(\"out of for-loop\")"
   ]
  },
  {
   "cell_type": "code",
   "execution_count": 44,
   "id": "596f4f8c",
   "metadata": {},
   "outputs": [
    {
     "name": "stdout",
     "output_type": "stream",
     "text": [
      "0\n",
      "1\n",
      "3\n",
      "4\n",
      "out of for loop\n"
     ]
    }
   ],
   "source": [
    "#Continue - skips all the statement after 'continue' & gives the control to the loop.\n",
    "\n",
    "for i in range(5):\n",
    "    if i==2:\n",
    "        continue\n",
    "    print(i)\n",
    "print(\"out of for loop\")"
   ]
  },
  {
   "cell_type": "code",
   "execution_count": 46,
   "id": "c9bb18f7",
   "metadata": {},
   "outputs": [
    {
     "name": "stdout",
     "output_type": "stream",
     "text": [
      "0\n",
      "1\n",
      "27\n",
      "64\n",
      "out of for loop\n"
     ]
    }
   ],
   "source": [
    "for i in range(5):\n",
    "    if i==2:\n",
    "        continue\n",
    "    print(i**3)\n",
    "print(\"out of for loop\")"
   ]
  },
  {
   "cell_type": "code",
   "execution_count": 52,
   "id": "f752617c",
   "metadata": {},
   "outputs": [],
   "source": [
    "# pass = it is used as a placeholder, it does nt do anything.\n",
    "# It simply passes the control to next statement.\n",
    "\n",
    "for i in range(5):\n",
    "    if (i==2):\n",
    "        pass\n",
    "    else:\n",
    "        pass"
   ]
  },
  {
   "cell_type": "code",
   "execution_count": 53,
   "id": "3d8e8f59",
   "metadata": {},
   "outputs": [
    {
     "name": "stdout",
     "output_type": "stream",
     "text": [
      "0 10\n",
      "1 12.6\n",
      "2 70\n",
      "3 30\n"
     ]
    }
   ],
   "source": [
    "#Enumerate\n",
    "\n",
    "profits = [10, 12.6, 70, 30]\n",
    "\n",
    "for i, j in enumerate(profits):\n",
    "    print(i,j)"
   ]
  },
  {
   "cell_type": "code",
   "execution_count": 57,
   "id": "6da5e426",
   "metadata": {},
   "outputs": [
    {
     "name": "stdout",
     "output_type": "stream",
     "text": [
      "50 10\n",
      "51 12.6\n",
      "52 70\n",
      "53 30\n"
     ]
    }
   ],
   "source": [
    "for i, j in enumerate(profits, start = 50):\n",
    "    print(i,j)"
   ]
  },
  {
   "cell_type": "code",
   "execution_count": 55,
   "id": "8d677dd4",
   "metadata": {},
   "outputs": [
    {
     "data": {
      "text/plain": [
       "1"
      ]
     },
     "execution_count": 55,
     "metadata": {},
     "output_type": "execute_result"
    }
   ],
   "source": [
    "p2 = 'py py py py py is python'\n",
    "\n",
    "p2.find('y')"
   ]
  },
  {
   "cell_type": "code",
   "execution_count": 59,
   "id": "6053ba5d",
   "metadata": {},
   "outputs": [
    {
     "name": "stdout",
     "output_type": "stream",
     "text": [
      "0 p\n",
      "1 y\n",
      "2  \n",
      "3 p\n",
      "4 y\n",
      "5  \n",
      "6 p\n",
      "7 y\n",
      "8  \n",
      "9 p\n",
      "10 y\n",
      "11  \n",
      "12 p\n",
      "13 y\n",
      "14  \n",
      "15 i\n",
      "16 s\n",
      "17  \n",
      "18 p\n",
      "19 y\n",
      "20 t\n",
      "21 h\n",
      "22 o\n",
      "23 n\n"
     ]
    }
   ],
   "source": [
    "#want all the index where 'y' is present \n",
    "\n",
    "for i, j in enumerate(p2):\n",
    "    print(i,j)"
   ]
  },
  {
   "cell_type": "code",
   "execution_count": 60,
   "id": "27f0ab92",
   "metadata": {},
   "outputs": [
    {
     "name": "stdout",
     "output_type": "stream",
     "text": [
      "1 y\n",
      "4 y\n",
      "7 y\n",
      "10 y\n",
      "13 y\n",
      "19 y\n"
     ]
    }
   ],
   "source": [
    "p2='py py py py py is python'\n",
    "\n",
    "for i, j in enumerate(p2):\n",
    "    if(j=='y'):\n",
    "        print(i,j)"
   ]
  },
  {
   "cell_type": "code",
   "execution_count": 61,
   "id": "012468c1",
   "metadata": {},
   "outputs": [
    {
     "name": "stdout",
     "output_type": "stream",
     "text": [
      "6\n"
     ]
    }
   ],
   "source": [
    "count = 0\n",
    "for i in p2:\n",
    "    if i == 'y':\n",
    "        count += 1\n",
    "print(count)"
   ]
  },
  {
   "cell_type": "code",
   "execution_count": 62,
   "id": "453c0c58",
   "metadata": {},
   "outputs": [
    {
     "name": "stdout",
     "output_type": "stream",
     "text": [
      "1\n",
      "4\n",
      "7\n",
      "10\n",
      "13\n",
      "19\n"
     ]
    }
   ],
   "source": [
    "ind = 0\n",
    "for i in p2:\n",
    "    if(i=='y'):\n",
    "        print(ind)\n",
    "    ind += 1"
   ]
  },
  {
   "cell_type": "code",
   "execution_count": 64,
   "id": "0f4460eb",
   "metadata": {},
   "outputs": [
    {
     "name": "stdout",
     "output_type": "stream",
     "text": [
      "10 20\n"
     ]
    }
   ],
   "source": [
    "a,b = 10,20\n",
    "print(a,b)"
   ]
  },
  {
   "cell_type": "code",
   "execution_count": 72,
   "id": "a4e93a5b",
   "metadata": {},
   "outputs": [
    {
     "name": "stdout",
     "output_type": "stream",
     "text": [
      "hello\n",
      "hey\n",
      "python\n"
     ]
    }
   ],
   "source": [
    "var1 = 'hello'\n",
    "var2 = 'hey'\n",
    "var3 = 'python'\n",
    "\n",
    "print(var1)\n",
    "print(var2)\n",
    "print(var3)"
   ]
  },
  {
   "cell_type": "code",
   "execution_count": 66,
   "id": "1e1e253a",
   "metadata": {},
   "outputs": [
    {
     "name": "stdout",
     "output_type": "stream",
     "text": [
      "hellohey\n"
     ]
    }
   ],
   "source": [
    "print(var1, end='')\n",
    "print(var2)"
   ]
  },
  {
   "cell_type": "code",
   "execution_count": 69,
   "id": "256649d3",
   "metadata": {},
   "outputs": [
    {
     "name": "stdout",
     "output_type": "stream",
     "text": [
      "hello\n",
      "hey\n"
     ]
    }
   ],
   "source": [
    "print(var1, end='\\n')\n",
    "print(var2)"
   ]
  },
  {
   "cell_type": "code",
   "execution_count": 70,
   "id": "999a74dc",
   "metadata": {},
   "outputs": [
    {
     "name": "stdout",
     "output_type": "stream",
     "text": [
      "hello\n",
      "hey\n"
     ]
    }
   ],
   "source": [
    "print(var1, end='\\n')\n",
    "print(var2)"
   ]
  },
  {
   "cell_type": "code",
   "execution_count": 74,
   "id": "51b56289",
   "metadata": {},
   "outputs": [
    {
     "name": "stdout",
     "output_type": "stream",
     "text": [
      "helloheypython\n"
     ]
    }
   ],
   "source": [
    "print(var1, end='')\n",
    "print(var2, end='')\n",
    "print(var3)"
   ]
  },
  {
   "cell_type": "code",
   "execution_count": 76,
   "id": "8db8a2e4",
   "metadata": {},
   "outputs": [
    {
     "name": "stdout",
     "output_type": "stream",
     "text": [
      "hello hey python\n"
     ]
    }
   ],
   "source": [
    "print(var1,var2,var3)"
   ]
  },
  {
   "cell_type": "code",
   "execution_count": 88,
   "id": "2b62918c",
   "metadata": {
    "scrolled": true
   },
   "outputs": [
    {
     "name": "stdout",
     "output_type": "stream",
     "text": [
      "['python', 'is', 'a', 'language']\n",
      "pythonisalanguage"
     ]
    }
   ],
   "source": [
    "p3 = \"python is a language\"\n",
    "l4=p3.split()\n",
    "print(l4)\n",
    "\n",
    "for i in range(len(l4)):\n",
    "    print(l4[i], end='')"
   ]
  },
  {
   "cell_type": "code",
   "execution_count": 87,
   "id": "94e2c8fd",
   "metadata": {},
   "outputs": [
    {
     "name": "stdout",
     "output_type": "stream",
     "text": [
      "python is a language\n",
      "pythonisalanguage\n"
     ]
    }
   ],
   "source": [
    "print(p3)\n",
    "p4=''.join(l4)\n",
    "print(p4)"
   ]
  },
  {
   "cell_type": "code",
   "execution_count": null,
   "id": "9c33db70",
   "metadata": {},
   "outputs": [],
   "source": []
  }
 ],
 "metadata": {
  "kernelspec": {
   "display_name": "Python 3 (ipykernel)",
   "language": "python",
   "name": "python3"
  },
  "language_info": {
   "codemirror_mode": {
    "name": "ipython",
    "version": 3
   },
   "file_extension": ".py",
   "mimetype": "text/x-python",
   "name": "python",
   "nbconvert_exporter": "python",
   "pygments_lexer": "ipython3",
   "version": "3.10.9"
  }
 },
 "nbformat": 4,
 "nbformat_minor": 5
}
