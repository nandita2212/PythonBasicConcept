{
 "cells": [
  {
   "cell_type": "markdown",
   "id": "29ea14b7",
   "metadata": {},
   "source": [
    "Anonymous Function:(function without name)-lambda function\n",
    "\n",
    "Syntax:\n",
    "\n",
    "lambda arguments: expression\n",
    "\n",
    "1. lambda function small anonymous function.\n",
    "2. lambda function can take any no. of arguments but can have only 1 expression.\n",
    "\n"
   ]
  },
  {
   "cell_type": "code",
   "execution_count": 1,
   "id": "aa50abf7",
   "metadata": {},
   "outputs": [
    {
     "data": {
      "text/plain": [
       "50"
      ]
     },
     "execution_count": 1,
     "metadata": {},
     "output_type": "execute_result"
    }
   ],
   "source": [
    "def sum(a,b):\n",
    "    return (a+b)\n",
    "\n",
    "sum(10,40)"
   ]
  },
  {
   "cell_type": "code",
   "execution_count": 5,
   "id": "f3d4bfc3",
   "metadata": {},
   "outputs": [
    {
     "data": {
      "text/plain": [
       "518"
      ]
     },
     "execution_count": 5,
     "metadata": {},
     "output_type": "execute_result"
    }
   ],
   "source": [
    "(lambda a,b : a+b)(19, 499)"
   ]
  },
  {
   "cell_type": "code",
   "execution_count": 4,
   "id": "8d528073",
   "metadata": {},
   "outputs": [
    {
     "name": "stdout",
     "output_type": "stream",
     "text": [
      "50\n"
     ]
    }
   ],
   "source": [
    "x = (lambda a,b : a+b)(10, 40)\n",
    "print(x)"
   ]
  },
  {
   "cell_type": "code",
   "execution_count": 7,
   "id": "019b1c19",
   "metadata": {},
   "outputs": [
    {
     "data": {
      "text/plain": [
       "'odd'"
      ]
     },
     "execution_count": 7,
     "metadata": {},
     "output_type": "execute_result"
    }
   ],
   "source": [
    "def even_odd(num):\n",
    "    if (num%2) == 0:\n",
    "        return \"even\"\n",
    "    else:\n",
    "        return \"odd\"\n",
    "    \n",
    "even_odd(11)"
   ]
  },
  {
   "cell_type": "code",
   "execution_count": 8,
   "id": "979659ec",
   "metadata": {},
   "outputs": [
    {
     "data": {
      "text/plain": [
       "False"
      ]
     },
     "execution_count": 8,
     "metadata": {},
     "output_type": "execute_result"
    }
   ],
   "source": [
    "(lambda num : num%2 == 0)(11)"
   ]
  },
  {
   "cell_type": "code",
   "execution_count": 9,
   "id": "34a2420c",
   "metadata": {},
   "outputs": [
    {
     "data": {
      "text/plain": [
       "'odd'"
      ]
     },
     "execution_count": 9,
     "metadata": {},
     "output_type": "execute_result"
    }
   ],
   "source": [
    "(lambda num : 'even' if num%2 ==0 else 'odd')(11)"
   ]
  },
  {
   "cell_type": "code",
   "execution_count": 10,
   "id": "37819b22",
   "metadata": {},
   "outputs": [
    {
     "data": {
      "text/plain": [
       "2163768880"
      ]
     },
     "execution_count": 10,
     "metadata": {},
     "output_type": "execute_result"
    }
   ],
   "source": [
    "(lambda a, b, c, d, e: a*b*c*d*e)(20, 377, 37, 277, 28)"
   ]
  },
  {
   "cell_type": "markdown",
   "id": "5ccc0f1c",
   "metadata": {},
   "source": [
    "Map()\n",
    "\n",
    "A function that works for iterable data.\n"
   ]
  },
  {
   "cell_type": "code",
   "execution_count": 11,
   "id": "e37aa73e",
   "metadata": {},
   "outputs": [
    {
     "data": {
      "text/plain": [
       "172.4"
      ]
     },
     "execution_count": 11,
     "metadata": {},
     "output_type": "execute_result"
    }
   ],
   "source": [
    "temp_c = [0, 22.5, 60, 200]\n",
    "\n",
    "def fah(t):\n",
    "    return (9/5)*t + 32\n",
    "\n",
    "def cel(t):\n",
    "    return (5/9)*(t-32)\n",
    "\n",
    "fah(78)"
   ]
  },
  {
   "cell_type": "code",
   "execution_count": 13,
   "id": "ec73540c",
   "metadata": {},
   "outputs": [
    {
     "data": {
      "text/plain": [
       "[32.0, 72.5, 140.0, 392.0]"
      ]
     },
     "execution_count": 13,
     "metadata": {},
     "output_type": "execute_result"
    }
   ],
   "source": [
    "list(map(fah,temp_c))"
   ]
  },
  {
   "cell_type": "code",
   "execution_count": 15,
   "id": "dce198c1",
   "metadata": {},
   "outputs": [
    {
     "data": {
      "text/plain": [
       "[32.0, 72.5, 140.0, 392.0]"
      ]
     },
     "execution_count": 15,
     "metadata": {},
     "output_type": "execute_result"
    }
   ],
   "source": [
    "list(map(lambda x:(9/5)*x + 32, temp_c ))"
   ]
  },
  {
   "cell_type": "code",
   "execution_count": 17,
   "id": "5d8e3fdd",
   "metadata": {},
   "outputs": [
    {
     "data": {
      "text/plain": [
       "[357.22222222222223,\n",
       " 421.11111111111114,\n",
       " 123.8888888888889,\n",
       " 19.444444444444446,\n",
       " 31.111111111111114]"
      ]
     },
     "execution_count": 17,
     "metadata": {},
     "output_type": "execute_result"
    }
   ],
   "source": [
    "temp_f = [675, 790, 255, 67, 88]\n",
    "list(map(lambda x:(5/9)*(x-32), temp_f ))"
   ]
  },
  {
   "cell_type": "code",
   "execution_count": 21,
   "id": "d9aab312",
   "metadata": {},
   "outputs": [
    {
     "data": {
      "text/plain": [
       "[3, 9, 11, 11, 13]"
      ]
     },
     "execution_count": 21,
     "metadata": {},
     "output_type": "execute_result"
    }
   ],
   "source": [
    "a = [1, 2, 8, 5, 9]\n",
    "b = [2, 7, 3, 6, 4]\n",
    "\n",
    "out = [3, 9, 11, 11, 13]\n",
    "\n",
    "list(map(lambda x,y:x+y, a,b))"
   ]
  },
  {
   "cell_type": "markdown",
   "id": "24752b8a",
   "metadata": {},
   "source": [
    "Reduce function: \n",
    "\n",
    "takes 2 arguments\n",
    "works on iterable data\n",
    "\n",
    "sum, mean, smallest, largest\n"
   ]
  },
  {
   "cell_type": "code",
   "execution_count": 27,
   "id": "1e986e25",
   "metadata": {},
   "outputs": [
    {
     "data": {
      "text/plain": [
       "3778"
      ]
     },
     "execution_count": 27,
     "metadata": {},
     "output_type": "execute_result"
    }
   ],
   "source": [
    "lst1 = [20, 49, 48, 38, 28, 290, 48, 3778, 2788]\n",
    "\n",
    "from functools import reduce\n",
    "\n",
    "reduce(lambda x,y:x if x>y else y, lst1) #largest value \n"
   ]
  },
  {
   "cell_type": "code",
   "execution_count": 28,
   "id": "1749a1ac",
   "metadata": {},
   "outputs": [
    {
     "data": {
      "text/plain": [
       "20"
      ]
     },
     "execution_count": 28,
     "metadata": {},
     "output_type": "execute_result"
    }
   ],
   "source": [
    "reduce(lambda x,y:x if x<y else y, lst1) #smallest value"
   ]
  },
  {
   "cell_type": "code",
   "execution_count": 30,
   "id": "1fe22747",
   "metadata": {},
   "outputs": [
    {
     "data": {
      "text/plain": [
       "7087"
      ]
     },
     "execution_count": 30,
     "metadata": {},
     "output_type": "execute_result"
    }
   ],
   "source": [
    "reduce(lambda x,y:x+y, lst1) #summation"
   ]
  },
  {
   "cell_type": "code",
   "execution_count": 31,
   "id": "15bdbe6f",
   "metadata": {},
   "outputs": [
    {
     "data": {
      "text/plain": [
       "2364.73828125"
      ]
     },
     "execution_count": 31,
     "metadata": {},
     "output_type": "execute_result"
    }
   ],
   "source": [
    "reduce(lambda x,y:(x+y)/2, lst1) # average of list of data"
   ]
  },
  {
   "cell_type": "markdown",
   "id": "bbd232ee",
   "metadata": {},
   "source": [
    "Filter Function:\n",
    "\n",
    "This function needs to return bool value. This function applied on iterable data."
   ]
  },
  {
   "cell_type": "code",
   "execution_count": 32,
   "id": "7f5f0cdb",
   "metadata": {},
   "outputs": [
    {
     "data": {
      "text/plain": [
       "[9, 999, 36, 78]"
      ]
     },
     "execution_count": 32,
     "metadata": {},
     "output_type": "execute_result"
    }
   ],
   "source": [
    "def num_check(num):\n",
    "    if num%3 == 0:\n",
    "        return True\n",
    "\n",
    "lst2 = [9, 999, 36, 78, 35, 49]\n",
    "\n",
    "list(filter(num_check, lst2))"
   ]
  },
  {
   "cell_type": "code",
   "execution_count": 34,
   "id": "0f9e861d",
   "metadata": {},
   "outputs": [
    {
     "data": {
      "text/plain": [
       "[9, 999, 36, 78]"
      ]
     },
     "execution_count": 34,
     "metadata": {},
     "output_type": "execute_result"
    }
   ],
   "source": [
    "list(filter(lambda x:x%3==0, lst2))"
   ]
  },
  {
   "cell_type": "code",
   "execution_count": 36,
   "id": "35b68d6a",
   "metadata": {},
   "outputs": [
    {
     "data": {
      "text/plain": [
       "['priya1ww8@gmail.com',\n",
       " 'shriya87@hotmail.com',\n",
       " 'ankit288@yahoo.com',\n",
       " 'divya788@gmail.com',\n",
       " 'frankuy888@gmail.com']"
      ]
     },
     "execution_count": 36,
     "metadata": {},
     "output_type": "execute_result"
    }
   ],
   "source": [
    "lst3 = [\"priya1ww8@gmail.com\",\n",
    "       \"shriya87@hotmail.com\",\n",
    "       \"ankit288@yahoo.com\",\n",
    "       \"divya788@gmail.com\",\n",
    "       \"frankuy888@gmail.com\"]\n",
    "\n",
    "list(filter(lambda emails:'gmail.com' in emails, lst3))\n",
    "\n",
    "#for username:\n",
    "\n"
   ]
  },
  {
   "cell_type": "code",
   "execution_count": 42,
   "id": "0f251ad6",
   "metadata": {},
   "outputs": [
    {
     "data": {
      "text/plain": [
       "['priya1ww8', 'shriya87', 'ankit288', 'divya788', 'frankuy888']"
      ]
     },
     "execution_count": 42,
     "metadata": {},
     "output_type": "execute_result"
    }
   ],
   "source": [
    "list(map(lambda emails:emails.split('@')[0], lst3))"
   ]
  },
  {
   "cell_type": "markdown",
   "id": "1b9e9e85",
   "metadata": {},
   "source": [
    "# For else"
   ]
  },
  {
   "cell_type": "markdown",
   "id": "190c1203",
   "metadata": {},
   "source": [
    "for is having range, once the range is discarded then execute our else part. "
   ]
  },
  {
   "cell_type": "code",
   "execution_count": 49,
   "id": "d4d4fcaf",
   "metadata": {
    "scrolled": true
   },
   "outputs": [
    {
     "ename": "SyntaxError",
     "evalue": "'return' outside function (1690730512.py, line 4)",
     "output_type": "error",
     "traceback": [
      "\u001b[1;36m  Cell \u001b[1;32mIn[49], line 4\u001b[1;36m\u001b[0m\n\u001b[1;33m    return'game over'\u001b[0m\n\u001b[1;37m    ^\u001b[0m\n\u001b[1;31mSyntaxError\u001b[0m\u001b[1;31m:\u001b[0m 'return' outside function\n"
     ]
    }
   ],
   "source": [
    "# for i in range(0,10):\n",
    "#     print(i)\n",
    "#     if i==2:\n",
    "#         return'game over'\n",
    "# else:\n",
    "#     print(\"over\")"
   ]
  },
  {
   "cell_type": "code",
   "execution_count": 52,
   "id": "b7b3b530",
   "metadata": {},
   "outputs": [
    {
     "name": "stdout",
     "output_type": "stream",
     "text": [
      "over\n"
     ]
    }
   ],
   "source": [
    "for i in 'jhdjhsjd':\n",
    "    print(i)\n",
    "    if i == 'd':\n",
    "        break\n",
    "else:\n",
    "    print('over')"
   ]
  },
  {
   "cell_type": "code",
   "execution_count": null,
   "id": "46c8e6f5",
   "metadata": {},
   "outputs": [],
   "source": [
    "#Assignments:\n",
    "\n",
    "1.Given attributes (x,y,r) for two circles. \n",
    "    Identify if the circles \"intersect\",\"touch\" or \"Not intersect\" {1-mark}\n",
    "\n",
    "2.Take a string as input and do the following without using any string functions:\n",
    "    i. Remove if there are any duplicates\n",
    "    ii. Remove if there are any special characters\n",
    "    iii. Change the case of each character {2-marks}\n",
    "\n",
    "3.Take a 2X2 square matrix as input \n",
    "     and calculate the determinant.\n",
    "     Input -\n",
    "     [[1,2],[3,4]]\n",
    "    Output - (-2)\n",
    "     One line solution for 2x2 matrix -{2-marks}\n"
   ]
  }
 ],
 "metadata": {
  "kernelspec": {
   "display_name": "Python 3 (ipykernel)",
   "language": "python",
   "name": "python3"
  },
  "language_info": {
   "codemirror_mode": {
    "name": "ipython",
    "version": 3
   },
   "file_extension": ".py",
   "mimetype": "text/x-python",
   "name": "python",
   "nbconvert_exporter": "python",
   "pygments_lexer": "ipython3",
   "version": "3.10.9"
  }
 },
 "nbformat": 4,
 "nbformat_minor": 5
}
