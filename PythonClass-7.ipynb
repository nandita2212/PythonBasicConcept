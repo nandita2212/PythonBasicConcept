{
 "cells": [
  {
   "cell_type": "markdown",
   "id": "89991eb1",
   "metadata": {},
   "source": [
    "Tuple Packing & Unpacking:"
   ]
  },
  {
   "cell_type": "code",
   "execution_count": 1,
   "id": "151b8aac",
   "metadata": {},
   "outputs": [
    {
     "name": "stdout",
     "output_type": "stream",
     "text": [
      "('ankit', 'JB07', 127689, 'Google') <class 'tuple'>\n"
     ]
    }
   ],
   "source": [
    "#Packing:\n",
    "\n",
    "emp_name = 'ankit'\n",
    "emp_id = 'JB07'\n",
    "emp_pin = 127689\n",
    "emp_company = \"Google\"\n",
    "\n",
    "emp_info = emp_name, emp_id, emp_pin, emp_company\n",
    "print(emp_info, type(emp_info))"
   ]
  },
  {
   "cell_type": "code",
   "execution_count": 2,
   "id": "3576a636",
   "metadata": {},
   "outputs": [
    {
     "name": "stdout",
     "output_type": "stream",
     "text": [
      "(123, 'ankita', 'XI') <class 'tuple'>\n"
     ]
    }
   ],
   "source": [
    "stud_id = 123\n",
    "stud_name = 'ankita'\n",
    "stud_class = 'XI'\n",
    "\n",
    "stud_info = stud_id, stud_name,stud_class \n",
    "print(stud_info, type(stud_info))"
   ]
  },
  {
   "cell_type": "code",
   "execution_count": 11,
   "id": "d7e83b6f",
   "metadata": {},
   "outputs": [
    {
     "name": "stdout",
     "output_type": "stream",
     "text": [
      "ankit JB07 123498 Google\n",
      "<class 'tuple'>\n"
     ]
    }
   ],
   "source": [
    "#Unpacking of a tuple:\n",
    "\n",
    "emp_info = ('ankit', 'JB07', 123498, 'Google')\n",
    "emp_name, emp_id,emp_pin, emp_company = emp_info\n",
    "print(emp_name, emp_id,emp_pin, emp_company)\n",
    "print(type(emp_info))\n",
    "\n"
   ]
  },
  {
   "cell_type": "code",
   "execution_count": null,
   "id": "d2b7f239",
   "metadata": {},
   "outputs": [],
   "source": [
    "#Unpacking of a tuple:\n",
    "\n",
    "emp_info = ('ankit', 'JB07', 'Google')\n",
    "emp_name, emp_id,emp_pin, emp_company = emp_info\n",
    "print(emp_name, emp_id,emp_pin, emp_company)\n",
    "print(type(emp_info))\n",
    "\n"
   ]
  },
  {
   "cell_type": "markdown",
   "id": "62a6b2f3",
   "metadata": {},
   "source": [
    "# Dictionary :\n"
   ]
  },
  {
   "cell_type": "code",
   "execution_count": 12,
   "id": "7336f0e7",
   "metadata": {},
   "outputs": [
    {
     "name": "stdout",
     "output_type": "stream",
     "text": [
      "{'name': 'kriti', 'salary': 300000, 'age': 36} <class 'dict'>\n"
     ]
    }
   ],
   "source": [
    "#1. Dictionary is a collection of key,value pair.\n",
    "\n",
    "#How to create a dictionary?\n",
    "\n",
    "emp_data = {'name': \"kriti\", 'salary': 300000, 'age':36}\n",
    "print(emp_data, type(emp_data))\n"
   ]
  },
  {
   "cell_type": "code",
   "execution_count": 13,
   "id": "3665b3ac",
   "metadata": {},
   "outputs": [
    {
     "name": "stdout",
     "output_type": "stream",
     "text": [
      "enter data:{'name': \"kriti\", 'salary': 300000, 'age':36}\n",
      "{'name': 'kriti', 'salary': 300000, 'age': 36} <class 'dict'>\n"
     ]
    }
   ],
   "source": [
    "#user-input data\n",
    "\n",
    "a = eval(input(\"enter data:\"))\n",
    "print(a,type(a))"
   ]
  },
  {
   "cell_type": "code",
   "execution_count": 16,
   "id": "e7264778",
   "metadata": {},
   "outputs": [
    {
     "name": "stdout",
     "output_type": "stream",
     "text": [
      "dict[1, 3, 5, 8] <class 'types.GenericAlias'>\n"
     ]
    }
   ],
   "source": [
    "#typecasting\n",
    "\n",
    "'''dict function takes sequence of inner sequence where inner sequence is the pair \n",
    "of values out of which the 1st value is the key and the 2nd value is the value.'''\n",
    "\n",
    "a = dict[1, 3, 5, 8]\n",
    "print(a, type(a))"
   ]
  },
  {
   "cell_type": "code",
   "execution_count": 25,
   "id": "91db4ba7",
   "metadata": {},
   "outputs": [
    {
     "name": "stdout",
     "output_type": "stream",
     "text": [
      "{1: [100, 3], 2: 'shreyansh', 3: '(300, 90)', 4: 400} <class 'dict'>\n",
      "{1: 100, 2: 200} <class 'dict'>\n"
     ]
    }
   ],
   "source": [
    "a = dict([(1,[100, 3]), (2, \"shreyansh\"), (3,'(300, 90)'), (4,400)])\n",
    "print((a), type(a))\n",
    "\n",
    "b = dict([ [1,100] , [2,200] ])\n",
    "print(b, type(b))"
   ]
  },
  {
   "cell_type": "code",
   "execution_count": 27,
   "id": "1177f27e",
   "metadata": {},
   "outputs": [
    {
     "name": "stdout",
     "output_type": "stream",
     "text": [
      "{1: [1, 2, 3, 4], 2: 20} <class 'dict'>\n"
     ]
    }
   ],
   "source": [
    "lst = [1,2,3,4] \n",
    "a = dict([(1,lst),(2,20)])\n",
    "\n",
    "print((a), type(a))"
   ]
  },
  {
   "cell_type": "code",
   "execution_count": 29,
   "id": "dafc537d",
   "metadata": {},
   "outputs": [
    {
     "data": {
      "text/plain": [
       "{100: 'abc', 399: 'xyz', 478: 'sdh', 367: 'hdgc'}"
      ]
     },
     "execution_count": 29,
     "metadata": {},
     "output_type": "execute_result"
    }
   ],
   "source": [
    "#Zip\n",
    "\n",
    "a = [100, 399, 478, 367]\n",
    "b= [\"abc\", \"xyz\", \"sdh\", \"hdgc\"]\n",
    "\n",
    "#zip(iterable, iterable)\n",
    "\n",
    "dict(zip(a,b))\n",
    "\n"
   ]
  },
  {
   "cell_type": "code",
   "execution_count": 30,
   "id": "9b7da65b",
   "metadata": {},
   "outputs": [
    {
     "data": {
      "text/plain": [
       "{100: 'abc', 399: 'xyz', 478: 'sdh', 367: 'hdgc'}"
      ]
     },
     "execution_count": 30,
     "metadata": {},
     "output_type": "execute_result"
    }
   ],
   "source": [
    "#Zip\n",
    "\n",
    "a = (100, 399, 478, 367)\n",
    "b= (\"abc\", \"xyz\", \"sdh\", \"hdgc\")\n",
    "\n",
    "#zip(iterable, iterable)\n",
    "\n",
    "dict(zip(a,b))\n",
    "\n"
   ]
  },
  {
   "cell_type": "code",
   "execution_count": 31,
   "id": "7b9e8f73",
   "metadata": {},
   "outputs": [
    {
     "data": {
      "text/plain": [
       "{100: 'abc', 399: 'xyz', 478: 'sdh', 367: 'hdgc'}"
      ]
     },
     "execution_count": 31,
     "metadata": {},
     "output_type": "execute_result"
    }
   ],
   "source": [
    "#Zip\n",
    "\n",
    "a = [100, 399, 478, 367]\n",
    "b= (\"abc\", \"xyz\", \"sdh\", \"hdgc\")\n",
    "\n",
    "#zip(iterable, iterable)\n",
    "\n",
    "dict(zip(a,b))\n",
    "\n"
   ]
  },
  {
   "cell_type": "code",
   "execution_count": 36,
   "id": "39b78518",
   "metadata": {},
   "outputs": [
    {
     "name": "stdout",
     "output_type": "stream",
     "text": [
      "{'A': 'abc', 'B': 'xyz', 'C': 'sdh', 'D': 'hdgc'}\n"
     ]
    }
   ],
   "source": [
    "#Zip\n",
    "\n",
    "a = \"ABCDE\"\n",
    "b= (\"abc\", \"xyz\", \"sdh\", \"hdgc\")\n",
    "\n",
    "#zip(iterable, iterable)\n",
    "\n",
    "print(dict(list(zip(a,b))))\n",
    "\n"
   ]
  },
  {
   "cell_type": "code",
   "execution_count": 37,
   "id": "f24afbb5",
   "metadata": {},
   "outputs": [
    {
     "name": "stdout",
     "output_type": "stream",
     "text": [
      "{1: 'abc', 2: 400, 3: 'xyz'}\n"
     ]
    }
   ],
   "source": [
    "#2. Keys cannot be duplicated:\n",
    "\n",
    "a = {1:\"abc\", 2:200, 2:400, 3:\"xyz\"}\n",
    "print(a)\n",
    "    \n",
    "    "
   ]
  },
  {
   "cell_type": "code",
   "execution_count": null,
   "id": "5f753f82",
   "metadata": {},
   "outputs": [],
   "source": [
    "1 : abc\n",
    "2 : 400\n",
    "3 : xyz "
   ]
  },
  {
   "cell_type": "code",
   "execution_count": 38,
   "id": "fa7aafdc",
   "metadata": {},
   "outputs": [],
   "source": [
    "#3. Values can be duplicated."
   ]
  },
  {
   "cell_type": "code",
   "execution_count": 39,
   "id": "29c0e34f",
   "metadata": {},
   "outputs": [
    {
     "ename": "KeyError",
     "evalue": "0",
     "output_type": "error",
     "traceback": [
      "\u001b[1;31m---------------------------------------------------------------------------\u001b[0m",
      "\u001b[1;31mKeyError\u001b[0m                                  Traceback (most recent call last)",
      "Cell \u001b[1;32mIn[39], line 5\u001b[0m\n\u001b[0;32m      1\u001b[0m \u001b[38;5;66;03m#4. '''Dictionary is not a sequence data type, because we cannot do indexing,\u001b[39;00m\n\u001b[0;32m      2\u001b[0m     \u001b[38;5;66;03m# slicing,concatenation, repetion'''\u001b[39;00m\n\u001b[0;32m      4\u001b[0m a \u001b[38;5;241m=\u001b[39m {\u001b[38;5;241m1\u001b[39m:\u001b[38;5;124m\"\u001b[39m\u001b[38;5;124mabc\u001b[39m\u001b[38;5;124m\"\u001b[39m, \u001b[38;5;241m2\u001b[39m:\u001b[38;5;241m200\u001b[39m, \u001b[38;5;241m2\u001b[39m:\u001b[38;5;241m400\u001b[39m, \u001b[38;5;241m3\u001b[39m:\u001b[38;5;124m\"\u001b[39m\u001b[38;5;124mxyz\u001b[39m\u001b[38;5;124m\"\u001b[39m}\n\u001b[1;32m----> 5\u001b[0m \u001b[38;5;28mprint\u001b[39m(\u001b[43ma\u001b[49m\u001b[43m[\u001b[49m\u001b[38;5;241;43m0\u001b[39;49m\u001b[43m]\u001b[49m)\n",
      "\u001b[1;31mKeyError\u001b[0m: 0"
     ]
    }
   ],
   "source": [
    "#4. '''Dictionary is not a sequence data type, because we cannot do indexing,\n",
    "    # slicing,concatenation, repetion'''\n",
    "    \n",
    "a = {1:\"abc\", 2:200, 2:400, 3:\"xyz\"}\n",
    "print(a[0]) #indexing is not possible\n"
   ]
  },
  {
   "cell_type": "code",
   "execution_count": 43,
   "id": "3b7563dd",
   "metadata": {},
   "outputs": [
    {
     "name": "stdout",
     "output_type": "stream",
     "text": [
      "True\n",
      "False\n"
     ]
    }
   ],
   "source": [
    "#5. Membership can be applied only on keys not on values.\n",
    "\n",
    "a = {1:\"abc\", 2:200, 2:400, 3:\"xyz\"}\n",
    "print(1 in a)\n",
    "print(\"abc\" in a)"
   ]
  },
  {
   "cell_type": "code",
   "execution_count": 44,
   "id": "bfc5eb6d",
   "metadata": {},
   "outputs": [
    {
     "name": "stdout",
     "output_type": "stream",
     "text": [
      "{1: 'mpk', 2: 400, 3: 'xyz'}\n"
     ]
    }
   ],
   "source": [
    "#6. Dictionary is mutable.\n",
    "\n",
    "a[1] = \"mpk\"\n",
    "print(a)"
   ]
  },
  {
   "cell_type": "code",
   "execution_count": 46,
   "id": "200af9c4",
   "metadata": {},
   "outputs": [
    {
     "name": "stdout",
     "output_type": "stream",
     "text": [
      "{'name': 'kriti', 'salary': 300000, 'age': 36} <class 'dict'>\n",
      "{'name': 'kriti', 'salary': 350000, 'age': 36}\n"
     ]
    }
   ],
   "source": [
    "emp_data = {'name': \"kriti\", 'salary': 300000, 'age':36}\n",
    "print(emp_data, type(emp_data))\n",
    "\n",
    "emp_data[\"salary\"] = 350000\n",
    "print(emp_data)"
   ]
  },
  {
   "cell_type": "code",
   "execution_count": 48,
   "id": "c1aa72ae",
   "metadata": {},
   "outputs": [
    {
     "name": "stdout",
     "output_type": "stream",
     "text": [
      "['__class__', '__class_getitem__', '__contains__', '__delattr__', '__delitem__', '__dir__', '__doc__', '__eq__', '__format__', '__ge__', '__getattribute__', '__getitem__', '__gt__', '__hash__', '__init__', '__init_subclass__', '__ior__', '__iter__', '__le__', '__len__', '__lt__', '__ne__', '__new__', '__or__', '__reduce__', '__reduce_ex__', '__repr__', '__reversed__', '__ror__', '__setattr__', '__setitem__', '__sizeof__', '__str__', '__subclasshook__', 'clear', 'copy', 'fromkeys', 'get', 'items', 'keys', 'pop', 'popitem', 'setdefault', 'update', 'values']\n"
     ]
    }
   ],
   "source": [
    "#Methods of Dictionary\n",
    "\n",
    "print(dir(emp_data))"
   ]
  },
  {
   "cell_type": "code",
   "execution_count": 49,
   "id": "0542630b",
   "metadata": {},
   "outputs": [],
   "source": [
    "#'clear', 'copy', 'fromkeys', 'get', 'items', 'keys', 'pop', 'popitem', 'setdefault', 'update', 'values'"
   ]
  },
  {
   "cell_type": "code",
   "execution_count": null,
   "id": "c1ef2b0e",
   "metadata": {},
   "outputs": [],
   "source": [
    "#'', 'copy', '', '', '', '', '', '', '', '', ''"
   ]
  },
  {
   "cell_type": "code",
   "execution_count": 52,
   "id": "7d4eddd2",
   "metadata": {},
   "outputs": [
    {
     "name": "stdout",
     "output_type": "stream",
     "text": [
      "300000\n",
      "None\n"
     ]
    }
   ],
   "source": [
    "#How to access the data?\n",
    "\n",
    "#get\n",
    "#setdefault\n",
    "#update\n",
    "\n",
    "#get\n",
    "\n",
    "\"\"\"if key is present, return its value else return default value.\"\"\"\n",
    "\n",
    "emp_data = {'name': \"kriti\", 'salary': 300000, 'age':36}\n",
    "\n",
    "print(emp_data.get('salary'))\n",
    "print(emp_data.get('id'))"
   ]
  },
  {
   "cell_type": "code",
   "execution_count": 58,
   "id": "fa5438f6",
   "metadata": {},
   "outputs": [
    {
     "name": "stdout",
     "output_type": "stream",
     "text": [
      "36\n",
      "{'name': 'kriti', 'salary': 300000, 'age': 36, 'id': None}\n",
      "{'name': 'kriti', 'salary': 300000, 'age': 36, 'id': 3978}\n"
     ]
    }
   ],
   "source": [
    "#setdefault\n",
    "\n",
    "\"\"\"insert the key with the value of the default if the key is not present else return the value of key\"\"\"\n",
    "\n",
    "print(emp_data.setdefault(\"age\"))\n",
    "print(emp_data)\n",
    "\n",
    "emp_data = {'name': \"kriti\", 'salary': 300000, 'age':36}\n",
    "(emp_data.setdefault(\"id\", 3978))\n",
    "print(emp_data)"
   ]
  },
  {
   "cell_type": "code",
   "execution_count": 60,
   "id": "29981b86",
   "metadata": {},
   "outputs": [
    {
     "name": "stdout",
     "output_type": "stream",
     "text": [
      "{1: 'abc', 2: 'xyz', 4: 'mpq', 3: 'gth'}\n"
     ]
    }
   ],
   "source": [
    "#Update\n",
    "\n",
    "a = {1:\"abc\", 2:\"xyz\"}\n",
    "b = {4:\"mpq\", 3:\"gth\"}\n",
    "\n",
    "a.update(b)\n",
    "print(a)\n",
    "\n"
   ]
  },
  {
   "cell_type": "code",
   "execution_count": 63,
   "id": "6b032902",
   "metadata": {},
   "outputs": [
    {
     "name": "stdout",
     "output_type": "stream",
     "text": [
      "{1: 'abc'}\n"
     ]
    },
    {
     "ename": "KeyError",
     "evalue": "3",
     "output_type": "error",
     "traceback": [
      "\u001b[1;31m---------------------------------------------------------------------------\u001b[0m",
      "\u001b[1;31mKeyError\u001b[0m                                  Traceback (most recent call last)",
      "Cell \u001b[1;32mIn[63], line 12\u001b[0m\n\u001b[0;32m      9\u001b[0m a\u001b[38;5;241m.\u001b[39mpop(\u001b[38;5;241m2\u001b[39m)\n\u001b[0;32m     10\u001b[0m \u001b[38;5;28mprint\u001b[39m(a)\n\u001b[1;32m---> 12\u001b[0m \u001b[43ma\u001b[49m\u001b[38;5;241;43m.\u001b[39;49m\u001b[43mpop\u001b[49m\u001b[43m(\u001b[49m\u001b[38;5;241;43m3\u001b[39;49m\u001b[43m)\u001b[49m\n\u001b[0;32m     13\u001b[0m \u001b[38;5;28mprint\u001b[39m(a)\n",
      "\u001b[1;31mKeyError\u001b[0m: 3"
     ]
    }
   ],
   "source": [
    "#Methods to delete the items from dictionary\n",
    "\n",
    "#pop - removes specified k & return the corresponding value. If k is not present, default is returned\n",
    "       #else raise error.\n",
    "    \n",
    "#popitem -  it removes only last k,v pair \n",
    "\n",
    "#if key is present:\n",
    "\n",
    "a = {1:\"abc\", 2:\"xyz\"}\n",
    "a.pop(2)\n",
    "print(a)\n",
    "\n",
    "a.pop(3)\n",
    "print(a)"
   ]
  },
  {
   "cell_type": "code",
   "execution_count": 67,
   "id": "b509ea0c",
   "metadata": {},
   "outputs": [
    {
     "name": "stdout",
     "output_type": "stream",
     "text": [
      "{1: 'abc', 2: 'xyz', 3: 'djcc'}\n"
     ]
    },
    {
     "ename": "TypeError",
     "evalue": "dict.popitem() takes no arguments (1 given)",
     "output_type": "error",
     "traceback": [
      "\u001b[1;31m---------------------------------------------------------------------------\u001b[0m",
      "\u001b[1;31mTypeError\u001b[0m                                 Traceback (most recent call last)",
      "Cell \u001b[1;32mIn[67], line 6\u001b[0m\n\u001b[0;32m      3\u001b[0m \u001b[38;5;28mprint\u001b[39m(a)\n\u001b[0;32m      5\u001b[0m a \u001b[38;5;241m=\u001b[39m {\u001b[38;5;241m1\u001b[39m:\u001b[38;5;124m\"\u001b[39m\u001b[38;5;124mabc\u001b[39m\u001b[38;5;124m\"\u001b[39m, \u001b[38;5;241m2\u001b[39m:\u001b[38;5;124m\"\u001b[39m\u001b[38;5;124mxyz\u001b[39m\u001b[38;5;124m\"\u001b[39m, \u001b[38;5;241m3\u001b[39m:\u001b[38;5;124m\"\u001b[39m\u001b[38;5;124mdjcc\u001b[39m\u001b[38;5;124m\"\u001b[39m, \u001b[38;5;241m4\u001b[39m:\u001b[38;5;124m\"\u001b[39m\u001b[38;5;124mediu\u001b[39m\u001b[38;5;124m\"\u001b[39m}\n\u001b[1;32m----> 6\u001b[0m \u001b[43ma\u001b[49m\u001b[38;5;241;43m.\u001b[39;49m\u001b[43mpopitem\u001b[49m\u001b[43m(\u001b[49m\u001b[38;5;241;43m2\u001b[39;49m\u001b[43m)\u001b[49m\n\u001b[0;32m      7\u001b[0m \u001b[38;5;28mprint\u001b[39m(a)\n",
      "\u001b[1;31mTypeError\u001b[0m: dict.popitem() takes no arguments (1 given)"
     ]
    }
   ],
   "source": [
    "a = {1:\"abc\", 2:\"xyz\", 3:\"djcc\", 4:\"ediu\"}\n",
    "a.popitem()\n",
    "print(a)\n",
    "\n",
    "a = {1:\"abc\", 2:\"xyz\", 3:\"djcc\", 4:\"ediu\"}\n",
    "a.popitem(2)\n",
    "print(a)\n",
    "\n",
    "# a.pop(3)\n",
    "# print(a)"
   ]
  },
  {
   "cell_type": "code",
   "execution_count": 70,
   "id": "04eaf5f4",
   "metadata": {},
   "outputs": [
    {
     "name": "stdout",
     "output_type": "stream",
     "text": [
      "dict_values(['abc', 'xyz', 'djcc', 'ediu'])\n",
      "<class 'dict_values'>\n"
     ]
    }
   ],
   "source": [
    "#values:\n",
    "\n",
    "a = {1:\"abc\", 2:\"xyz\", 3:\"djcc\", 4:\"ediu\"}\n",
    "\n",
    "x = a.values()\n",
    "print(x)\n",
    "\n",
    "emp_data = {'name': \"kriti\", 'salary': 300000, 'age':36}\n",
    "z=emp_data.values()\n",
    "print(type(z))"
   ]
  },
  {
   "cell_type": "code",
   "execution_count": 72,
   "id": "a87898fe",
   "metadata": {},
   "outputs": [
    {
     "name": "stdout",
     "output_type": "stream",
     "text": [
      "<class 'dict_keys'>\n"
     ]
    }
   ],
   "source": [
    "#keys:\n",
    "\n",
    "y = emp_data.keys()\n",
    "print(type(y))"
   ]
  },
  {
   "cell_type": "code",
   "execution_count": 73,
   "id": "2be843c2",
   "metadata": {},
   "outputs": [],
   "source": [
    "emp_data = {'name': \"kriti\", 'salary': 300000, 'age':36}\n",
    "z=emp_data.values()"
   ]
  },
  {
   "cell_type": "code",
   "execution_count": 79,
   "id": "12fdc014",
   "metadata": {},
   "outputs": [
    {
     "name": "stdout",
     "output_type": "stream",
     "text": [
      "{'brand': 'BMW', 'model': 'm5', 'year': '2024'}\n"
     ]
    }
   ],
   "source": [
    "#items:\n",
    "\n",
    "car = {\"brand\": \"BMW\",\n",
    "      \"model\": \"m5\",\n",
    "      \"year\": \"2024\"}\n",
    "\n",
    "f = car.items()\n",
    "print(dict(f))"
   ]
  },
  {
   "cell_type": "code",
   "execution_count": 81,
   "id": "2c0da0a3",
   "metadata": {},
   "outputs": [
    {
     "name": "stdout",
     "output_type": "stream",
     "text": [
      "{'key2': ('abccc', 'dhjd'), 'key1': ('abccc', 'dhjd'), 'key3': ('abccc', 'dhjd')}\n"
     ]
    }
   ],
   "source": [
    "#fromkeys: it returns a dictionary with the specified keys and a value\n",
    "\n",
    "a = {'key1', 'key2','key3'}\n",
    "y = \"abccc\", \"dhjd\"\n",
    "g = dict.fromkeys(a,y)\n",
    "print(g)"
   ]
  },
  {
   "cell_type": "code",
   "execution_count": 82,
   "id": "87074f72",
   "metadata": {},
   "outputs": [
    {
     "name": "stdout",
     "output_type": "stream",
     "text": [
      "{}\n"
     ]
    }
   ],
   "source": [
    "#clear: removes all the elements from the dictionary\n",
    "\n",
    "car.clear()\n",
    "print(car)"
   ]
  },
  {
   "cell_type": "code",
   "execution_count": 83,
   "id": "0d6ed99b",
   "metadata": {},
   "outputs": [],
   "source": [
    "#Assignments:\n",
    "\n",
    "1.Given a list of products, print out the name of all the products with a price higher than 10 Hint: Use Dictionary \n",
    "    products = [ {'name': 'orange', 'price': 20},\n",
    "    {'name': 'apple', 'price': 8},\n",
    "    {'name': 'banana', 'price': 10},\n",
    "    {'name': 'kiwi', 'price': 30} ]\n",
    "\n",
    "2. Take two list of numbers of products quantities and prices and calculate total\n",
    "   Use list and aggregation Input\n",
    "    product_quantities = [13, 5, 6, 10, 11]\n",
    "    prices = [1.2, 6.5, 1.0, 4.8, 5.0]\n",
    "    Output Total = 157.1\n",
    "    \n",
    "3.Give a list of tickets for candidates, find out who is the winner\n",
    "Ex: [‘a’, ‘b’, ‘a’, ‘c’, ‘a’] Here there are total 3 candidates contesting ‘a’, ‘b’ and ‘c’.\n",
    "And winner is ‘a’ as he got the highest votes"
   ]
  },
  {
   "cell_type": "code",
   "execution_count": 85,
   "id": "dff315f9",
   "metadata": {},
   "outputs": [
    {
     "name": "stdout",
     "output_type": "stream",
     "text": [
      "['Ferrari', 'Tesla']\n"
     ]
    }
   ],
   "source": [
    "#List Comprehension:\n",
    "\"\"\"It offers a shorter syntax when you want to create a new list based on the values of an existing list\"\"\"\n",
    "\n",
    "car = [\"BMW\", \"Audi\", \"Ferrari\", \"Tesla\", \"TATA nano\"]\n",
    "\n",
    "# new_list = []\n",
    "\n",
    "# for i in car:\n",
    "#     if 'e' in i :\n",
    "#         new_list.append(i)\n",
    "# print(new_list)\n",
    "\n",
    "\n",
    "new_list = [i for i in car if 'e' in i]\n",
    "\n",
    "print(new_list)\n",
    "\n"
   ]
  },
  {
   "cell_type": "code",
   "execution_count": 87,
   "id": "e6436575",
   "metadata": {},
   "outputs": [
    {
     "name": "stdout",
     "output_type": "stream",
     "text": [
      "[[0, 1, 2, 3], [0, 1, 2, 3], [0, 1, 2, 3], [0, 1, 2, 3]]\n"
     ]
    }
   ],
   "source": [
    "\n",
    "\n",
    "\n",
    "        "
   ]
  },
  {
   "cell_type": "code",
   "execution_count": null,
   "id": "dc964158",
   "metadata": {},
   "outputs": [],
   "source": []
  }
 ],
 "metadata": {
  "kernelspec": {
   "display_name": "Python 3 (ipykernel)",
   "language": "python",
   "name": "python3"
  },
  "language_info": {
   "codemirror_mode": {
    "name": "ipython",
    "version": 3
   },
   "file_extension": ".py",
   "mimetype": "text/x-python",
   "name": "python",
   "nbconvert_exporter": "python",
   "pygments_lexer": "ipython3",
   "version": "3.10.9"
  }
 },
 "nbformat": 4,
 "nbformat_minor": 5
}
