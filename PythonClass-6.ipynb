{
 "cells": [
  {
   "cell_type": "code",
   "execution_count": 9,
   "id": "cdd630a5",
   "metadata": {},
   "outputs": [
    {
     "name": "stdout",
     "output_type": "stream",
     "text": [
      "[3, 7, 4.5, 9]\n",
      "9\n",
      "[3, 7, 4.5]\n"
     ]
    }
   ],
   "source": [
    "#Pop() - it removes the indicated index element of the list & returns that element\n",
    "         #when there is no index, it provides last element.\n",
    "\n",
    "#syntax: list_name.pop(index)\n",
    "\n",
    "var = [3, 7, 4.5, 9]\n",
    "print(var)\n",
    "\n",
    "print(var.pop())\n",
    "print(var)"
   ]
  },
  {
   "cell_type": "code",
   "execution_count": 2,
   "id": "7bfaead1",
   "metadata": {},
   "outputs": [],
   "source": [
    "# '', '', 'copy', '', '', '', '', '', '', '', ''"
   ]
  },
  {
   "cell_type": "code",
   "execution_count": 5,
   "id": "d974eff5",
   "metadata": {},
   "outputs": [
    {
     "name": "stdout",
     "output_type": "stream",
     "text": [
      "[3, 4.5]\n"
     ]
    }
   ],
   "source": [
    "#remove - it removes the first occurence of the value from a list and it returns none.\n",
    "#list.remove() takes exactly one argument.\n",
    "\n",
    "var.remove(7)\n",
    "print(var)"
   ]
  },
  {
   "cell_type": "code",
   "execution_count": 10,
   "id": "f9f23f25",
   "metadata": {},
   "outputs": [
    {
     "name": "stdout",
     "output_type": "stream",
     "text": [
      "[4, 60, 38, 20, 20, 46]\n"
     ]
    }
   ],
   "source": [
    "lst = [4, 60, 38, 20, 20, 20, 20, 46]\n",
    "\n",
    "print\n",
    "lst.remove(20)\n",
    "print(lst)\n",
    "lst.pop(-2)\n",
    "print(lst)"
   ]
  },
  {
   "cell_type": "code",
   "execution_count": 7,
   "id": "f3687dd0",
   "metadata": {},
   "outputs": [
    {
     "name": "stdout",
     "output_type": "stream",
     "text": [
      "[4, 60, 38, 20, 20, 20, 46]\n"
     ]
    }
   ],
   "source": [
    "print(lst)"
   ]
  },
  {
   "cell_type": "code",
   "execution_count": 8,
   "id": "9250e700",
   "metadata": {},
   "outputs": [
    {
     "ename": "TypeError",
     "evalue": "list.remove() takes exactly one argument (0 given)",
     "output_type": "error",
     "traceback": [
      "\u001b[1;31m---------------------------------------------------------------------------\u001b[0m",
      "\u001b[1;31mTypeError\u001b[0m                                 Traceback (most recent call last)",
      "Cell \u001b[1;32mIn[8], line 1\u001b[0m\n\u001b[1;32m----> 1\u001b[0m \u001b[43mlst\u001b[49m\u001b[38;5;241;43m.\u001b[39;49m\u001b[43mremove\u001b[49m\u001b[43m(\u001b[49m\u001b[43m)\u001b[49m\n",
      "\u001b[1;31mTypeError\u001b[0m: list.remove() takes exactly one argument (0 given)"
     ]
    }
   ],
   "source": [
    "lst.remove()"
   ]
  },
  {
   "cell_type": "code",
   "execution_count": 14,
   "id": "021517a8",
   "metadata": {},
   "outputs": [
    {
     "name": "stdout",
     "output_type": "stream",
     "text": [
      "[8, 3, 6, 1]\n",
      "None\n"
     ]
    }
   ],
   "source": [
    "\n",
    "\n",
    "lst = [1, 6, 3, 8]\n",
    "lst.reverse()\n",
    "print(lst)\n",
    "\n",
    "\n",
    "print(lst.append(123))\n",
    "# print(lst)"
   ]
  },
  {
   "cell_type": "code",
   "execution_count": 16,
   "id": "6d0c7938",
   "metadata": {},
   "outputs": [
    {
     "name": "stdout",
     "output_type": "stream",
     "text": [
      "None\n",
      "[1, 3, 6, 8, 123]\n"
     ]
    }
   ],
   "source": [
    "#Sort function:\n",
    "\n",
    "print(lst.sort())\n",
    "print(lst)"
   ]
  },
  {
   "cell_type": "code",
   "execution_count": 18,
   "id": "4a62bdb8",
   "metadata": {},
   "outputs": [
    {
     "name": "stdout",
     "output_type": "stream",
     "text": [
      "[1, 3, 6, 8, 123]\n"
     ]
    }
   ],
   "source": [
    "print(sorted(lst))"
   ]
  },
  {
   "cell_type": "code",
   "execution_count": 20,
   "id": "a86b2d15",
   "metadata": {},
   "outputs": [
    {
     "name": "stdout",
     "output_type": "stream",
     "text": [
      "[3, 7, 8, 14, 23, 36]\n"
     ]
    }
   ],
   "source": [
    "lst = [3, 7, 8, 36, 23, 14]\n",
    "print(sorted(lst))"
   ]
  },
  {
   "cell_type": "code",
   "execution_count": 22,
   "id": "d3579745",
   "metadata": {},
   "outputs": [
    {
     "name": "stdout",
     "output_type": "stream",
     "text": [
      "[36, 67, 93, 123]\n",
      "[93, 67, 36, 123]\n"
     ]
    }
   ],
   "source": [
    "lst = [93, 67, 36, 123]\n",
    "print(sorted(lst))\n",
    "print(lst)"
   ]
  },
  {
   "cell_type": "code",
   "execution_count": 23,
   "id": "b86ff394",
   "metadata": {},
   "outputs": [],
   "source": [
    "#sort() and sorted() both can be used to arrange our list in asc and desc order but the difference is \n",
    "#sort function works on the memory location and in sorted it will just show your value sorted type.\n",
    "#Sort function works only for homogeneous type of elements\n",
    "#It returns none."
   ]
  },
  {
   "cell_type": "code",
   "execution_count": 25,
   "id": "f830f66a",
   "metadata": {},
   "outputs": [
    {
     "name": "stdout",
     "output_type": "stream",
     "text": [
      "[123, 93, 67, 36]\n"
     ]
    }
   ],
   "source": [
    "#for desc order,\n",
    "\n",
    "lst.sort(reverse=True)\n",
    "print(lst)"
   ]
  },
  {
   "cell_type": "code",
   "execution_count": 26,
   "id": "196726b1",
   "metadata": {},
   "outputs": [
    {
     "name": "stdout",
     "output_type": "stream",
     "text": [
      "['a', 'dth', 'omg', 'rrr']\n"
     ]
    }
   ],
   "source": [
    "lst1 = ['a', 'rrr', 'omg', 'dth']\n",
    "\n",
    "lst1.sort()\n",
    "print(lst1)"
   ]
  },
  {
   "cell_type": "code",
   "execution_count": 28,
   "id": "f1c3c510",
   "metadata": {},
   "outputs": [
    {
     "ename": "TypeError",
     "evalue": "'<' not supported between instances of 'int' and 'str'",
     "output_type": "error",
     "traceback": [
      "\u001b[1;31m---------------------------------------------------------------------------\u001b[0m",
      "\u001b[1;31mTypeError\u001b[0m                                 Traceback (most recent call last)",
      "Cell \u001b[1;32mIn[28], line 3\u001b[0m\n\u001b[0;32m      1\u001b[0m lst1 \u001b[38;5;241m=\u001b[39m [\u001b[38;5;124m'\u001b[39m\u001b[38;5;124mpython\u001b[39m\u001b[38;5;124m'\u001b[39m, \u001b[38;5;241m10\u001b[39m, \u001b[38;5;241m50\u001b[39m, \u001b[38;5;241m89.56\u001b[39m, \u001b[38;5;28;01mTrue\u001b[39;00m, \u001b[38;5;28;01mNone\u001b[39;00m, \u001b[38;5;124m'\u001b[39m\u001b[38;5;124ma\u001b[39m\u001b[38;5;124m'\u001b[39m]\n\u001b[1;32m----> 3\u001b[0m \u001b[43mlst1\u001b[49m\u001b[38;5;241;43m.\u001b[39;49m\u001b[43msort\u001b[49m\u001b[43m(\u001b[49m\u001b[43m)\u001b[49m\n\u001b[0;32m      4\u001b[0m \u001b[38;5;28mprint\u001b[39m(lst1)\n",
      "\u001b[1;31mTypeError\u001b[0m: '<' not supported between instances of 'int' and 'str'"
     ]
    }
   ],
   "source": [
    "lst1 = ['python', 10, 50, 89.56, True, None, 'a']\n",
    "\n",
    "lst1.sort()\n",
    "print(lst1)"
   ]
  },
  {
   "cell_type": "code",
   "execution_count": 31,
   "id": "0c437967",
   "metadata": {},
   "outputs": [
    {
     "name": "stdout",
     "output_type": "stream",
     "text": [
      "[10, 20.6, 38, 68.5, 79, 890]\n"
     ]
    },
    {
     "data": {
      "text/plain": [
       "list"
      ]
     },
     "execution_count": 31,
     "metadata": {},
     "output_type": "execute_result"
    }
   ],
   "source": [
    "lst2 = [10, 20.6, 38, 79, 68.5, 890]\n",
    "\n",
    "lst2.sort()\n",
    "print(lst2)\n",
    "type(lst2)"
   ]
  },
  {
   "cell_type": "code",
   "execution_count": 55,
   "id": "3ee30d2a",
   "metadata": {},
   "outputs": [
    {
     "name": "stdout",
     "output_type": "stream",
     "text": [
      "before aliasing:\n",
      "999 2637407191376\n",
      "999 2637407192944\n",
      "after aliasing\n",
      "999 2637407191376\n",
      "999 2637407192944\n"
     ]
    }
   ],
   "source": [
    "#Copy - 2 types:\n",
    "    #a. Shallow copy\n",
    "    #b. Deep Copy\n",
    "    \n",
    "#Mutable type: it only works for List & Dictionary\n",
    "\n",
    "#Aliasing - Giving a different name to an existing object\n",
    "\n",
    "\n",
    "\n",
    "# a=1000\n",
    "# b=1000\n",
    "\n",
    "a=999\n",
    "b=999\n",
    "\n",
    "print(\"before aliasing:\")\n",
    "print(a, id(a))\n",
    "print(b, id(b))\n",
    "\n",
    "#b=a #Aliasing\n",
    "print(\"after aliasing\")\n",
    "print(a, id(a))\n",
    "print(b, id(b))"
   ]
  },
  {
   "cell_type": "code",
   "execution_count": 41,
   "id": "79dd95c1",
   "metadata": {},
   "outputs": [
    {
     "name": "stdout",
     "output_type": "stream",
     "text": [
      "original list/a list: [10, 20, 30] 2637406970496\n",
      "copied list/b list: [10, 20, 30] 2637406970496\n",
      "original list/a list: [100, 20, 30] 2637406970496\n",
      "copied list/b list: [100, 20, 30] 2637406970496\n"
     ]
    }
   ],
   "source": [
    "a = [10, 20, 30]\n",
    "b=a #aliasing\n",
    "print(\"original list/a list:\",a, id(a))\n",
    "print(\"copied list/b list:\",b, id(b))\n",
    "\n",
    "b[0]=100\n",
    "print(\"original list/a list:\",a, id(a))\n",
    "print(\"copied list/b list:\",b, id(b))"
   ]
  },
  {
   "cell_type": "code",
   "execution_count": 46,
   "id": "84ba8410",
   "metadata": {},
   "outputs": [
    {
     "name": "stdout",
     "output_type": "stream",
     "text": [
      "b4 operation:\n",
      "[10, 20, 30] 2637406911488\n",
      "[10, 20, 30] 2637407258944\n",
      "after operation:\n",
      "[10, 20, 30] 2637406911488\n",
      "[898, 20, 30] 2637407258944\n"
     ]
    }
   ],
   "source": [
    "#Shalow copy - list.copy(), list[::]-slicing\n",
    "\n",
    "#Slicing and copy method will create new object in different memory location.\n",
    "\n",
    "#If you want to update your value in copied list , you should use shalow copy.\n",
    "\n",
    "a = [10, 20, 30]\n",
    "b=a.copy() #even though here aliasing is happening but in different memory loaction\n",
    "\n",
    "print(\"b4 operation:\")\n",
    "print(a, id(a))\n",
    "print(b, id(b))\n",
    "\n",
    "b[0]=898\n",
    "\n",
    "print(\"after operation:\")\n",
    "print(a, id(a))\n",
    "print(b, id(b))\n"
   ]
  },
  {
   "cell_type": "code",
   "execution_count": 56,
   "id": "97cdbdcf",
   "metadata": {},
   "outputs": [
    {
     "name": "stdout",
     "output_type": "stream",
     "text": [
      "b4 operation:\n",
      "[10, 20, 30] 2637407263488\n",
      "[10, 20, 30] 2637407266816\n",
      "after operation:\n",
      "[10, 20, 30] 2637407263488\n",
      "[898, 20, 30] 2637407266816\n"
     ]
    }
   ],
   "source": [
    "a = [10, 20, 30]\n",
    "b=a[::]\n",
    "\n",
    "print(\"b4 operation:\")\n",
    "print(a, id(a))\n",
    "print(b, id(b))\n",
    "\n",
    "b[0]=898\n",
    "\n",
    "print(\"after operation:\")\n",
    "print(a, id(a))\n",
    "print(b, id(b))\n"
   ]
  },
  {
   "cell_type": "code",
   "execution_count": null,
   "id": "1d30eea8",
   "metadata": {},
   "outputs": [],
   "source": [
    "# #DeepCopy\n",
    "# #whenever there is nested list, do deepcopy.\n",
    "\n",
    "# from copy import deepcopy\n",
    "\n",
    "# a = [10, 40, 10,[26, 78], 90]\n",
    "# b=a.copy()\n",
    "\n",
    "# # print(a, id(a))\n",
    "# # print(b, id(b))\n",
    "\n",
    "# # b[2]=876\n",
    "    \n",
    "# # print(a)\n",
    "# # print(b)\n",
    "\n",
    "# #b[3][0]=2600\n",
    "\n",
    "# # print(a, id(a))\n",
    "# # print(b, id(b))\n",
    "# b = deepcopy(a)\n",
    "\n",
    "# b[3][0]=376\n",
    "# print(a, id(a))\n",
    "# print(b, id(b))\n",
    "\n",
    "\n"
   ]
  },
  {
   "cell_type": "markdown",
   "id": "9f29a61a",
   "metadata": {},
   "source": [
    "# Tuple:\n"
   ]
  },
  {
   "cell_type": "code",
   "execution_count": 68,
   "id": "239bdcde",
   "metadata": {},
   "outputs": [
    {
     "name": "stdout",
     "output_type": "stream",
     "text": [
      "(10, 30, 50, 28) <class 'tuple'>\n"
     ]
    }
   ],
   "source": [
    "# Tuple is similar to list but it is immutable, secure and fast to retreive data.\n",
    "\n",
    "tpl = (10, 30, 50, 28)\n",
    "print(tpl, type(tpl))"
   ]
  },
  {
   "cell_type": "code",
   "execution_count": 69,
   "id": "28c7f196",
   "metadata": {},
   "outputs": [
    {
     "name": "stdout",
     "output_type": "stream",
     "text": [
      "<class 'tuple'>\n"
     ]
    }
   ],
   "source": [
    "tpl = 38, 56, 28, 10\n",
    "print(type(tpl))"
   ]
  },
  {
   "cell_type": "code",
   "execution_count": 73,
   "id": "456cc148",
   "metadata": {},
   "outputs": [
    {
     "name": "stdout",
     "output_type": "stream",
     "text": [
      "<class 'tuple'>\n",
      "<class 'list'>\n"
     ]
    }
   ],
   "source": [
    "tpl = (10,) \n",
    "print(type(tpl))\n",
    "\n",
    "lst = [1]\n",
    "print(type(lst))"
   ]
  },
  {
   "cell_type": "code",
   "execution_count": 74,
   "id": "49ee8dcb",
   "metadata": {},
   "outputs": [
    {
     "name": "stdout",
     "output_type": "stream",
     "text": [
      "('p', 'y', 't', 'h', 'o', 'n') (1, 7, 3) (2, 6, 8) (1, 2, 5)\n"
     ]
    }
   ],
   "source": [
    "#Creation of Tuple:\n",
    "\n",
    "tpl1 = tuple('python')\n",
    "tpl2 = tuple([1,7,3])\n",
    "tpl3 = tuple((2, 6, 8))\n",
    "tpl4 = tuple({1:10, 2:30, 5:40})\n",
    "\n",
    "print(tpl1, tpl2, tpl3, tpl4)"
   ]
  },
  {
   "cell_type": "code",
   "execution_count": 77,
   "id": "89489c85",
   "metadata": {},
   "outputs": [
    {
     "name": "stdout",
     "output_type": "stream",
     "text": [
      "enter your tuple:(2, 6, 8)\n",
      "('(', '2', ',', ' ', '6', ',', ' ', '8', ')')\n",
      "enter your tuple:(2, 6, 8)\n",
      "(2, 6, 8)\n"
     ]
    }
   ],
   "source": [
    "tpl = tuple(input(\"enter your tuple:\"))\n",
    "print(tpl)\n",
    "tpl = eval(input(\"enter your tuple:\"))\n",
    "print(tpl)"
   ]
  },
  {
   "cell_type": "code",
   "execution_count": 78,
   "id": "d852037d",
   "metadata": {},
   "outputs": [
    {
     "ename": "TypeError",
     "evalue": "'tuple' object does not support item assignment",
     "output_type": "error",
     "traceback": [
      "\u001b[1;31m---------------------------------------------------------------------------\u001b[0m",
      "\u001b[1;31mTypeError\u001b[0m                                 Traceback (most recent call last)",
      "Cell \u001b[1;32mIn[78], line 3\u001b[0m\n\u001b[0;32m      1\u001b[0m tpl \u001b[38;5;241m=\u001b[39m (\u001b[38;5;241m2\u001b[39m, \u001b[38;5;241m6\u001b[39m, \u001b[38;5;241m7\u001b[39m)\n\u001b[1;32m----> 3\u001b[0m tpl[\u001b[38;5;241m0\u001b[39m] \u001b[38;5;241m=\u001b[39m \u001b[38;5;241m120\u001b[39m\n\u001b[0;32m      5\u001b[0m \u001b[38;5;28mprint\u001b[39m(tpl)\n",
      "\u001b[1;31mTypeError\u001b[0m: 'tuple' object does not support item assignment"
     ]
    }
   ],
   "source": [
    "tpl = (2, 6, 7)\n",
    "\n",
    "tpl[0] = 120\n",
    "\n",
    "print(tpl)"
   ]
  },
  {
   "cell_type": "code",
   "execution_count": 83,
   "id": "5042fe58",
   "metadata": {},
   "outputs": [
    {
     "name": "stdout",
     "output_type": "stream",
     "text": [
      "2637407381760\n",
      "(2, 6, 7, 90, 20)\n",
      "2637407520144\n"
     ]
    }
   ],
   "source": [
    "tpl = (2, 6, 7)\n",
    "print(id(tpl))\n",
    "tpl = tpl + (90,20)\n",
    "print(tpl)\n",
    "print(id(tpl))"
   ]
  },
  {
   "cell_type": "code",
   "execution_count": 84,
   "id": "0a375de6",
   "metadata": {},
   "outputs": [],
   "source": [
    "# # #Tuple Properties:\n",
    "\n",
    "# # 1. Tuple is immutable:\n",
    "# #     a. It does not support item re-assignment\n",
    "# # #   b.  cant change the value\n",
    "\n",
    "# # 2. Tuple is a sequence:\n",
    "#     a. it is a ordered collection of elements\n",
    "#     b. it supports +ve & -ve indexing \n",
    "#     c. +ve index starts from 0 i.e.LHS\n",
    "#     b. -ve index starts from -1 i.e. RHS\n",
    "#     d. Operation - Indexing, slicing, concatenation, repetition, Membership\n"
   ]
  },
  {
   "cell_type": "code",
   "execution_count": 85,
   "id": "b0c62a34",
   "metadata": {},
   "outputs": [
    {
     "name": "stdout",
     "output_type": "stream",
     "text": [
      "(20, 4.3, 789, 'python', None, True)\n"
     ]
    }
   ],
   "source": [
    "#Tuple can have heterogeneous values.\n",
    "\n",
    "tpl = (20, 4.3, 789, \"python\", None, True)\n",
    "print(tpl)"
   ]
  },
  {
   "cell_type": "code",
   "execution_count": 90,
   "id": "a0908dbd",
   "metadata": {},
   "outputs": [
    {
     "name": "stdout",
     "output_type": "stream",
     "text": [
      "(20, 20, 20, 4.3, 789, 'python', None, True)\n",
      "['nandita']\n"
     ]
    }
   ],
   "source": [
    "#Tuple can duplicate values\n",
    "\n",
    "tpl = (20, 20, 20, 4.3, 789, 'python', None, True)\n",
    "print(tpl)\n",
    "\n",
    "a = ['nandita']\n",
    "print(a)"
   ]
  },
  {
   "cell_type": "code",
   "execution_count": 87,
   "id": "2580646d",
   "metadata": {},
   "outputs": [
    {
     "name": "stdout",
     "output_type": "stream",
     "text": [
      "['__add__', '__class__', '__class_getitem__', '__contains__', '__delattr__', '__dir__', '__doc__', '__eq__', '__format__', '__ge__', '__getattribute__', '__getitem__', '__getnewargs__', '__gt__', '__hash__', '__init__', '__init_subclass__', '__iter__', '__le__', '__len__', '__lt__', '__mul__', '__ne__', '__new__', '__reduce__', '__reduce_ex__', '__repr__', '__rmul__', '__setattr__', '__sizeof__', '__str__', '__subclasshook__', 'count', 'index']\n"
     ]
    }
   ],
   "source": [
    "#Tuple Method:\n",
    "\n",
    "print(dir(tpl))"
   ]
  },
  {
   "cell_type": "code",
   "execution_count": 92,
   "id": "2053dd4a",
   "metadata": {},
   "outputs": [],
   "source": [
    "# ['__add__', '__class__', '__class_getitem__', '__contains__', '__delattr__', '__dir__', \n",
    "#  '__doc__', '__eq__', '__format__', '__ge__', '__getattribute__', '__getitem__', \n",
    "#  '__getnewargs__', '__gt__', '__hash__', '__init__', '__init_subclass__', '__iter__',\n",
    "#  '__le__', '__len__', '__lt__', '__mul__', '__ne__', '__new__', '__reduce__',\n",
    "#  '__reduce_ex__', '__repr__', '__rmul__', '__setattr__', '__sizeof__', '__str__',\n",
    "#  '__subclasshook__', 'count', 'index']"
   ]
  },
  {
   "cell_type": "code",
   "execution_count": 93,
   "id": "9133ab35",
   "metadata": {},
   "outputs": [],
   "source": [
    "#Assignments:\n",
    "\n",
    "1.Write a program to solve a classic ancient Chinese puzzle: We count 35 heads\n",
    "and 94 legs among the chickens and rabbits in a farm. How many rabbits and\n",
    "how many chickens do we have? [3-marks]\n",
    "Hint: Use for loop to iterate all possible solutions\n",
    "    \n",
    "2.Take two list of numbers and generate a list of tuples that are combo of the n\n",
    "such that two numbers in the pair are not equal.[1-mark]\n",
    "\n",
    "3. Take a sentence and output the frequency of words in the sentence.[1-mark]\n"
   ]
  },
  {
   "cell_type": "code",
   "execution_count": null,
   "id": "629f5238",
   "metadata": {},
   "outputs": [],
   "source": []
  }
 ],
 "metadata": {
  "kernelspec": {
   "display_name": "Python 3 (ipykernel)",
   "language": "python",
   "name": "python3"
  },
  "language_info": {
   "codemirror_mode": {
    "name": "ipython",
    "version": 3
   },
   "file_extension": ".py",
   "mimetype": "text/x-python",
   "name": "python",
   "nbconvert_exporter": "python",
   "pygments_lexer": "ipython3",
   "version": "3.10.9"
  }
 },
 "nbformat": 4,
 "nbformat_minor": 5
}
