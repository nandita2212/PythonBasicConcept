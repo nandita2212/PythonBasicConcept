{
 "cells": [
  {
   "cell_type": "markdown",
   "id": "365a037f",
   "metadata": {},
   "source": [
    "# Comprehension"
   ]
  },
  {
   "cell_type": "markdown",
   "id": "5ce2c9af",
   "metadata": {},
   "source": [
    "How to find if data type is iterable or not?\n",
    "\n",
    "1. len() - if you are able to find length of your data type then it is iterable.\n",
    "2. dir(datatype) - then search for \"_iter_\""
   ]
  },
  {
   "cell_type": "code",
   "execution_count": null,
   "id": "78236c99",
   "metadata": {},
   "outputs": [],
   "source": [
    "dir(float)"
   ]
  },
  {
   "cell_type": "markdown",
   "id": "daf74c81",
   "metadata": {},
   "source": [
    "Syntax: [expression for var in iterable if condition]"
   ]
  },
  {
   "cell_type": "code",
   "execution_count": 7,
   "id": "b69183e9",
   "metadata": {},
   "outputs": [
    {
     "name": "stdout",
     "output_type": "stream",
     "text": [
      "[2, 6, 14, 16]\n"
     ]
    }
   ],
   "source": [
    "num = [1, 3, 7, 8]\n",
    "result = []\n",
    "\n",
    "for i in num:\n",
    "    i = i*2\n",
    "    result.append(i)\n",
    "print(result)"
   ]
  },
  {
   "cell_type": "code",
   "execution_count": 8,
   "id": "bc549ccb",
   "metadata": {},
   "outputs": [
    {
     "name": "stdout",
     "output_type": "stream",
     "text": [
      "[2, 6, 14, 16]\n"
     ]
    }
   ],
   "source": [
    "result = [i*2 for i in num]\n",
    "print(result)"
   ]
  },
  {
   "cell_type": "code",
   "execution_count": 18,
   "id": "5ea22588",
   "metadata": {},
   "outputs": [],
   "source": [
    "stringss = ['priya', 'ankita','gita', 'ram']\n",
    "res = []"
   ]
  },
  {
   "cell_type": "code",
   "execution_count": 19,
   "id": "b8492e32",
   "metadata": {},
   "outputs": [
    {
     "name": "stdout",
     "output_type": "stream",
     "text": [
      "['PRIYA', 'ANKITA', 'GITA', 'RAM']\n"
     ]
    }
   ],
   "source": [
    "for i in stringss:\n",
    "    #i = i.upper()\n",
    "    res.append(i.upper())\n",
    "\n",
    "print(res)\n",
    "    "
   ]
  },
  {
   "cell_type": "code",
   "execution_count": 14,
   "id": "0611cccc",
   "metadata": {},
   "outputs": [
    {
     "name": "stdout",
     "output_type": "stream",
     "text": [
      "['PRIYAhey', 'ANKITAhey', 'GITAhey', 'RAMhey']\n"
     ]
    }
   ],
   "source": [
    "ress = [i.upper()+\"hey\" for i in stringss]\n",
    "print(ress)"
   ]
  },
  {
   "cell_type": "code",
   "execution_count": 15,
   "id": "b1b1c405",
   "metadata": {},
   "outputs": [
    {
     "name": "stdout",
     "output_type": "stream",
     "text": [
      "[1, 4, 9, 16, 25, 36, 49, 64, 81]\n"
     ]
    }
   ],
   "source": [
    "outputlst = []\n",
    "for i in range(1,10):\n",
    "    outputlst.append(i**2)\n",
    "print(outputlst)"
   ]
  },
  {
   "cell_type": "code",
   "execution_count": 21,
   "id": "fa54cdd2",
   "metadata": {},
   "outputs": [
    {
     "name": "stdout",
     "output_type": "stream",
     "text": [
      "[1, 4, 9, 16, 25, 36, 49, 64, 81]\n"
     ]
    }
   ],
   "source": [
    "outputlst = [i**2 for i in range(1,10)]\n",
    "print(outputlst)"
   ]
  },
  {
   "cell_type": "code",
   "execution_count": 22,
   "id": "48420766",
   "metadata": {},
   "outputs": [
    {
     "name": "stdout",
     "output_type": "stream",
     "text": [
      "[1, 9, 25, 49, 81]\n"
     ]
    }
   ],
   "source": [
    "#Square of all odd no.s\n",
    "\n",
    "odd_sq = []\n",
    "\n",
    "for i in range(1,11):\n",
    "    if i%2 == 1:\n",
    "        odd_sq.append(i**2)\n",
    "print(odd_sq)"
   ]
  },
  {
   "cell_type": "code",
   "execution_count": 24,
   "id": "18d1a754",
   "metadata": {},
   "outputs": [
    {
     "name": "stdout",
     "output_type": "stream",
     "text": [
      "[1, 9, 25, 49, 81]\n"
     ]
    }
   ],
   "source": [
    "odd_sqr = [i**2 for i in range(1,11) if i%2 ==1]\n",
    "print(odd_sqr)"
   ]
  },
  {
   "cell_type": "code",
   "execution_count": 25,
   "id": "27029f5a",
   "metadata": {},
   "outputs": [
    {
     "name": "stdout",
     "output_type": "stream",
     "text": [
      "[2, 4, 8, 16, 32, 64, 128, 256]\n"
     ]
    }
   ],
   "source": [
    "#print all no.s that is power of 2 from 1 to 8\n",
    "\n",
    "lst2 = [1,2,3,4,5,6,7,8]\n",
    "\n",
    "power_of_2 = []\n",
    "\n",
    "for x in range(1,9):\n",
    "    power_of_2.append(2**x)\n",
    "print(power_of_2)"
   ]
  },
  {
   "cell_type": "code",
   "execution_count": 26,
   "id": "d35407b6",
   "metadata": {},
   "outputs": [
    {
     "name": "stdout",
     "output_type": "stream",
     "text": [
      "[1, 4, 9, 8, 25, 12, 49, 16, 81, 20]\n"
     ]
    }
   ],
   "source": [
    "lst1 = []\n",
    "\n",
    "for x in range(1,11):\n",
    "    if x%2 == 1:\n",
    "        lst1.append(x**2)\n",
    "        \n",
    "    else:\n",
    "        lst1.append(x*2)\n",
    "        \n",
    "print(lst1)"
   ]
  },
  {
   "cell_type": "code",
   "execution_count": 27,
   "id": "d7841cd7",
   "metadata": {},
   "outputs": [],
   "source": [
    "lst11 = [x**2 if x%2==1 else x*2 for x in range(1,11) ]"
   ]
  },
  {
   "cell_type": "code",
   "execution_count": 42,
   "id": "a11e98ee",
   "metadata": {},
   "outputs": [
    {
     "name": "stdout",
     "output_type": "stream",
     "text": [
      "['1', '2', '6', '1', '8', '7']\n"
     ]
    }
   ],
   "source": [
    "stringsssw = \"my phone no. is : 126187\"\n",
    "\n",
    "lst55 = []\n",
    "\n",
    "for x in stringsssw:\n",
    "    if (x.isdigit()) == True:\n",
    "        lst55.append(x)\n",
    "print(lst55)\n",
    "        "
   ]
  },
  {
   "cell_type": "code",
   "execution_count": 43,
   "id": "3d17d632",
   "metadata": {},
   "outputs": [
    {
     "name": "stdout",
     "output_type": "stream",
     "text": [
      "['1', '2', '6', '1', '8', '7']\n"
     ]
    }
   ],
   "source": [
    "stringsssw = [x for x in stringsssw if x.isdigit()]\n",
    "print(stringsssw)"
   ]
  },
  {
   "cell_type": "code",
   "execution_count": 45,
   "id": "8213594b",
   "metadata": {},
   "outputs": [
    {
     "name": "stdout",
     "output_type": "stream",
     "text": [
      "enter a no.:6\n",
      "[[6, 1, 6], [6, 2, 12], [6, 3, 18], [6, 4, 24], [6, 5, 30], [6, 6, 36], [6, 7, 42], [6, 8, 48], [6, 9, 54], [6, 10, 60]]\n"
     ]
    }
   ],
   "source": [
    "#Write a code to find list of list for multiplication table\n",
    "\n",
    "num= int(input(\"enter a no.:\"))\n",
    "res = []\n",
    "for i in range(1,11):\n",
    "    res.append([num,i,num*i])\n",
    "    \n",
    "print(res)"
   ]
  },
  {
   "cell_type": "code",
   "execution_count": 46,
   "id": "ed65e559",
   "metadata": {},
   "outputs": [
    {
     "name": "stdout",
     "output_type": "stream",
     "text": [
      "enter a no.:2\n",
      "[[2, 1, 2], [2, 2, 4], [2, 3, 6], [2, 4, 8], [2, 5, 10], [2, 6, 12], [2, 7, 14], [2, 8, 16], [2, 9, 18], [2, 10, 20]]\n"
     ]
    }
   ],
   "source": [
    "a = int(input(\"enter a no.:\"))\n",
    "\n",
    "table = [[a,b,a*b] for b in range(1,11)]\n",
    "print(table)"
   ]
  },
  {
   "cell_type": "code",
   "execution_count": 48,
   "id": "d9703d20",
   "metadata": {},
   "outputs": [
    {
     "name": "stdout",
     "output_type": "stream",
     "text": [
      "[[0, 1, 2, 3, 4], [0, 1, 2, 3, 4], [0, 1, 2, 3, 4]]\n"
     ]
    }
   ],
   "source": [
    "tabl =[]\n",
    "for i in range(3):\n",
    "    tabl.append([])\n",
    "    for j in range(5):\n",
    "        tabl[i].append(j)\n",
    "print(tabl)\n",
    "    "
   ]
  },
  {
   "cell_type": "code",
   "execution_count": 49,
   "id": "8b368891",
   "metadata": {},
   "outputs": [
    {
     "name": "stdout",
     "output_type": "stream",
     "text": [
      "[[0, 1, 2, 3, 4], [0, 1, 2, 3, 4], [0, 1, 2, 3, 4]]\n"
     ]
    }
   ],
   "source": [
    "tabll = [[j for j in range(5)] for i in range(3)]\n",
    "print(tabll)\n"
   ]
  },
  {
   "cell_type": "code",
   "execution_count": 55,
   "id": "05176fce",
   "metadata": {},
   "outputs": [],
   "source": [
    "tablll=[[1,2,3],[5,7],[7,6,3]]\n",
    "\n",
    "# [1,2,3,5,7,7,6,3]"
   ]
  },
  {
   "cell_type": "code",
   "execution_count": 56,
   "id": "6ea43346",
   "metadata": {},
   "outputs": [
    {
     "name": "stdout",
     "output_type": "stream",
     "text": [
      "[1, 2, 3, 5, 7, 7, 6, 3]\n"
     ]
    }
   ],
   "source": [
    "outtput = []\n",
    "\n",
    "for i in tablll:\n",
    "    for j in i:\n",
    "        outtput.append(j)\n",
    "print(outtput)"
   ]
  },
  {
   "cell_type": "code",
   "execution_count": 57,
   "id": "15005804",
   "metadata": {},
   "outputs": [
    {
     "name": "stdout",
     "output_type": "stream",
     "text": [
      "[1, 2, 3, 5, 7, 7, 6, 3]\n"
     ]
    }
   ],
   "source": [
    "outtput = [j for i in tablll for j in i]\n",
    "print(outtput)"
   ]
  },
  {
   "cell_type": "markdown",
   "id": "426fd2af",
   "metadata": {},
   "source": [
    "# DictionaryComprehension"
   ]
  },
  {
   "cell_type": "code",
   "execution_count": 60,
   "id": "deb26255",
   "metadata": {},
   "outputs": [
    {
     "name": "stdout",
     "output_type": "stream",
     "text": [
      "{1: 1, 7: 343}\n"
     ]
    }
   ],
   "source": [
    "lst1 = [1,2,4, 7, 8, 34, 68]\n",
    "\n",
    "out_dict = {}\n",
    "\n",
    "for i in lst1:\n",
    "    if i%2 != 0:\n",
    "        out_dict[i] = i**3\n",
    "print(out_dict)"
   ]
  },
  {
   "cell_type": "code",
   "execution_count": 61,
   "id": "422ba4fd",
   "metadata": {},
   "outputs": [
    {
     "name": "stdout",
     "output_type": "stream",
     "text": [
      "{1: 1, 7: 343}\n"
     ]
    }
   ],
   "source": [
    "outt_dictt = {i:i**3 for i in lst1 if i%2 != 0}\n",
    "print(outt_dictt)"
   ]
  },
  {
   "cell_type": "code",
   "execution_count": 62,
   "id": "b6b2d54c",
   "metadata": {},
   "outputs": [
    {
     "name": "stdout",
     "output_type": "stream",
     "text": [
      "{'tees': 'levis', 'tops': 'puma', 'jeans': 'nike', 'sshirt': 'adidas'}\n"
     ]
    }
   ],
   "source": [
    "cloths = [\"tees\",\"tops\",\"jeans\",\"sshirt\"]\n",
    "brand = [\"levis\", \"puma\", \"nike\",\"adidas\"]\n",
    "\n",
    "out_dicttt={}\n",
    "\n",
    "for k,v in zip(cloths,brand):\n",
    "    out_dicttt[k]=v\n",
    "    \n",
    "print(out_dicttt)"
   ]
  },
  {
   "cell_type": "code",
   "execution_count": 63,
   "id": "65c342ad",
   "metadata": {},
   "outputs": [
    {
     "name": "stdout",
     "output_type": "stream",
     "text": [
      "{'tees': 'levis', 'tops': 'puma', 'jeans': 'nike', 'sshirt': 'adidas'}\n"
     ]
    }
   ],
   "source": [
    "outt_dict = {k:v for k,v in zip(cloths,brand)}\n",
    "print(outt_dict)"
   ]
  },
  {
   "cell_type": "code",
   "execution_count": 68,
   "id": "b15b7c16",
   "metadata": {},
   "outputs": [
    {
     "name": "stdout",
     "output_type": "stream",
     "text": [
      "{2, 4, 38, 8, 10, 56}\n"
     ]
    }
   ],
   "source": [
    "#set\n",
    "\n",
    "input = [1,2,3,5,2,2,4,4,4,8,10,56,38]\n",
    "\n",
    "out = set() #to declare a vacant set \n",
    "\n",
    "for var in input:\n",
    "    if var %2 ==0:\n",
    "        out.add(var)\n",
    "print(out)"
   ]
  },
  {
   "cell_type": "code",
   "execution_count": 69,
   "id": "0564fe92",
   "metadata": {},
   "outputs": [
    {
     "name": "stdout",
     "output_type": "stream",
     "text": [
      "{2, 4, 38, 8, 10, 56}\n"
     ]
    }
   ],
   "source": [
    "outt = {var for var in input if var%2==0}\n",
    "print(outt)"
   ]
  },
  {
   "cell_type": "code",
   "execution_count": 70,
   "id": "24adda83",
   "metadata": {},
   "outputs": [
    {
     "name": "stdout",
     "output_type": "stream",
     "text": [
      "3\n"
     ]
    }
   ],
   "source": [
    "#find count of number of spaces in a string\n",
    "\n",
    "string = \"python is a language.\"\n",
    "\n",
    "answer = len([i for i in string if i ==\" \"])\n",
    "print(answer)"
   ]
  },
  {
   "cell_type": "code",
   "execution_count": 74,
   "id": "3092b28c",
   "metadata": {},
   "outputs": [
    {
     "name": "stdout",
     "output_type": "stream",
     "text": [
      "{'python': 6, 'is': 2, 'a': 1, 'language.': 9}\n"
     ]
    }
   ],
   "source": [
    "#count length of each word in a string\n",
    "\n",
    "answerr = {word:len(word) for word in string.split(\" \")}\n",
    "print(answerr)\n"
   ]
  },
  {
   "cell_type": "code",
   "execution_count": null,
   "id": "18551502",
   "metadata": {},
   "outputs": [],
   "source": []
  }
 ],
 "metadata": {
  "kernelspec": {
   "display_name": "Python 3 (ipykernel)",
   "language": "python",
   "name": "python3"
  },
  "language_info": {
   "codemirror_mode": {
    "name": "ipython",
    "version": 3
   },
   "file_extension": ".py",
   "mimetype": "text/x-python",
   "name": "python",
   "nbconvert_exporter": "python",
   "pygments_lexer": "ipython3",
   "version": "3.10.9"
  }
 },
 "nbformat": 4,
 "nbformat_minor": 5
}
