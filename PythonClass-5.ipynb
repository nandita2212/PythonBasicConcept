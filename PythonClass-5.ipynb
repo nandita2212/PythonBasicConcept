{
 "cells": [
  {
   "cell_type": "code",
   "execution_count": 1,
   "id": "a3f20c3b",
   "metadata": {},
   "outputs": [],
   "source": [
    "# When we are not aware of the no. iteration then use While Loop.\\\n",
    "# To start or stop execution we need to satisfy or unsatisfy our condition respectively."
   ]
  },
  {
   "cell_type": "code",
   "execution_count": 2,
   "id": "c139359a",
   "metadata": {},
   "outputs": [],
   "source": [
    "# #Syntax:\n",
    "\n",
    "# 1. initialization\n",
    "# 2. Condition check\n",
    "# 3. increament/decreament"
   ]
  },
  {
   "cell_type": "code",
   "execution_count": 3,
   "id": "45ca86e7",
   "metadata": {},
   "outputs": [
    {
     "name": "stdout",
     "output_type": "stream",
     "text": [
      "python is better than any other language.\n",
      "python is better than any other language.\n",
      "python is better than any other language.\n",
      "python is better than any other language.\n",
      "python is better than any other language.\n",
      "python is better than any other language.\n",
      "python is better than any other language.\n",
      "python is better than any other language.\n",
      "python is better than any other language.\n",
      "python is better than any other language.\n"
     ]
    }
   ],
   "source": [
    "i=0\n",
    "while i<10:\n",
    "    print(\"python is better than any other language.\")\n",
    "    i += 1"
   ]
  },
  {
   "cell_type": "code",
   "execution_count": 4,
   "id": "5ee56a4e",
   "metadata": {},
   "outputs": [],
   "source": [
    "# i = 0\n",
    "# while i< 7:\n",
    "#     print(\"statement\")\n",
    "#     i -= 2"
   ]
  },
  {
   "cell_type": "code",
   "execution_count": 5,
   "id": "438d89dc",
   "metadata": {},
   "outputs": [
    {
     "name": "stdout",
     "output_type": "stream",
     "text": [
      "2\n"
     ]
    }
   ],
   "source": [
    "i = 0\n",
    "j = True\n",
    "while j:\n",
    "    i += 1\n",
    "    if i==2:\n",
    "        print(i)\n",
    "        j=False"
   ]
  },
  {
   "cell_type": "code",
   "execution_count": 6,
   "id": "ddb853c6",
   "metadata": {},
   "outputs": [],
   "source": [
    "# i = 0\n",
    "# j = True\n",
    "# while j:\n",
    "#     i += 1\n",
    "#     if i==5:\n",
    "#         print(i)\n",
    "#         #j=False"
   ]
  },
  {
   "cell_type": "code",
   "execution_count": 7,
   "id": "1de33eef",
   "metadata": {},
   "outputs": [],
   "source": [
    "# a = 'python'\n",
    "\n",
    "# #p\n",
    "# yy\n",
    "# ttt\n",
    "# hhhh\n",
    "# ooooo\n",
    "# nnnnnn"
   ]
  },
  {
   "cell_type": "code",
   "execution_count": 9,
   "id": "975cd220",
   "metadata": {},
   "outputs": [
    {
     "name": "stdout",
     "output_type": "stream",
     "text": [
      "p\n",
      "yy\n",
      "yyy\n",
      "yyyy\n",
      "yyyyy\n",
      "yyyyyy\n"
     ]
    }
   ],
   "source": [
    "a='python'\n",
    "\n",
    "print(a[0])\n",
    "print(a[1]*2)\n",
    "print(a[1]*3)\n",
    "print(a[1]*4)\n",
    "print(a[1]*5)\n",
    "print(a[1]*6)"
   ]
  },
  {
   "cell_type": "code",
   "execution_count": 11,
   "id": "2642d994",
   "metadata": {},
   "outputs": [
    {
     "name": "stdout",
     "output_type": "stream",
     "text": [
      "p\n",
      "yy\n",
      "ttt\n",
      "hhhh\n",
      "ooooo\n",
      "nnnnnn\n"
     ]
    }
   ],
   "source": [
    "for i in range(0,len(a)):\n",
    "    print(a[i]*(i+1))"
   ]
  },
  {
   "cell_type": "code",
   "execution_count": 14,
   "id": "0d6ddbec",
   "metadata": {},
   "outputs": [
    {
     "name": "stdout",
     "output_type": "stream",
     "text": [
      "p\n",
      "yy\n",
      "ttt\n",
      "hhhh\n",
      "ooooo\n",
      "nnnnnn\n"
     ]
    }
   ],
   "source": [
    "i=0\n",
    "while i<len(a):\n",
    "    \n",
    "    print(a[i]*(i+1))\n",
    "    i += 1"
   ]
  },
  {
   "cell_type": "markdown",
   "id": "01fc02d2",
   "metadata": {},
   "source": [
    "# LIST:"
   ]
  },
  {
   "cell_type": "code",
   "execution_count": 15,
   "id": "0d9db023",
   "metadata": {},
   "outputs": [],
   "source": [
    "empname = 'abc'\n",
    "# empid = 78\n",
    "# empsal = 65000\n",
    "\n",
    "# emp_detail = ['abc', 78, 65000]"
   ]
  },
  {
   "cell_type": "code",
   "execution_count": 16,
   "id": "2aef87fe",
   "metadata": {},
   "outputs": [],
   "source": [
    "#Store data in index form.\n",
    "# it can have any form/heterogeneous data ana in any no.\n",
    "#each value is an element of the list "
   ]
  },
  {
   "cell_type": "code",
   "execution_count": 23,
   "id": "919d0854",
   "metadata": {},
   "outputs": [
    {
     "name": "stdout",
     "output_type": "stream",
     "text": [
      "['P', 'y', 't', 'h', 'o', 'n']\n",
      "[10, 40, 67, 89]\n",
      "[56, 89, 28, 56]\n",
      "[{1: 'abc'}, {2: '1050'}]\n"
     ]
    }
   ],
   "source": [
    "#How Can we create list?\n",
    "\n",
    "#Typecast:\n",
    "\n",
    "lst1 = list('Python')\n",
    "print(lst1)\n",
    "lst2 = list([10,40,67,89])\n",
    "print(lst2)\n",
    "lst3 = list((56, 89, 28, 56))\n",
    "print(lst3)\n",
    "lst4 = list(({1:'abc'},{2:'1050'}))\n",
    "print(lst4)"
   ]
  },
  {
   "cell_type": "code",
   "execution_count": 44,
   "id": "4f33b276",
   "metadata": {},
   "outputs": [
    {
     "name": "stdout",
     "output_type": "stream",
     "text": [
      "enter list:[2, 8, 5,8\n",
      "['[', '2', ',', ' ', '8', ',', ' ', '5', ',', '8']\n",
      "<class 'list'>\n",
      "enter list:[7, 8, 4, 6]\n",
      "[7, 8, 4, 6]\n",
      "<class 'list'>\n"
     ]
    }
   ],
   "source": [
    "#Taking list from input user\n",
    "\n",
    "lst1 = list(input(\"enter list:\"))\n",
    "print(lst1)\n",
    "print(type(lst1))\n",
    "\n",
    "\n",
    "lst2 = list(eval(input(\"enter list:\")))\n",
    "print(lst2)\n",
    "print(type(lst2))\n",
    "\n"
   ]
  },
  {
   "cell_type": "code",
   "execution_count": 29,
   "id": "bc464551",
   "metadata": {},
   "outputs": [],
   "source": [
    "# # #List Properties:\n",
    "\n",
    "# # 1. List is mutable:\n",
    "# #     a. It supports item re-assignment\n",
    "# # #     b.  can change the value\n",
    "\n",
    "# # 2. List is a sequence:\n",
    "#     a. it is a ordered collection of elements\n",
    "#     b. it supports +ve & -ve indexing \n",
    "#     c. +ve index starts from 0 i.e.LHS\n",
    "#     b. -ve index starts from -1 i.e. RHS\n",
    "#     d. Operation - Indexing, slicing, concatenation, repetition, Membership\n"
   ]
  },
  {
   "cell_type": "code",
   "execution_count": 33,
   "id": "2e57d48a",
   "metadata": {},
   "outputs": [
    {
     "name": "stdout",
     "output_type": "stream",
     "text": [
      "before operation\n",
      "[1, 7, 4, 89] <class 'list'> 1241689928128\n",
      "after operation\n",
      "[656, 7, 4, 89] <class 'list'> 1241689928128\n"
     ]
    }
   ],
   "source": [
    "lst = [1, 7, 4, 89]\n",
    "print(\"before operation\")\n",
    "print(lst, type(lst), id(lst))\n",
    "\n",
    "lst[0] = 656\n",
    "print(\"after operation\")\n",
    "print(lst, type(lst), id(lst))"
   ]
  },
  {
   "cell_type": "code",
   "execution_count": 36,
   "id": "ea0423b5",
   "metadata": {},
   "outputs": [
    {
     "name": "stdout",
     "output_type": "stream",
     "text": [
      "Accessing 1st element\n",
      "20\n",
      "20\n",
      "20\n",
      "Accessing last element\n",
      "45\n",
      "45\n",
      "45\n"
     ]
    }
   ],
   "source": [
    "my_lst = [20, 40, 78, 37, 45]\n",
    "\n",
    "print(\"Accessing 1st element\")\n",
    "print(my_lst[0])\n",
    "print(my_lst[-5])\n",
    "print(my_lst[-len(my_lst)])\n",
    "\n",
    "print(\"Accessing last element\")\n",
    "\n",
    "print(my_lst[4])\n",
    "print(my_lst[-1])\n",
    "print(my_lst[len(my_lst)-1])"
   ]
  },
  {
   "cell_type": "code",
   "execution_count": 37,
   "id": "5a84942f",
   "metadata": {},
   "outputs": [],
   "source": [
    "#Slicing\n",
    "\n",
    "#lst_name[start:stop:step]\n",
    "\n"
   ]
  },
  {
   "cell_type": "code",
   "execution_count": 47,
   "id": "ca1dec6f",
   "metadata": {},
   "outputs": [
    {
     "name": "stdout",
     "output_type": "stream",
     "text": [
      "1241718299776\n",
      "1241718294656\n",
      "[289, 78, 46, 78, 26, 1, 3, 5, 6]\n",
      "[289, 78, 46, 78, 26]\n",
      "1241717929728\n"
     ]
    }
   ],
   "source": [
    "# #Concatenation:\n",
    "\n",
    "# 1.Both operand should be list type.\n",
    "# 2. Returns a new list object.\n",
    "\n",
    "lst1 = [289, 78, 46, 78, 26]\n",
    "print(id(lst1))\n",
    "lst2 = [1, 3, 5, 6]\n",
    "print(id(lst2))\n",
    "lst2 = lst1 +lst2\n",
    "\n",
    "print(lst2)\n",
    "print(lst1)\n",
    "print(id(lst2))\n"
   ]
  },
  {
   "cell_type": "code",
   "execution_count": 48,
   "id": "4b98fa10",
   "metadata": {},
   "outputs": [
    {
     "name": "stdout",
     "output_type": "stream",
     "text": [
      "[2, 7, 8, 30, 45, 2, 7, 8, 30, 45, 2, 7, 8, 30, 45, 2, 7, 8, 30, 45]\n"
     ]
    }
   ],
   "source": [
    "#Repetition:\n",
    "lst = [2, 7, 8, 30, 45]\n",
    "lst3 =lst*4\n",
    "print(lst3)"
   ]
  },
  {
   "cell_type": "code",
   "execution_count": 49,
   "id": "7331af50",
   "metadata": {},
   "outputs": [
    {
     "name": "stdout",
     "output_type": "stream",
     "text": [
      "True\n",
      "False\n"
     ]
    }
   ],
   "source": [
    "#Membership:\n",
    "\n",
    "my_lst = [10, 10.7, 30, 'python', None]\n",
    "print('python' in my_lst)\n",
    "print('py' in my_lst)"
   ]
  },
  {
   "cell_type": "code",
   "execution_count": 51,
   "id": "03931820",
   "metadata": {},
   "outputs": [
    {
     "data": {
      "text/plain": [
       "468"
      ]
     },
     "execution_count": 51,
     "metadata": {},
     "output_type": "execute_result"
    }
   ],
   "source": [
    "#Nested List:\n",
    "\n",
    "lst = [10, 20, [23, 7, 30.6,[38, 56,[468, 7, 3],12, 4], 4, 7], 20]\n",
    "\n",
    "lst[2][3][2][0]"
   ]
  },
  {
   "cell_type": "code",
   "execution_count": 52,
   "id": "90f0dc29",
   "metadata": {},
   "outputs": [
    {
     "name": "stdout",
     "output_type": "stream",
     "text": [
      "['__add__', '__class__', '__class_getitem__', '__contains__', '__delattr__', '__delitem__', '__dir__', '__doc__', '__eq__', '__format__', '__ge__', '__getattribute__', '__getitem__', '__gt__', '__hash__', '__iadd__', '__imul__', '__init__', '__init_subclass__', '__iter__', '__le__', '__len__', '__lt__', '__mul__', '__ne__', '__new__', '__reduce__', '__reduce_ex__', '__repr__', '__reversed__', '__rmul__', '__setattr__', '__setitem__', '__sizeof__', '__str__', '__subclasshook__', 'append', 'clear', 'copy', 'count', 'extend', 'index', 'insert', 'pop', 'remove', 'reverse', 'sort']\n"
     ]
    }
   ],
   "source": [
    "# #List Methods:\n",
    "\n",
    "# print(dir(list))\n",
    "\n",
    "# ['__add__', '__class__', '__class_getitem__', '__contains__', '__delattr__', '__delitem__', '__dir__', '__doc__',\n",
    "#  '__eq__', '__format__', '__ge__', '__getattribute__', '__getitem__', '__gt__', '__hash__', '__iadd__', '__imul__', \n",
    "#  '__init__', '__init_subclass__', '__iter__', '__le__', '__len__', '__lt__', '__mul__', '__ne__', '__new__', '__reduce__',\n",
    "#  '__reduce_ex__', '__repr__', '__reversed__', '__rmul__', '__setattr__', '__setitem__', '__sizeof__', '__str__',\n",
    "#  '__subclasshook__', 'append', 'clear', 'copy', 'count', 'extend', 'index', 'insert', 'pop', 'remove', 'reverse', 'sort']\n",
    "\n"
   ]
  },
  {
   "cell_type": "code",
   "execution_count": 57,
   "id": "ce559816",
   "metadata": {},
   "outputs": [],
   "source": [
    "# 'append', 'clear', 'copy', 'count', 'extend', 'index', 'insert', 'pop', 'remove', 'reverse', 'sort"
   ]
  },
  {
   "cell_type": "code",
   "execution_count": null,
   "id": "678d9de0",
   "metadata": {},
   "outputs": [],
   "source": [
    "# '', '', 'copy', '', '', '', 'insert', '', 'remove', 'reverse', 'sort"
   ]
  },
  {
   "cell_type": "code",
   "execution_count": 81,
   "id": "6ba1c573",
   "metadata": {},
   "outputs": [
    {
     "name": "stdout",
     "output_type": "stream",
     "text": [
      "6\n"
     ]
    }
   ],
   "source": [
    "var = [2, 8, 3, 8.3, 8000, 8, 3, 5, 3, 3, 3, 3]\n",
    "print(var.count(3))"
   ]
  },
  {
   "cell_type": "code",
   "execution_count": 66,
   "id": "e90665a5",
   "metadata": {},
   "outputs": [
    {
     "name": "stdout",
     "output_type": "stream",
     "text": [
      "[]\n"
     ]
    }
   ],
   "source": [
    "lst.clear()\n",
    "print(lst)"
   ]
  },
  {
   "cell_type": "code",
   "execution_count": 60,
   "id": "de048440",
   "metadata": {},
   "outputs": [
    {
     "data": {
      "text/plain": [
       "4"
      ]
     },
     "execution_count": 60,
     "metadata": {},
     "output_type": "execute_result"
    }
   ],
   "source": [
    "lst.index(8000)"
   ]
  },
  {
   "cell_type": "code",
   "execution_count": 83,
   "id": "88e60b63",
   "metadata": {},
   "outputs": [
    {
     "name": "stdout",
     "output_type": "stream",
     "text": [
      "[2, 8, 3, 8.3, 8000, 8, 3, 5, 3, 3, 3, 3, ['a'], ['a']]\n"
     ]
    }
   ],
   "source": [
    "#Adding the values to our list using append:\n",
    "#append - adds element in the last of list collection.\n",
    "\n",
    "# lst.append(123)\n",
    "# print(lst)\n",
    "\n",
    "# lst.append([1,6, 3, 8])\n",
    "# print(lst)\n",
    "\n",
    "# lst.append('python')\n",
    "# print(lst)\n",
    "\n",
    "var.append(['a'])\n",
    "print(var)"
   ]
  },
  {
   "cell_type": "code",
   "execution_count": 92,
   "id": "3779b1ed",
   "metadata": {},
   "outputs": [
    {
     "name": "stdout",
     "output_type": "stream",
     "text": [
      "[3, 7, 4.5, 9]\n",
      "[3, 7, 4.5, 9, 38]\n"
     ]
    }
   ],
   "source": [
    "#Add element in specific location\n",
    "\n",
    "#Syntax: list_name.insert(pos, val)\n",
    "\n",
    "var = [3, 7, 4.5, 9]\n",
    "print(var)\n",
    "\n",
    "\n",
    "# var.insert(3, 999)\n",
    "# print(var)\n",
    "\n",
    "var.insert(6, 38)\n",
    "print(var)\n",
    "\n",
    "# var.insert(8, 6)\n",
    "# print\n",
    "\n",
    "# var.insert(8, 999)\n",
    "# print(var)"
   ]
  },
  {
   "cell_type": "code",
   "execution_count": 93,
   "id": "b55d6b84",
   "metadata": {},
   "outputs": [
    {
     "name": "stdout",
     "output_type": "stream",
     "text": [
      "[3, 7, 4.5, 9]\n",
      "[3, 7, 4.5, 9, 90, 78]\n"
     ]
    }
   ],
   "source": [
    "#extend -  it adds individual elements of sub_list to main_lst at the end of list.\n",
    "var = [3, 7, 4.5, 9]\n",
    "print(var)\n",
    "\n",
    "var.extend([90, 78])\n",
    "print(var)\n",
    "\n"
   ]
  },
  {
   "cell_type": "code",
   "execution_count": 97,
   "id": "536b8fb1",
   "metadata": {},
   "outputs": [
    {
     "name": "stdout",
     "output_type": "stream",
     "text": [
      "[3, 7, 4.5, 9]\n",
      "9\n",
      "4.5\n",
      "[3, 7]\n"
     ]
    }
   ],
   "source": [
    "#Pop() - it removes the indicated index element of the list & returns that element\n",
    "\n",
    "#syntax: list_name.pop(index)\n",
    "\n",
    "var = [3, 7, 4.5, 9]\n",
    "print(var)\n",
    "\n",
    "print(var.pop())\n",
    "\n",
    "print(var.pop(2))\n",
    "print(var)\n"
   ]
  },
  {
   "cell_type": "code",
   "execution_count": 96,
   "id": "0f1a07ff",
   "metadata": {},
   "outputs": [],
   "source": [
    "#Assignment:\n",
    "\n",
    "1. Find if input user number is present in a list or not.{1-mark}\n",
    "2. Find if the sub-string exists in the string without using in operator.{1-mark}\n",
    "3. Take user Input a comma separated list from console. Write a program to print this list after\n",
    "   removing all duplicate values with original order reserved.{2-mark}\n",
    "4. Given a list A and a number n, find the n’th largest number.\n",
    "   Example: If the input list is [5, 2, 1, 7, 4] and n is 3. The 3rd largest number is 4.{1-mark}"
   ]
  },
  {
   "cell_type": "code",
   "execution_count": null,
   "id": "08d1753f",
   "metadata": {},
   "outputs": [],
   "source": []
  },
  {
   "cell_type": "code",
   "execution_count": null,
   "id": "dd2dd43c",
   "metadata": {},
   "outputs": [],
   "source": []
  }
 ],
 "metadata": {
  "kernelspec": {
   "display_name": "Python 3 (ipykernel)",
   "language": "python",
   "name": "python3"
  },
  "language_info": {
   "codemirror_mode": {
    "name": "ipython",
    "version": 3
   },
   "file_extension": ".py",
   "mimetype": "text/x-python",
   "name": "python",
   "nbconvert_exporter": "python",
   "pygments_lexer": "ipython3",
   "version": "3.10.9"
  }
 },
 "nbformat": 4,
 "nbformat_minor": 5
}
