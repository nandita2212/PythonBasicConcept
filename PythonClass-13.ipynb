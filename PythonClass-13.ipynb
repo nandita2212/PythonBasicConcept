{
 "cells": [
  {
   "cell_type": "markdown",
   "id": "a5733f38",
   "metadata": {},
   "source": [
    "# args & kwargs:\n",
    "\n"
   ]
  },
  {
   "cell_type": "markdown",
   "id": "5dc869dd",
   "metadata": {},
   "source": [
    "It is a kind of special symbol used for passings arguments.\n",
    "\n",
    "1. non-keyword args (*args) - to pass multiple args in single variable.\n",
    "2. keyword args (**kwargs)"
   ]
  },
  {
   "cell_type": "markdown",
   "id": "b9c2e3a1",
   "metadata": {},
   "source": [
    "*args - it recieves arguments as tuple\n",
    "\n",
    "**kwargs - it recieves arguments as a dictionary"
   ]
  },
  {
   "cell_type": "code",
   "execution_count": 1,
   "id": "13d768da",
   "metadata": {},
   "outputs": [
    {
     "name": "stdout",
     "output_type": "stream",
     "text": [
      "reading\n",
      "movie\n",
      "playing\n"
     ]
    }
   ],
   "source": [
    "def myfun(*x ):\n",
    "    for i in x:\n",
    "        print(i)\n",
    "        \n",
    "myfun(\"reading\", \"movie\", \"playing\")"
   ]
  },
  {
   "cell_type": "code",
   "execution_count": 2,
   "id": "fcede89e",
   "metadata": {},
   "outputs": [
    {
     "name": "stdout",
     "output_type": "stream",
     "text": [
      "kwargs: {'first': 'movie', 'second': 'reading', 'third': 'playing'}\n"
     ]
    }
   ],
   "source": [
    "def myfun(**kwargs):\n",
    "    print(\"kwargs:\", kwargs)\n",
    "    \n",
    "myfun(first = \"movie\",\n",
    "     second=\"reading\",\n",
    "     third=\"playing\")"
   ]
  },
  {
   "cell_type": "code",
   "execution_count": 3,
   "id": "4d669b4b",
   "metadata": {},
   "outputs": [
    {
     "name": "stdout",
     "output_type": "stream",
     "text": [
      "x: reading\n",
      "y: movie\n",
      "z: playing\n",
      "x: arg1\n",
      "y: arg2\n",
      "z: arg3\n"
     ]
    }
   ],
   "source": [
    "def myfun(x,y,z):\n",
    "    print(\"x:\", x)\n",
    "    print(\"y:\", y)\n",
    "    print(\"z:\", z)\n",
    "    \n",
    "args = (\"reading\", \"movie\", \"playing\")\n",
    "myfun(*args)\n",
    "\n",
    "kwargs = {\"x\":\"arg1\", \"y\":\"arg2\", \"z\":\"arg3\"}\n",
    "myfun(**kwargs)"
   ]
  },
  {
   "cell_type": "code",
   "execution_count": 4,
   "id": "da8176a3",
   "metadata": {},
   "outputs": [
    {
     "ename": "TypeError",
     "evalue": "myfun() takes 2 positional arguments but 3 were given",
     "output_type": "error",
     "traceback": [
      "\u001b[1;31m---------------------------------------------------------------------------\u001b[0m",
      "\u001b[1;31mTypeError\u001b[0m                                 Traceback (most recent call last)",
      "Cell \u001b[1;32mIn[4], line 7\u001b[0m\n\u001b[0;32m      4\u001b[0m     \u001b[38;5;28mprint\u001b[39m(\u001b[38;5;124m\"\u001b[39m\u001b[38;5;124mz:\u001b[39m\u001b[38;5;124m\"\u001b[39m, z)\n\u001b[0;32m      6\u001b[0m args \u001b[38;5;241m=\u001b[39m (\u001b[38;5;124m\"\u001b[39m\u001b[38;5;124mreading\u001b[39m\u001b[38;5;124m\"\u001b[39m, \u001b[38;5;124m\"\u001b[39m\u001b[38;5;124mmovie\u001b[39m\u001b[38;5;124m\"\u001b[39m, \u001b[38;5;124m\"\u001b[39m\u001b[38;5;124mplaying\u001b[39m\u001b[38;5;124m\"\u001b[39m)\n\u001b[1;32m----> 7\u001b[0m \u001b[43mmyfun\u001b[49m\u001b[43m(\u001b[49m\u001b[38;5;241;43m*\u001b[39;49m\u001b[43margs\u001b[49m\u001b[43m)\u001b[49m\n\u001b[0;32m      9\u001b[0m kwargs \u001b[38;5;241m=\u001b[39m {\u001b[38;5;124m\"\u001b[39m\u001b[38;5;124mx\u001b[39m\u001b[38;5;124m\"\u001b[39m:\u001b[38;5;124m\"\u001b[39m\u001b[38;5;124marg1\u001b[39m\u001b[38;5;124m\"\u001b[39m, \u001b[38;5;124m\"\u001b[39m\u001b[38;5;124my\u001b[39m\u001b[38;5;124m\"\u001b[39m:\u001b[38;5;124m\"\u001b[39m\u001b[38;5;124marg2\u001b[39m\u001b[38;5;124m\"\u001b[39m, \u001b[38;5;124m\"\u001b[39m\u001b[38;5;124mz\u001b[39m\u001b[38;5;124m\"\u001b[39m:\u001b[38;5;124m\"\u001b[39m\u001b[38;5;124marg3\u001b[39m\u001b[38;5;124m\"\u001b[39m}\n\u001b[0;32m     10\u001b[0m myfun(\u001b[38;5;241m*\u001b[39m\u001b[38;5;241m*\u001b[39mkwargs)\n",
      "\u001b[1;31mTypeError\u001b[0m: myfun() takes 2 positional arguments but 3 were given"
     ]
    }
   ],
   "source": [
    "def myfun(x,y):\n",
    "    print(\"x:\", x)\n",
    "    print(\"y:\", y)\n",
    "    print(\"z:\", z)\n",
    "    \n",
    "args = (\"reading\", \"movie\", \"playing\")\n",
    "myfun(*args)\n",
    "\n",
    "kwargs = {\"x\":\"arg1\", \"y\":\"arg2\", \"z\":\"arg3\"}\n",
    "myfun(**kwargs)"
   ]
  },
  {
   "cell_type": "markdown",
   "id": "177a6432",
   "metadata": {},
   "source": [
    "# Exceptional Handling:"
   ]
  },
  {
   "cell_type": "markdown",
   "id": "555d6e9a",
   "metadata": {},
   "source": [
    "The error that occurs during the execution of a program which can disrupts the normal flow of the program.\n"
   ]
  },
  {
   "cell_type": "code",
   "execution_count": null,
   "id": "a8dbb0bb",
   "metadata": {},
   "outputs": [],
   "source": [
    "print(dir(__builtins__))"
   ]
  },
  {
   "cell_type": "code",
   "execution_count": 5,
   "id": "05a804e8",
   "metadata": {},
   "outputs": [
    {
     "name": "stdout",
     "output_type": "stream",
     "text": [
      "30\n",
      "10\n"
     ]
    },
    {
     "ename": "NameError",
     "evalue": "name 'd' is not defined",
     "output_type": "error",
     "traceback": [
      "\u001b[1;31m---------------------------------------------------------------------------\u001b[0m",
      "\u001b[1;31mNameError\u001b[0m                                 Traceback (most recent call last)",
      "Cell \u001b[1;32mIn[5], line 6\u001b[0m\n\u001b[0;32m      4\u001b[0m \u001b[38;5;28mprint\u001b[39m(c)\n\u001b[0;32m      5\u001b[0m \u001b[38;5;28mprint\u001b[39m(a)\n\u001b[1;32m----> 6\u001b[0m \u001b[38;5;28mprint\u001b[39m(\u001b[43md\u001b[49m)\n\u001b[0;32m      7\u001b[0m \u001b[38;5;28mprint\u001b[39m(b)\n",
      "\u001b[1;31mNameError\u001b[0m: name 'd' is not defined"
     ]
    }
   ],
   "source": [
    "a = 10 \n",
    "b=20\n",
    "c=a+b\n",
    "print(c)\n",
    "print(a)\n",
    "print(d)\n",
    "print(b)"
   ]
  },
  {
   "cell_type": "code",
   "execution_count": 6,
   "id": "003a5d5f",
   "metadata": {},
   "outputs": [
    {
     "name": "stdout",
     "output_type": "stream",
     "text": [
      "30\n",
      "10\n",
      "20\n"
     ]
    }
   ],
   "source": [
    "a = 10 \n",
    "b=20\n",
    "c=a+b\n",
    "print(c)\n",
    "print(a)\n",
    "try:\n",
    "    print(d)\n",
    "except:\n",
    "    pass\n",
    "print(b)"
   ]
  },
  {
   "cell_type": "code",
   "execution_count": 7,
   "id": "9db2ec9d",
   "metadata": {},
   "outputs": [
    {
     "name": "stdout",
     "output_type": "stream",
     "text": [
      "enter a no. a:4\n",
      "enter a no. b:6\n",
      "10\n"
     ]
    }
   ],
   "source": [
    "a = int(input(\"enter a no. a:\"))\n",
    "b = int(input(\"enter a no. b:\"))\n",
    "\n",
    "print(a+b)\n"
   ]
  },
  {
   "cell_type": "code",
   "execution_count": 8,
   "id": "c66a258b",
   "metadata": {},
   "outputs": [
    {
     "name": "stdout",
     "output_type": "stream",
     "text": [
      "enter a no. a:4\n",
      "enter a no. b:0\n"
     ]
    },
    {
     "ename": "ZeroDivisionError",
     "evalue": "division by zero",
     "output_type": "error",
     "traceback": [
      "\u001b[1;31m---------------------------------------------------------------------------\u001b[0m",
      "\u001b[1;31mZeroDivisionError\u001b[0m                         Traceback (most recent call last)",
      "Cell \u001b[1;32mIn[8], line 4\u001b[0m\n\u001b[0;32m      1\u001b[0m a \u001b[38;5;241m=\u001b[39m \u001b[38;5;28mint\u001b[39m(\u001b[38;5;28minput\u001b[39m(\u001b[38;5;124m\"\u001b[39m\u001b[38;5;124menter a no. a:\u001b[39m\u001b[38;5;124m\"\u001b[39m))\n\u001b[0;32m      2\u001b[0m b \u001b[38;5;241m=\u001b[39m \u001b[38;5;28mint\u001b[39m(\u001b[38;5;28minput\u001b[39m(\u001b[38;5;124m\"\u001b[39m\u001b[38;5;124menter a no. b:\u001b[39m\u001b[38;5;124m\"\u001b[39m))\n\u001b[1;32m----> 4\u001b[0m \u001b[38;5;28mprint\u001b[39m(\u001b[43ma\u001b[49m\u001b[38;5;241;43m/\u001b[39;49m\u001b[43mb\u001b[49m)\n",
      "\u001b[1;31mZeroDivisionError\u001b[0m: division by zero"
     ]
    }
   ],
   "source": [
    "a = int(input(\"enter a no. a:\"))\n",
    "b = int(input(\"enter a no. b:\"))\n",
    "\n",
    "print(a/b)\n",
    "\n"
   ]
  },
  {
   "cell_type": "markdown",
   "id": "9a118c34",
   "metadata": {},
   "source": [
    "Keywords that will be used in exceptional handling:\n",
    "\n",
    "1. try\n",
    "2. except\n",
    "3. else\n",
    "4. finally\n",
    "5. raise "
   ]
  },
  {
   "cell_type": "markdown",
   "id": "0ed4b65d",
   "metadata": {},
   "source": [
    "Try & Except:\n",
    "\n",
    "try - when the code will raise any error then it should be written in try block.\n",
    "\n",
    "except - alternate should be written, if try raise an error\n",
    "\n",
    "syntax:\n",
    "\n",
    "try:\n",
    " code..\n",
    " \n",
    "except:\n",
    "    code.."
   ]
  },
  {
   "cell_type": "code",
   "execution_count": 9,
   "id": "1ef2ae8f",
   "metadata": {},
   "outputs": [
    {
     "name": "stdout",
     "output_type": "stream",
     "text": [
      "enter a no. a:4\n",
      "enter a no. b:0\n",
      "sorry some error occured.\n"
     ]
    }
   ],
   "source": [
    "try:\n",
    "    a = int(input(\"enter a no. a:\"))\n",
    "    b = int(input(\"enter a no. b:\"))\n",
    "    print(a/b)\n",
    "except:\n",
    "    print(\"sorry some error occured.\")"
   ]
  },
  {
   "cell_type": "code",
   "execution_count": 10,
   "id": "00215b66",
   "metadata": {},
   "outputs": [
    {
     "name": "stdout",
     "output_type": "stream",
     "text": [
      "enter a no. a:4\n",
      "enter a no. b:0\n",
      "0\n"
     ]
    }
   ],
   "source": [
    "try:\n",
    "    a = int(input(\"enter a no. a:\"))\n",
    "    b = int(input(\"enter a no. b:\"))\n",
    "    print(a*b)\n",
    "except:\n",
    "    print(\"sorry some error occured.\")"
   ]
  },
  {
   "cell_type": "code",
   "execution_count": 11,
   "id": "7d00121d",
   "metadata": {},
   "outputs": [
    {
     "name": "stdout",
     "output_type": "stream",
     "text": [
      "enter a no. a:3\n",
      "enter a no. b:0\n"
     ]
    },
    {
     "ename": "ZeroDivisionError",
     "evalue": "division by zero",
     "output_type": "error",
     "traceback": [
      "\u001b[1;31m---------------------------------------------------------------------------\u001b[0m",
      "\u001b[1;31mZeroDivisionError\u001b[0m                         Traceback (most recent call last)",
      "Cell \u001b[1;32mIn[11], line 7\u001b[0m\n\u001b[0;32m      5\u001b[0m \u001b[38;5;28;01mexcept\u001b[39;00m:\n\u001b[0;32m      6\u001b[0m     \u001b[38;5;28mprint\u001b[39m(\u001b[38;5;124m\"\u001b[39m\u001b[38;5;124msome error occured\u001b[39m\u001b[38;5;124m\"\u001b[39m)\n\u001b[1;32m----> 7\u001b[0m \u001b[38;5;28mprint\u001b[39m(\u001b[43ma\u001b[49m\u001b[38;5;241;43m/\u001b[39;49m\u001b[43mb\u001b[49m)\n",
      "\u001b[1;31mZeroDivisionError\u001b[0m: division by zero"
     ]
    }
   ],
   "source": [
    "try:\n",
    "    a = int(input(\"enter a no. a:\"))\n",
    "    b = int(input(\"enter a no. b:\"))\n",
    "    \n",
    "except:\n",
    "    print(\"some error occured\")\n",
    "print(a/b) #error is not handled"
   ]
  },
  {
   "cell_type": "code",
   "execution_count": 12,
   "id": "48238cac",
   "metadata": {},
   "outputs": [
    {
     "name": "stdout",
     "output_type": "stream",
     "text": [
      "enter a no. a:4\n",
      "enter a no. b:0\n",
      "some error occured\n",
      "30\n"
     ]
    }
   ],
   "source": [
    "try:\n",
    "    a = int(input(\"enter a no. a:\"))\n",
    "    b = int(input(\"enter a no. b:\"))\n",
    "    c= a/b\n",
    "    \n",
    "except:\n",
    "    print(\"some error occured\")\n",
    "print(c) "
   ]
  },
  {
   "cell_type": "code",
   "execution_count": 13,
   "id": "3b011251",
   "metadata": {},
   "outputs": [
    {
     "name": "stdout",
     "output_type": "stream",
     "text": [
      "enter a no. a:5\n",
      "enter a no. b:0\n",
      "except block\n",
      "some error occured\n",
      "i am done\n"
     ]
    }
   ],
   "source": [
    "try:\n",
    "    a = int(input(\"enter a no. a:\"))\n",
    "    b = int(input(\"enter a no. b:\"))\n",
    "    c= a/b \n",
    "    print(\"try block\")\n",
    "    \n",
    "except:\n",
    "    print(\"except block\")\n",
    "    print(\"some error occured\")\n",
    "else:\n",
    "    print(\"else block\")\n",
    "    print(c)\n",
    "print(\"i am done\") "
   ]
  },
  {
   "cell_type": "code",
   "execution_count": 14,
   "id": "e0e7e635",
   "metadata": {},
   "outputs": [
    {
     "name": "stdout",
     "output_type": "stream",
     "text": [
      "enter a no. a:5\n",
      "enter a no. b:0\n",
      "except block\n",
      "some error occured\n",
      "i am done\n"
     ]
    }
   ],
   "source": [
    "try:\n",
    "    a = int(input(\"enter a no. a:\"))\n",
    "    b = int(input(\"enter a no. b:\"))\n",
    "    c= a/b\n",
    "    print(\"try block\")\n",
    "    \n",
    "except:\n",
    "    print(\"except block\")\n",
    "    print(\"some error occured\")\n",
    "else:\n",
    "    print(\"else block\")\n",
    "    print(c)\n",
    "print(\"i am done\") \n",
    "\n"
   ]
  },
  {
   "cell_type": "code",
   "execution_count": null,
   "id": "4043ad63",
   "metadata": {},
   "outputs": [],
   "source": [
    "# when our try block is working fine then only else block executes.\n",
    "# if try block throws an error then else block doesnt execut but except block executes."
   ]
  },
  {
   "cell_type": "code",
   "execution_count": null,
   "id": "519e8040",
   "metadata": {},
   "outputs": [],
   "source": [
    "# finally : whatever you write in finally it will execute irrespective of any error/exception."
   ]
  },
  {
   "cell_type": "code",
   "execution_count": 15,
   "id": "d4e1af9f",
   "metadata": {},
   "outputs": [
    {
     "name": "stdout",
     "output_type": "stream",
     "text": [
      "enter a no. a:4\n",
      "enter a no. b:0\n",
      "except block\n",
      "some error occured\n",
      "hello everyone\n"
     ]
    }
   ],
   "source": [
    "try:\n",
    "    a = int(input(\"enter a no. a:\"))\n",
    "    b = int(input(\"enter a no. b:\"))\n",
    "    c= a/b\n",
    "    print(\"try block\")\n",
    "    \n",
    "except:\n",
    "    print(\"except block\")\n",
    "    print(\"some error occured\")\n",
    "else:\n",
    "    print(\"else block\")\n",
    "    print(c) \n",
    "    \n",
    "print(\"hello everyone\")"
   ]
  },
  {
   "cell_type": "code",
   "execution_count": null,
   "id": "38b9d9d0",
   "metadata": {},
   "outputs": [],
   "source": [
    "#try --> except-->else-->finally........ else and finally are my optional keyword.\n",
    "\n",
    "#finally keyword is used to deallocate the sytem resources."
   ]
  },
  {
   "cell_type": "code",
   "execution_count": 16,
   "id": "878fa9b8",
   "metadata": {},
   "outputs": [
    {
     "name": "stdout",
     "output_type": "stream",
     "text": [
      "enter a no. a:4\n",
      "enter a no. b:0\n",
      "this is a finally block\n"
     ]
    },
    {
     "ename": "ZeroDivisionError",
     "evalue": "division by zero",
     "output_type": "error",
     "traceback": [
      "\u001b[1;31m---------------------------------------------------------------------------\u001b[0m",
      "\u001b[1;31mZeroDivisionError\u001b[0m                         Traceback (most recent call last)",
      "Cell \u001b[1;32mIn[16], line 4\u001b[0m\n\u001b[0;32m      3\u001b[0m b \u001b[38;5;241m=\u001b[39m \u001b[38;5;28mint\u001b[39m(\u001b[38;5;28minput\u001b[39m(\u001b[38;5;124m\"\u001b[39m\u001b[38;5;124menter a no. b:\u001b[39m\u001b[38;5;124m\"\u001b[39m))\n\u001b[1;32m----> 4\u001b[0m c\u001b[38;5;241m=\u001b[39m \u001b[43ma\u001b[49m\u001b[38;5;241;43m/\u001b[39;49m\u001b[43mb\u001b[49m \n\u001b[0;32m      5\u001b[0m \u001b[38;5;28mprint\u001b[39m(\u001b[38;5;124m\"\u001b[39m\u001b[38;5;124mtry block\u001b[39m\u001b[38;5;124m\"\u001b[39m)\n",
      "\u001b[1;31mZeroDivisionError\u001b[0m: division by zero",
      "\nDuring handling of the above exception, another exception occurred:\n",
      "\u001b[1;31mZeroDivisionError\u001b[0m                         Traceback (most recent call last)",
      "Cell \u001b[1;32mIn[16], line 9\u001b[0m\n\u001b[0;32m      5\u001b[0m     \u001b[38;5;28mprint\u001b[39m(\u001b[38;5;124m\"\u001b[39m\u001b[38;5;124mtry block\u001b[39m\u001b[38;5;124m\"\u001b[39m)\n\u001b[0;32m      7\u001b[0m \u001b[38;5;28;01mexcept\u001b[39;00m:\n\u001b[1;32m----> 9\u001b[0m     c \u001b[38;5;241m=\u001b[39m \u001b[43ma\u001b[49m\u001b[38;5;241;43m/\u001b[39;49m\u001b[43mb\u001b[49m\n\u001b[0;32m     10\u001b[0m \u001b[38;5;28;01mfinally\u001b[39;00m:\n\u001b[0;32m     11\u001b[0m     \u001b[38;5;28mprint\u001b[39m(\u001b[38;5;124m\"\u001b[39m\u001b[38;5;124mthis is a finally block\u001b[39m\u001b[38;5;124m\"\u001b[39m)\n",
      "\u001b[1;31mZeroDivisionError\u001b[0m: division by zero"
     ]
    }
   ],
   "source": [
    "try:\n",
    "    a = int(input(\"enter a no. a:\"))\n",
    "    b = int(input(\"enter a no. b:\"))\n",
    "    c= a/b \n",
    "    print(\"try block\")\n",
    "    \n",
    "except:\n",
    "    \n",
    "    c = a/b\n",
    "finally:\n",
    "    print(\"this is a finally block\")\n",
    "print(\"this is not a finally block\") \n",
    "\n",
    "\n"
   ]
  },
  {
   "cell_type": "code",
   "execution_count": null,
   "id": "ed2accbd",
   "metadata": {},
   "outputs": [],
   "source": [
    "while True:\n",
    "    try:\n",
    "        a = int(input(\"enter a no. a:\"))\n",
    "        b = int(input(\"enter a no. b:\"))\n",
    "        print(a/b)\n",
    "        print (\"try block\")\n",
    "    except :\n",
    "        print(\"Please input again\")\n",
    "    else:\n",
    "        break"
   ]
  },
  {
   "cell_type": "markdown",
   "id": "13952978",
   "metadata": {},
   "source": [
    "i=1\n",
    "while(i!=0):\n",
    "    \n",
    "    \n",
    "    try:\n",
    "            a=int(input(\"enter a number\"))\n",
    "            b=int(input(\"enter a number\"))\n",
    "            print(\"try block\")\n",
    "            c=a/b\n",
    "            i=0\n",
    "    except:\n",
    "        print(\"some error\")\n",
    "        i=1\n",
    "    else:\n",
    "        print(c)\n",
    "    finally:\n",
    "        print(\"over\")"
   ]
  },
  {
   "cell_type": "markdown",
   "id": "a6c46759",
   "metadata": {},
   "source": [
    "1. each try block should have at least 1 except 1 block.\n",
    "2. One try block may have multiple except block.\n",
    "3. One except block can not have multiple try block.\n",
    "4. try --> except-->else-->finally........ else and finally are my optional keyword.\n",
    "5. Nested try can have nested except block.\n",
    "6. child exception should be followed by parent exception."
   ]
  },
  {
   "cell_type": "code",
   "execution_count": 17,
   "id": "3dea977e",
   "metadata": {},
   "outputs": [
    {
     "name": "stdout",
     "output_type": "stream",
     "text": [
      "enter a no. a:4\n",
      "enter a no. b:0\n",
      "Exception block\n",
      "division by zero\n",
      "this is a finally block\n"
     ]
    }
   ],
   "source": [
    "try:\n",
    "    a = int(input(\"enter a no. a:\"))\n",
    "    b = int(input(\"enter a no. b:\"))\n",
    "    res= a/b \n",
    "except Exception as e:\n",
    "    print(\"Exception block\")\n",
    "    print(e)\n",
    "except ZeroDivisionError as e1:\n",
    "    print(\"ZeroDivisionError block\")\n",
    "    print(e1)\n",
    "    \n",
    "except ValueError as e2:\n",
    "    print(\"ValueError block\")\n",
    "    print(e2)\n",
    "\n",
    "else:\n",
    "    print(\"else block\")\n",
    "    print(res)\n",
    "    \n",
    "    \n",
    "finally:\n",
    "    print(\"this is a finally block\")\n",
    " "
   ]
  },
  {
   "cell_type": "code",
   "execution_count": 18,
   "id": "23656303",
   "metadata": {},
   "outputs": [
    {
     "name": "stdout",
     "output_type": "stream",
     "text": [
      "enter a no. a:4\n",
      "enter a no. b:0\n",
      "ZeroDivisionError block\n",
      "division by zero\n",
      "this is a finally block\n"
     ]
    }
   ],
   "source": [
    "try:\n",
    "    a = int(input(\"enter a no. a:\"))\n",
    "    b = int(input(\"enter a no. b:\"))\n",
    "    res= a/b \n",
    "\n",
    "except ZeroDivisionError as e1:\n",
    "    print(\"ZeroDivisionError block\")\n",
    "    print(e1)\n",
    "    \n",
    "except ValueError as e2:\n",
    "    print(\"ValueError block\")\n",
    "    print(e2)\n",
    "    \n",
    "except Exception as e:\n",
    "    print(\"Exception block\")\n",
    "    print(e)\n",
    "\n",
    "else:\n",
    "    print(\"else block\")\n",
    "    print(res)\n",
    "    \n",
    "    \n",
    "finally:\n",
    "    print(\"this is a finally block\")\n",
    " "
   ]
  },
  {
   "cell_type": "code",
   "execution_count": 20,
   "id": "0455dcbf",
   "metadata": {},
   "outputs": [
    {
     "name": "stdout",
     "output_type": "stream",
     "text": [
      "enter a no. a:4\n",
      "enter a no. b:0\n",
      "ZeroDivisionError block\n",
      "division by zero\n",
      "this is a finally block\n"
     ]
    }
   ],
   "source": [
    "try:\n",
    "    a = int(input(\"enter a no. a:\"))\n",
    "    b = int(input(\"enter a no. b:\"))\n",
    "    res= a/b \n",
    "\n",
    "except ZeroDivisionError as e1:\n",
    "    print(\"ZeroDivisionError block\")\n",
    "    print(e1)\n",
    "    \n",
    "except ValueError as e2:\n",
    "    print(\"ValueError block\")\n",
    "    print(e2)\n",
    "    \n",
    "except Exception as e:\n",
    "    print(\"Exception block\")\n",
    "    print(e)\n",
    "\n",
    "else:\n",
    "    print(\"else block\")\n",
    "    print(res)\n",
    "    \n",
    "    \n",
    "finally:\n",
    "    print(\"this is a finally block\")\n",
    " "
   ]
  },
  {
   "cell_type": "code",
   "execution_count": 21,
   "id": "4b6b6b67",
   "metadata": {},
   "outputs": [
    {
     "name": "stdout",
     "output_type": "stream",
     "text": [
      "enter a no. a:4\n",
      "enter a no. b:44+3j\n",
      "Exception block\n",
      "invalid literal for int() with base 10: '44+3j'\n",
      "this is a finally block\n"
     ]
    }
   ],
   "source": [
    "try:\n",
    "    a = int(input(\"enter a no. a:\"))\n",
    "    b = int(input(\"enter a no. b:\"))\n",
    "    res= a/b \n",
    "\n",
    "except ZeroDivisionError as e1:\n",
    "    print(\"ZeroDivisionError block\")\n",
    "    print(e1)\n",
    "    \n",
    "except Exception as e:\n",
    "    print(\"Exception block\")\n",
    "    print(e)\n",
    "\n",
    "else:\n",
    "    print(\"else block\")\n",
    "    print(res)\n",
    "    \n",
    "    \n",
    "finally:\n",
    "    print(\"this is a finally block\")\n",
    " "
   ]
  },
  {
   "cell_type": "code",
   "execution_count": 2,
   "id": "93b119d4",
   "metadata": {},
   "outputs": [],
   "source": [
    "# child exception --> parent exception should be written."
   ]
  },
  {
   "cell_type": "code",
   "execution_count": 22,
   "id": "811e7ca4",
   "metadata": {},
   "outputs": [
    {
     "name": "stdout",
     "output_type": "stream",
     "text": [
      "enter a no. a:43\n",
      "enter a no. b:0\n",
      "division by zero\n",
      "this is a finally block\n"
     ]
    }
   ],
   "source": [
    "try:\n",
    "    a = int(input(\"enter a no. a:\"))\n",
    "    b = int(input(\"enter a no. b:\"))\n",
    "    c= a/b \n",
    "    print(\"try block\")\n",
    "    \n",
    "except (ZeroDivisionError, ValueError, ArithmeticError, Exception ) as e2:\n",
    "    \n",
    "    print(e2)\n",
    "finally:\n",
    "    print(\"this is a finally block\")\n",
    " \n",
    "\n",
    "\n"
   ]
  },
  {
   "cell_type": "code",
   "execution_count": 9,
   "id": "631ea3e1",
   "metadata": {},
   "outputs": [
    {
     "name": "stdout",
     "output_type": "stream",
     "text": [
      "enter a no. a:667\n",
      "enter a no. b:0\n",
      "division by 0 not allowed\n",
      "this is a finally block\n"
     ]
    }
   ],
   "source": [
    "#Nested try-except block:\n",
    "\n",
    "try:\n",
    "    a = int(input(\"enter a no. a:\"))\n",
    "    b = int(input(\"enter a no. b:\"))\n",
    "   # raise ZeroDivisionError\n",
    "    try:\n",
    "        res = a/b\n",
    "    except:\n",
    "        print(\"division by 0 not allowed\")\n",
    "    \n",
    "except (ZeroDivisionError, ValueError, ArithmeticError, Exception ) as e2:\n",
    "    \n",
    "    print(e2)\n",
    "finally:\n",
    "    print(\"this is a finally block\")\n"
   ]
  },
  {
   "cell_type": "code",
   "execution_count": 10,
   "id": "b0a5c4ff",
   "metadata": {},
   "outputs": [
    {
     "name": "stdout",
     "output_type": "stream",
     "text": [
      "enter a no. a:7667\n",
      "enter a no. b:0\n",
      "\n",
      "this is a finally block\n"
     ]
    }
   ],
   "source": [
    "#Nested try-except block:\n",
    "\n",
    "try:\n",
    "    a = int(input(\"enter a no. a:\"))\n",
    "    b = int(input(\"enter a no. b:\"))\n",
    "    raise ZeroDivisionError\n",
    "    try:\n",
    "        res = a/b\n",
    "    except:\n",
    "        print(\"division by 0 not allowed\")\n",
    "    \n",
    "except (ZeroDivisionError, ValueError, ArithmeticError, Exception ) as e2:\n",
    "    \n",
    "    print(e2)\n",
    "finally:\n",
    "    print(\"this is a finally block\")"
   ]
  },
  {
   "cell_type": "code",
   "execution_count": 11,
   "id": "560fc065",
   "metadata": {},
   "outputs": [
    {
     "name": "stdout",
     "output_type": "stream",
     "text": [
      "enter a no. a:667\n",
      "enter a no. b:667\n",
      "\n",
      "this is a finally block\n"
     ]
    }
   ],
   "source": [
    "#Nested try-except block:\n",
    "\n",
    "try:\n",
    "    a = int(input(\"enter a no. a:\"))\n",
    "    b = int(input(\"enter a no. b:\"))\n",
    "    raise ZeroDivisionError\n",
    "    try:\n",
    "        res = a/b\n",
    "    except:\n",
    "        print(\"division by 0 not allowed\")\n",
    "    \n",
    "except (ZeroDivisionError, ValueError, ArithmeticError, Exception ) as e2:\n",
    "    \n",
    "    print(e2)\n",
    "finally:\n",
    "    print(\"this is a finally block\")"
   ]
  },
  {
   "cell_type": "code",
   "execution_count": null,
   "id": "1a332305",
   "metadata": {},
   "outputs": [],
   "source": []
  }
 ],
 "metadata": {
  "kernelspec": {
   "display_name": "Python 3 (ipykernel)",
   "language": "python",
   "name": "python3"
  },
  "language_info": {
   "codemirror_mode": {
    "name": "ipython",
    "version": 3
   },
   "file_extension": ".py",
   "mimetype": "text/x-python",
   "name": "python",
   "nbconvert_exporter": "python",
   "pygments_lexer": "ipython3",
   "version": "3.10.9"
  }
 },
 "nbformat": 4,
 "nbformat_minor": 5
}
