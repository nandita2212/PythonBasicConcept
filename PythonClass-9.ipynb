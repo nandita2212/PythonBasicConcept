{
 "cells": [
  {
   "cell_type": "markdown",
   "id": "194e1955",
   "metadata": {},
   "source": [
    "# FUNCTIONS:\n"
   ]
  },
  {
   "cell_type": "code",
   "execution_count": 1,
   "id": "b53a5524",
   "metadata": {},
   "outputs": [
    {
     "name": "stdout",
     "output_type": "stream",
     "text": [
      "Not a palindrome\n",
      "30\n",
      "Not a palindrome\n",
      "30\n"
     ]
    }
   ],
   "source": [
    "#Why we need functions?\n",
    "\n",
    "#task1\n",
    "\n",
    "data = 'PythonCourse'\n",
    "\n",
    "if data == data[::-1]:\n",
    "    print(\"It is a palindrome\")\n",
    "else:\n",
    "    print(\"Not a palindrome\")\n",
    "    \n",
    "#task2\n",
    "\n",
    "a=10\n",
    "b=20\n",
    "print(a+b)\n",
    "\n",
    "#task1\n",
    "\n",
    "data = 'PythonCourse'\n",
    "\n",
    "if data == data[::-1]:\n",
    "    print(\"It is a palindrome\")\n",
    "else:\n",
    "    print(\"Not a palindrome\")\n",
    "    \n",
    "#task2\n",
    "\n",
    "a=10\n",
    "b=20\n",
    "print(a+b)"
   ]
  },
  {
   "cell_type": "markdown",
   "id": "b4e1e7e3",
   "metadata": {},
   "source": [
    "Problem with above code-\n",
    "\n",
    "Code should be written in understandable manner.\n",
    "Code should be in minimum possible line."
   ]
  },
  {
   "cell_type": "markdown",
   "id": "c4268c58",
   "metadata": {},
   "source": [
    "2 things in function:\n",
    "\n",
    "Write once and call it multiple times\n",
    "\n",
    "1. Function Definition - Define our task that we have to do.\n",
    "2. Function Call - Calling the function."
   ]
  },
  {
   "cell_type": "markdown",
   "id": "96f3e702",
   "metadata": {},
   "source": [
    "#Syntax:\n",
    "\n",
    "1. Function Definition:\n",
    "    \n",
    "     def function_name(parameter):\n",
    "            statement 1\n",
    "            statement 2\n",
    "            .\n",
    "            .\n",
    "            return statement 1\n",
    "        \n",
    "Parameter and return are optional.\n",
    "\n",
    "2. Function Call:\n",
    "\n",
    "    function_name(args)\n",
    "    \n",
    "   If my args are present, we need to provide parameters to call.\n",
    "\n"
   ]
  },
  {
   "cell_type": "code",
   "execution_count": 3,
   "id": "a0261fd9",
   "metadata": {},
   "outputs": [
    {
     "name": "stdout",
     "output_type": "stream",
     "text": [
      "30\n"
     ]
    }
   ],
   "source": [
    "a = 10 \n",
    "b = 20\n",
    "print(a+b)\n",
    "\n",
    "def add_num():\n",
    "    a = 10\n",
    "    b = 20\n",
    "    print(a+b)\n",
    "\n"
   ]
  },
  {
   "cell_type": "code",
   "execution_count": 4,
   "id": "60ee4f65",
   "metadata": {},
   "outputs": [
    {
     "name": "stdout",
     "output_type": "stream",
     "text": [
      "30\n"
     ]
    }
   ],
   "source": [
    "add_num()"
   ]
  },
  {
   "cell_type": "code",
   "execution_count": 12,
   "id": "54f18492",
   "metadata": {},
   "outputs": [],
   "source": [
    "# def add_number():\n",
    "#     x = int(input(\"enter a no.:\"))\n",
    "#     y = int(input(\"enter 2nd no.\"))\n",
    "#     print(x+y)"
   ]
  },
  {
   "cell_type": "code",
   "execution_count": 13,
   "id": "b8cfcbe9",
   "metadata": {},
   "outputs": [
    {
     "name": "stdout",
     "output_type": "stream",
     "text": [
      "enter a no.:20\n",
      "enter 2nd no.30\n",
      "50\n"
     ]
    }
   ],
   "source": [
    "# add_number()"
   ]
  },
  {
   "cell_type": "code",
   "execution_count": 2,
   "id": "2c28529b",
   "metadata": {},
   "outputs": [],
   "source": [
    "def add_number1(x,y):\n",
    "    print(x+y)\n",
    "    #return none"
   ]
  },
  {
   "cell_type": "code",
   "execution_count": 3,
   "id": "02d760e4",
   "metadata": {},
   "outputs": [
    {
     "name": "stdout",
     "output_type": "stream",
     "text": [
      "30\n",
      "None\n"
     ]
    }
   ],
   "source": [
    "output = add_number1(10,20)\n",
    "print(output)"
   ]
  },
  {
   "cell_type": "code",
   "execution_count": 4,
   "id": "bab3e5a6",
   "metadata": {},
   "outputs": [],
   "source": [
    "def palindrome(data):\n",
    "    if data == data[::-1]:\n",
    "        print(\"palindrome\")\n",
    "    else:\n",
    "        print(\"not a palindrome\")"
   ]
  },
  {
   "cell_type": "code",
   "execution_count": 5,
   "id": "25554aa3",
   "metadata": {},
   "outputs": [
    {
     "name": "stdout",
     "output_type": "stream",
     "text": [
      "palindrome\n",
      "600\n"
     ]
    }
   ],
   "source": [
    "palindrome(\"abcba\")\n",
    "add_number1(400,200)"
   ]
  },
  {
   "cell_type": "code",
   "execution_count": 6,
   "id": "987bd145",
   "metadata": {},
   "outputs": [
    {
     "name": "stdout",
     "output_type": "stream",
     "text": [
      "not a palindrome\n",
      "20420\n"
     ]
    }
   ],
   "source": [
    "palindrome(\"dwixhihx\")\n",
    "add_number1(400,20020)"
   ]
  },
  {
   "cell_type": "code",
   "execution_count": 10,
   "id": "8aeb2ea2",
   "metadata": {},
   "outputs": [
    {
     "name": "stdout",
     "output_type": "stream",
     "text": [
      "even\n",
      "even\n"
     ]
    }
   ],
   "source": [
    "def even_odd(num):\n",
    "    if num%2 ==0:\n",
    "        print(\"even\")\n",
    "        \n",
    "    else:\n",
    "        print(\"odd\")\n",
    "        \n",
    "\n",
    "even_odd(4828)\n",
    "even_odd(48984)"
   ]
  },
  {
   "cell_type": "code",
   "execution_count": 8,
   "id": "dd3248a7",
   "metadata": {},
   "outputs": [
    {
     "name": "stdout",
     "output_type": "stream",
     "text": [
      "even\n"
     ]
    }
   ],
   "source": [
    "even_odd(786354)"
   ]
  },
  {
   "cell_type": "markdown",
   "id": "22657a70",
   "metadata": {},
   "source": [
    "Types of Arguments:\n",
    "\n",
    "*No. of parameters and no.of arguments both should be equal.\n",
    "\n",
    "*non-default argument should not follow default argument\n",
    "\n",
    "1. Positional arguments\n",
    "2. Default arguments\n",
    "3. keyword arguments\n"
   ]
  },
  {
   "cell_type": "code",
   "execution_count": 18,
   "id": "1876c917",
   "metadata": {},
   "outputs": [],
   "source": [
    "#Positional Arguments:\n",
    "\n",
    "def emp_details(emp_name, emp_sal, emp_age):\n",
    "    print(\" name:\",emp_name)\n",
    "    print(\" salary:\",emp_sal)\n",
    "    print(\"age:\",emp_age)"
   ]
  },
  {
   "cell_type": "code",
   "execution_count": 21,
   "id": "89b48d8b",
   "metadata": {},
   "outputs": [
    {
     "name": "stdout",
     "output_type": "stream",
     "text": [
      " name: 40000\n",
      " salary: hjhd\n",
      "age: 39\n"
     ]
    }
   ],
   "source": [
    "#emp_details(\"shriti\", 300000, 24)\n",
    "emp_details(40000, \"hjhd\", 39)"
   ]
  },
  {
   "cell_type": "code",
   "execution_count": 22,
   "id": "0a9ded1d",
   "metadata": {},
   "outputs": [],
   "source": [
    "#Default Arguments:\n",
    "\n",
    "def emp_details(emp_name, emp_sal, emp_age, emp_loc='Goa'):\n",
    "    print(\"name:\",emp_name)\n",
    "    print(\"salary:\",emp_sal)\n",
    "    print(\"age:\",emp_age)\n",
    "    print(\"loc:\",emp_loc)"
   ]
  },
  {
   "cell_type": "code",
   "execution_count": 24,
   "id": "34f09d4e",
   "metadata": {},
   "outputs": [
    {
     "name": "stdout",
     "output_type": "stream",
     "text": [
      " name: ankita\n",
      " salary: 300000\n",
      "age: 28\n",
      "loc: Pune\n"
     ]
    }
   ],
   "source": [
    "emp_details(\"ankita\", 300000, 28)"
   ]
  },
  {
   "cell_type": "code",
   "execution_count": 25,
   "id": "36c59cab",
   "metadata": {},
   "outputs": [
    {
     "name": "stdout",
     "output_type": "stream",
     "text": [
      "name: ankita\n",
      "salary: 300000\n",
      "age: 28\n",
      "loc: Pune\n"
     ]
    }
   ],
   "source": [
    "\n",
    "def emp_details(emp_name, emp_sal, emp_age, emp_loc='Goa'):\n",
    "    print(\"name:\",emp_name)\n",
    "    print(\"salary:\",emp_sal)\n",
    "    print(\"age:\",emp_age)\n",
    "    print(\"loc:\",emp_loc)\n",
    "    \n",
    "emp_details(\"ankita\", 300000, 28,\"Pune\")"
   ]
  },
  {
   "cell_type": "code",
   "execution_count": 26,
   "id": "5447436f",
   "metadata": {},
   "outputs": [
    {
     "ename": "TypeError",
     "evalue": "emp_details() takes 3 positional arguments but 4 were given",
     "output_type": "error",
     "traceback": [
      "\u001b[1;31m---------------------------------------------------------------------------\u001b[0m",
      "\u001b[1;31mTypeError\u001b[0m                                 Traceback (most recent call last)",
      "Cell \u001b[1;32mIn[26], line 7\u001b[0m\n\u001b[0;32m      4\u001b[0m     \u001b[38;5;28mprint\u001b[39m(\u001b[38;5;124m\"\u001b[39m\u001b[38;5;124mage:\u001b[39m\u001b[38;5;124m\"\u001b[39m,emp_age)\n\u001b[0;32m      5\u001b[0m     \u001b[38;5;28mprint\u001b[39m(\u001b[38;5;124m\"\u001b[39m\u001b[38;5;124mloc:\u001b[39m\u001b[38;5;124m\"\u001b[39m,emp_loc)\n\u001b[1;32m----> 7\u001b[0m \u001b[43memp_details\u001b[49m\u001b[43m(\u001b[49m\u001b[38;5;124;43m\"\u001b[39;49m\u001b[38;5;124;43mankita\u001b[39;49m\u001b[38;5;124;43m\"\u001b[39;49m\u001b[43m,\u001b[49m\u001b[43m \u001b[49m\u001b[38;5;241;43m300000\u001b[39;49m\u001b[43m,\u001b[49m\u001b[43m \u001b[49m\u001b[38;5;241;43m28\u001b[39;49m\u001b[43m,\u001b[49m\u001b[38;5;124;43m\"\u001b[39;49m\u001b[38;5;124;43mPune\u001b[39;49m\u001b[38;5;124;43m\"\u001b[39;49m\u001b[43m)\u001b[49m\n",
      "\u001b[1;31mTypeError\u001b[0m: emp_details() takes 3 positional arguments but 4 were given"
     ]
    }
   ],
   "source": [
    "def emp_details(emp_name, emp_sal, emp_age):\n",
    "    print(\"name:\",emp_name)\n",
    "    print(\"salary:\",emp_sal)\n",
    "    print(\"age:\",emp_age)\n",
    "    print(\"loc:\",emp_loc)\n",
    "    \n",
    "emp_details(\"ankita\", 300000, 28,\"Pune\")"
   ]
  },
  {
   "cell_type": "code",
   "execution_count": 27,
   "id": "d277e007",
   "metadata": {},
   "outputs": [
    {
     "ename": "TypeError",
     "evalue": "emp_details() missing 1 required positional argument: 'emp_age'",
     "output_type": "error",
     "traceback": [
      "\u001b[1;31m---------------------------------------------------------------------------\u001b[0m",
      "\u001b[1;31mTypeError\u001b[0m                                 Traceback (most recent call last)",
      "Cell \u001b[1;32mIn[27], line 7\u001b[0m\n\u001b[0;32m      3\u001b[0m     \u001b[38;5;28mprint\u001b[39m(\u001b[38;5;124m\"\u001b[39m\u001b[38;5;124msalary:\u001b[39m\u001b[38;5;124m\"\u001b[39m,emp_sal)\n\u001b[0;32m      4\u001b[0m     \u001b[38;5;28mprint\u001b[39m(\u001b[38;5;124m\"\u001b[39m\u001b[38;5;124mage:\u001b[39m\u001b[38;5;124m\"\u001b[39m,emp_age)\n\u001b[1;32m----> 7\u001b[0m \u001b[43memp_details\u001b[49m\u001b[43m(\u001b[49m\u001b[38;5;124;43m\"\u001b[39;49m\u001b[38;5;124;43mankita\u001b[39;49m\u001b[38;5;124;43m\"\u001b[39;49m\u001b[43m,\u001b[49m\u001b[43m \u001b[49m\u001b[38;5;241;43m300000\u001b[39;49m\u001b[43m)\u001b[49m\n",
      "\u001b[1;31mTypeError\u001b[0m: emp_details() missing 1 required positional argument: 'emp_age'"
     ]
    }
   ],
   "source": [
    "def emp_details(emp_name, emp_sal, emp_age):\n",
    "    print(\"name:\",emp_name)\n",
    "    print(\"salary:\",emp_sal)\n",
    "    print(\"age:\",emp_age)\n",
    "    \n",
    "    \n",
    "emp_details(\"ankita\", 300000)"
   ]
  },
  {
   "cell_type": "code",
   "execution_count": 36,
   "id": "c93092c3",
   "metadata": {},
   "outputs": [
    {
     "name": "stdout",
     "output_type": "stream",
     "text": [
      "name: ankita\n",
      "salary: 300000\n",
      "age: 58\n",
      "loc: pune\n"
     ]
    }
   ],
   "source": [
    "\n",
    "def emp_details(emp_name, emp_sal, emp_loc='Goa', emp_age=67):\n",
    "    print(\"name:\",emp_name)\n",
    "    print(\"salary:\",emp_sal)\n",
    "    print(\"age:\",emp_age)\n",
    "    print(\"loc:\",emp_loc)\n",
    "    \n",
    "emp_details(\"ankita\", 300000,'pune', 58)"
   ]
  },
  {
   "cell_type": "code",
   "execution_count": 37,
   "id": "17226208",
   "metadata": {},
   "outputs": [
    {
     "name": "stdout",
     "output_type": "stream",
     "text": [
      "name: ankita\n",
      "salary: 300000\n",
      "age: 67\n",
      "loc: 58\n"
     ]
    }
   ],
   "source": [
    "\n",
    "def emp_details(emp_name, emp_sal, emp_loc='Goa', emp_age=67):\n",
    "    print(\"name:\",emp_name)\n",
    "    print(\"salary:\",emp_sal)\n",
    "    print(\"age:\",emp_age)\n",
    "    print(\"loc:\",emp_loc)\n",
    "    \n",
    "emp_details(\"ankita\", 300000, 58)"
   ]
  },
  {
   "cell_type": "code",
   "execution_count": 38,
   "id": "f4262eb2",
   "metadata": {},
   "outputs": [
    {
     "name": "stdout",
     "output_type": "stream",
     "text": [
      "name: ankita\n",
      "salary: 300000\n",
      "age: 67\n",
      "loc: Goa\n"
     ]
    }
   ],
   "source": [
    "\n",
    "def emp_details(emp_name, emp_sal, emp_loc='Goa', emp_age=67):\n",
    "    print(\"name:\",emp_name)\n",
    "    print(\"salary:\",emp_sal)\n",
    "    print(\"age:\",emp_age)\n",
    "    print(\"loc:\",emp_loc)\n",
    "    \n",
    "emp_details(\"ankita\", 300000,)"
   ]
  },
  {
   "cell_type": "code",
   "execution_count": 56,
   "id": "80b41b57",
   "metadata": {},
   "outputs": [
    {
     "ename": "SyntaxError",
     "evalue": "positional argument follows keyword argument (3068651920.py, line 9)",
     "output_type": "error",
     "traceback": [
      "\u001b[1;36m  Cell \u001b[1;32mIn[56], line 9\u001b[1;36m\u001b[0m\n\u001b[1;33m    emp_details(emp_name=\"jack\",292993, Goa, 88)\u001b[0m\n\u001b[1;37m                                               ^\u001b[0m\n\u001b[1;31mSyntaxError\u001b[0m\u001b[1;31m:\u001b[0m positional argument follows keyword argument\n"
     ]
    }
   ],
   "source": [
    "#Keyword Argument: positional argument should not follow keyword argument.\n",
    "\n",
    "\n",
    "def emp_details(emp_name, emp_sal, emp_loc='Goa', emp_age=67):\n",
    "    print(\"name:\",emp_name)\n",
    "    print(\"salary:\",emp_sal)\n",
    "    print(\"age:\",emp_age)\n",
    "    print(\"loc:\",emp_loc)\n",
    "    \n",
    "emp_details(emp_name=\"jack\",292993, Goa, 88)"
   ]
  },
  {
   "cell_type": "code",
   "execution_count": null,
   "id": "6018d523",
   "metadata": {},
   "outputs": [],
   "source": [
    "def emp_details(name, sal, age):\n",
    "    print(name)\n",
    "    print(sal)\n",
    "    print(age)\n",
    "    \n",
    "emp_details(age=90, name='jack', sal=56000)"
   ]
  },
  {
   "cell_type": "code",
   "execution_count": 58,
   "id": "bd67804a",
   "metadata": {},
   "outputs": [
    {
     "ename": "TypeError",
     "evalue": "emp_details() got multiple values for argument 'name'",
     "output_type": "error",
     "traceback": [
      "\u001b[1;31m---------------------------------------------------------------------------\u001b[0m",
      "\u001b[1;31mTypeError\u001b[0m                                 Traceback (most recent call last)",
      "Cell \u001b[1;32mIn[58], line 6\u001b[0m\n\u001b[0;32m      3\u001b[0m     \u001b[38;5;28mprint\u001b[39m(sal)\n\u001b[0;32m      4\u001b[0m     \u001b[38;5;28mprint\u001b[39m(age)\n\u001b[1;32m----> 6\u001b[0m \u001b[43memp_details\u001b[49m\u001b[43m(\u001b[49m\u001b[38;5;241;43m90\u001b[39;49m\u001b[43m,\u001b[49m\u001b[43m \u001b[49m\u001b[43mname\u001b[49m\u001b[38;5;241;43m=\u001b[39;49m\u001b[38;5;124;43m'\u001b[39;49m\u001b[38;5;124;43mjack\u001b[39;49m\u001b[38;5;124;43m'\u001b[39;49m\u001b[43m,\u001b[49m\u001b[43m \u001b[49m\u001b[43msal\u001b[49m\u001b[38;5;241;43m=\u001b[39;49m\u001b[38;5;241;43m56000\u001b[39;49m\u001b[43m)\u001b[49m\n",
      "\u001b[1;31mTypeError\u001b[0m: emp_details() got multiple values for argument 'name'"
     ]
    }
   ],
   "source": [
    "def emp_details(name, sal, age):\n",
    "    print(name)\n",
    "    print(sal)\n",
    "    print(age)\n",
    "    \n",
    "emp_details(90, name='jack', sal=56000)"
   ]
  },
  {
   "cell_type": "code",
   "execution_count": 59,
   "id": "f3c3a815",
   "metadata": {},
   "outputs": [
    {
     "ename": "SyntaxError",
     "evalue": "positional argument follows keyword argument (413213174.py, line 6)",
     "output_type": "error",
     "traceback": [
      "\u001b[1;36m  Cell \u001b[1;32mIn[59], line 6\u001b[1;36m\u001b[0m\n\u001b[1;33m    emp_details(name='jack', sal=56000, 90)\u001b[0m\n\u001b[1;37m                                          ^\u001b[0m\n\u001b[1;31mSyntaxError\u001b[0m\u001b[1;31m:\u001b[0m positional argument follows keyword argument\n"
     ]
    }
   ],
   "source": [
    "def emp_details(name, sal, age):\n",
    "    print(name)\n",
    "    print(sal)\n",
    "    print(age)\n",
    "    \n",
    "emp_details(name='jack', sal=56000, 90)"
   ]
  },
  {
   "cell_type": "code",
   "execution_count": 61,
   "id": "ee7b0075",
   "metadata": {},
   "outputs": [
    {
     "name": "stdout",
     "output_type": "stream",
     "text": [
      "jack\n",
      "56000\n",
      "90\n"
     ]
    }
   ],
   "source": [
    "def emp_details(name, sal, age):\n",
    "    print(name)\n",
    "    print(sal)\n",
    "    print(age)\n",
    "    \n",
    "emp_details('jack', sal=56000, age=90)"
   ]
  },
  {
   "cell_type": "code",
   "execution_count": 62,
   "id": "c46b4134",
   "metadata": {},
   "outputs": [
    {
     "name": "stdout",
     "output_type": "stream",
     "text": [
      "jack\n",
      "56000\n",
      "90\n"
     ]
    }
   ],
   "source": [
    "emp_details(age=90,name='jack',sal = 56000)"
   ]
  },
  {
   "cell_type": "markdown",
   "id": "db8b7efa",
   "metadata": {},
   "source": [
    "Return Statement:\n",
    "\n",
    "-return is optional for users.\n",
    "\n",
    "-function is always having a return statement.\n",
    "\n",
    "-if return statement is used then that will be returned\n",
    "\n",
    "-if return statement is not written then default value will be none."
   ]
  },
  {
   "cell_type": "code",
   "execution_count": 41,
   "id": "aef162a7",
   "metadata": {},
   "outputs": [],
   "source": [
    "def add_number2(a,b):\n",
    "    c=a+b\n",
    "    return c"
   ]
  },
  {
   "cell_type": "code",
   "execution_count": 44,
   "id": "54ca1248",
   "metadata": {},
   "outputs": [
    {
     "name": "stdout",
     "output_type": "stream",
     "text": [
      "409\n"
     ]
    }
   ],
   "source": [
    "output=add_number2(10,399)\n",
    "print(output)"
   ]
  },
  {
   "cell_type": "code",
   "execution_count": 47,
   "id": "d357d8a3",
   "metadata": {},
   "outputs": [
    {
     "data": {
      "text/plain": [
       "[29, 49, 47]"
      ]
     },
     "execution_count": 47,
     "metadata": {},
     "output_type": "execute_result"
    }
   ],
   "source": [
    "def add_number2(a,b):\n",
    "    c=a+b\n",
    "    return [29, 49, 47]\n",
    "\n",
    "add_number2(a,b)"
   ]
  },
  {
   "cell_type": "code",
   "execution_count": 48,
   "id": "33d78eb1",
   "metadata": {},
   "outputs": [
    {
     "data": {
      "text/plain": [
       "[29, 49, 47]"
      ]
     },
     "execution_count": 48,
     "metadata": {},
     "output_type": "execute_result"
    }
   ],
   "source": [
    "def add_number2():\n",
    "    #c=a+b\n",
    "    return [29, 49, 47]\n",
    "\n",
    "add_number2()"
   ]
  },
  {
   "cell_type": "code",
   "execution_count": 54,
   "id": "b0c2cd89",
   "metadata": {},
   "outputs": [
    {
     "name": "stdout",
     "output_type": "stream",
     "text": [
      "937\n",
      "200 737\n"
     ]
    }
   ],
   "source": [
    "def sum_num(x,y):\n",
    "    print(x+y)\n",
    "    return(x,y)\n",
    "    return(x+y)\n",
    "\n",
    "\n",
    "a,b = sum_num(200,737)\n",
    "print(a,b)"
   ]
  },
  {
   "cell_type": "code",
   "execution_count": 53,
   "id": "5c41cf86",
   "metadata": {},
   "outputs": [
    {
     "name": "stdout",
     "output_type": "stream",
     "text": [
      "937\n"
     ]
    },
    {
     "data": {
      "text/plain": [
       "(200, 737)"
      ]
     },
     "execution_count": 53,
     "metadata": {},
     "output_type": "execute_result"
    }
   ],
   "source": [
    "def sum_num(x,y):\n",
    "    print(x+y)\n",
    "    return(x,y)\n",
    "    return(x+y)\n",
    "\n",
    "\n",
    "sum_num(200,737)"
   ]
  },
  {
   "cell_type": "code",
   "execution_count": 63,
   "id": "ba042397",
   "metadata": {},
   "outputs": [
    {
     "data": {
      "text/plain": [
       "24"
      ]
     },
     "execution_count": 63,
     "metadata": {},
     "output_type": "execute_result"
    }
   ],
   "source": [
    "#RecursiveFunction: Function calls itself.\n",
    "\n",
    "# 4! = 4*3*2*1\n",
    "\n",
    "def factorials(num):\n",
    "    if num==0:\n",
    "        return 1\n",
    "    else:\n",
    "        return num*factorials(num-1)\n",
    "    \n",
    "\n",
    "factorials(4)"
   ]
  },
  {
   "cell_type": "code",
   "execution_count": null,
   "id": "9cca8879",
   "metadata": {},
   "outputs": [],
   "source": []
  }
 ],
 "metadata": {
  "kernelspec": {
   "display_name": "Python 3 (ipykernel)",
   "language": "python",
   "name": "python3"
  },
  "language_info": {
   "codemirror_mode": {
    "name": "ipython",
    "version": 3
   },
   "file_extension": ".py",
   "mimetype": "text/x-python",
   "name": "python",
   "nbconvert_exporter": "python",
   "pygments_lexer": "ipython3",
   "version": "3.10.9"
  }
 },
 "nbformat": 4,
 "nbformat_minor": 5
}
