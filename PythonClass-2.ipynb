{
 "cells": [
  {
   "cell_type": "markdown",
   "id": "f535e214",
   "metadata": {},
   "source": [
    "Hi everyone , how are you\n"
   ]
  },
  {
   "cell_type": "markdown",
   "id": "1eadf525",
   "metadata": {},
   "source": [
    "gggiswiuwuid"
   ]
  },
  {
   "cell_type": "code",
   "execution_count": 1,
   "id": "f7210abd",
   "metadata": {},
   "outputs": [
    {
     "name": "stdout",
     "output_type": "stream",
     "text": [
      "10\n"
     ]
    }
   ],
   "source": [
    "a=10\n",
    "print(a)"
   ]
  },
  {
   "cell_type": "markdown",
   "id": "c0bb9c16",
   "metadata": {},
   "source": [
    "# Operators\n"
   ]
  },
  {
   "cell_type": "code",
   "execution_count": 2,
   "id": "2e204273",
   "metadata": {},
   "outputs": [],
   "source": [
    "#a + b \n",
    "\n",
    "#a & b are operands\n",
    "#+ operators\n",
    "\n"
   ]
  },
  {
   "cell_type": "markdown",
   "id": "91c43ebd",
   "metadata": {},
   "source": [
    "Arithmetic Operators:\n",
    "\n",
    "+, -, *, /, //, **, %\n",
    "\n"
   ]
  },
  {
   "cell_type": "code",
   "execution_count": 3,
   "id": "86ca007a",
   "metadata": {},
   "outputs": [],
   "source": [
    "a=100\n"
   ]
  },
  {
   "cell_type": "code",
   "execution_count": 4,
   "id": "c8fb5acc",
   "metadata": {},
   "outputs": [],
   "source": [
    "b=200"
   ]
  },
  {
   "cell_type": "code",
   "execution_count": 5,
   "id": "b6c08e76",
   "metadata": {},
   "outputs": [
    {
     "data": {
      "text/plain": [
       "300"
      ]
     },
     "execution_count": 5,
     "metadata": {},
     "output_type": "execute_result"
    }
   ],
   "source": [
    "a+b"
   ]
  },
  {
   "cell_type": "code",
   "execution_count": 6,
   "id": "bb756d22",
   "metadata": {},
   "outputs": [
    {
     "data": {
      "text/plain": [
       "-100"
      ]
     },
     "execution_count": 6,
     "metadata": {},
     "output_type": "execute_result"
    }
   ],
   "source": [
    "a-b"
   ]
  },
  {
   "cell_type": "code",
   "execution_count": 7,
   "id": "17e7e234",
   "metadata": {},
   "outputs": [
    {
     "data": {
      "text/plain": [
       "20000"
      ]
     },
     "execution_count": 7,
     "metadata": {},
     "output_type": "execute_result"
    }
   ],
   "source": [
    "a*b"
   ]
  },
  {
   "cell_type": "code",
   "execution_count": 8,
   "id": "4f942ff9",
   "metadata": {},
   "outputs": [
    {
     "data": {
      "text/plain": [
       "0.5"
      ]
     },
     "execution_count": 8,
     "metadata": {},
     "output_type": "execute_result"
    }
   ],
   "source": [
    "a/b"
   ]
  },
  {
   "cell_type": "code",
   "execution_count": 9,
   "id": "4e556913",
   "metadata": {},
   "outputs": [
    {
     "data": {
      "text/plain": [
       "0"
      ]
     },
     "execution_count": 9,
     "metadata": {},
     "output_type": "execute_result"
    }
   ],
   "source": [
    "a//b"
   ]
  },
  {
   "cell_type": "code",
   "execution_count": 10,
   "id": "b6d79922",
   "metadata": {},
   "outputs": [],
   "source": [
    "a=5"
   ]
  },
  {
   "cell_type": "code",
   "execution_count": 11,
   "id": "bad83dbc",
   "metadata": {},
   "outputs": [],
   "source": [
    "b=2"
   ]
  },
  {
   "cell_type": "code",
   "execution_count": 12,
   "id": "b2dd9162",
   "metadata": {},
   "outputs": [
    {
     "data": {
      "text/plain": [
       "25"
      ]
     },
     "execution_count": 12,
     "metadata": {},
     "output_type": "execute_result"
    }
   ],
   "source": [
    "a**b"
   ]
  },
  {
   "cell_type": "code",
   "execution_count": 13,
   "id": "8039621d",
   "metadata": {},
   "outputs": [
    {
     "data": {
      "text/plain": [
       "1"
      ]
     },
     "execution_count": 13,
     "metadata": {},
     "output_type": "execute_result"
    }
   ],
   "source": [
    "a%b"
   ]
  },
  {
   "cell_type": "code",
   "execution_count": 14,
   "id": "ce726ba7",
   "metadata": {},
   "outputs": [],
   "source": [
    "b=5"
   ]
  },
  {
   "cell_type": "code",
   "execution_count": 15,
   "id": "f417e624",
   "metadata": {},
   "outputs": [
    {
     "data": {
      "text/plain": [
       "0"
      ]
     },
     "execution_count": 15,
     "metadata": {},
     "output_type": "execute_result"
    }
   ],
   "source": [
    "a%b"
   ]
  },
  {
   "cell_type": "markdown",
   "id": "8bb94882",
   "metadata": {},
   "source": [
    "# Assignment Operator"
   ]
  },
  {
   "cell_type": "code",
   "execution_count": 32,
   "id": "3effe7da",
   "metadata": {},
   "outputs": [],
   "source": [
    "x= 20"
   ]
  },
  {
   "cell_type": "code",
   "execution_count": 17,
   "id": "5f2ff632",
   "metadata": {},
   "outputs": [],
   "source": [
    "total = 5000"
   ]
  },
  {
   "cell_type": "code",
   "execution_count": 31,
   "id": "685210c8",
   "metadata": {},
   "outputs": [
    {
     "name": "stdout",
     "output_type": "stream",
     "text": [
      "40\n"
     ]
    }
   ],
   "source": [
    "#Addition Assignment Operator\n",
    "var += 20\n",
    "print(var)"
   ]
  },
  {
   "cell_type": "code",
   "execution_count": 47,
   "id": "852e1e27",
   "metadata": {},
   "outputs": [],
   "source": [
    "str1 = 'hi'"
   ]
  },
  {
   "cell_type": "code",
   "execution_count": 48,
   "id": "5ea60ff4",
   "metadata": {},
   "outputs": [],
   "source": [
    "str1 += 'hello'"
   ]
  },
  {
   "cell_type": "code",
   "execution_count": 49,
   "id": "5ac0dbfd",
   "metadata": {},
   "outputs": [
    {
     "name": "stdout",
     "output_type": "stream",
     "text": [
      "hihello\n"
     ]
    }
   ],
   "source": [
    "print(str1)"
   ]
  },
  {
   "cell_type": "code",
   "execution_count": 50,
   "id": "8c799822",
   "metadata": {},
   "outputs": [
    {
     "name": "stdout",
     "output_type": "stream",
     "text": [
      "hihellohey\n",
      "hihellohey   hey\n"
     ]
    }
   ],
   "source": [
    "str1 = str1+'hey'\n",
    "print(str1) #hihellohey\n",
    "str1 = str1 + '   '\n",
    "str1 = str1+'hey'\n",
    "print(str1)"
   ]
  },
  {
   "cell_type": "code",
   "execution_count": 33,
   "id": "9fb92a36",
   "metadata": {},
   "outputs": [],
   "source": [
    "x = 20"
   ]
  },
  {
   "cell_type": "code",
   "execution_count": 34,
   "id": "4426f318",
   "metadata": {},
   "outputs": [
    {
     "data": {
      "text/plain": [
       "2511822717776"
      ]
     },
     "execution_count": 34,
     "metadata": {},
     "output_type": "execute_result"
    }
   ],
   "source": [
    "id(x)"
   ]
  },
  {
   "cell_type": "code",
   "execution_count": 35,
   "id": "01f9cb93",
   "metadata": {},
   "outputs": [],
   "source": [
    "x += 20"
   ]
  },
  {
   "cell_type": "code",
   "execution_count": 36,
   "id": "9a6cd3a4",
   "metadata": {},
   "outputs": [
    {
     "name": "stdout",
     "output_type": "stream",
     "text": [
      "40\n"
     ]
    }
   ],
   "source": [
    "print(x)"
   ]
  },
  {
   "cell_type": "code",
   "execution_count": 37,
   "id": "1c708430",
   "metadata": {},
   "outputs": [
    {
     "data": {
      "text/plain": [
       "2511822718416"
      ]
     },
     "execution_count": 37,
     "metadata": {},
     "output_type": "execute_result"
    }
   ],
   "source": [
    "id(x)"
   ]
  },
  {
   "cell_type": "code",
   "execution_count": 38,
   "id": "b3d1eefa",
   "metadata": {},
   "outputs": [],
   "source": [
    "x = x+20"
   ]
  },
  {
   "cell_type": "code",
   "execution_count": 39,
   "id": "f88815d7",
   "metadata": {},
   "outputs": [
    {
     "name": "stdout",
     "output_type": "stream",
     "text": [
      "60\n"
     ]
    }
   ],
   "source": [
    "print(x)"
   ]
  },
  {
   "cell_type": "code",
   "execution_count": 51,
   "id": "6b288fc7",
   "metadata": {},
   "outputs": [],
   "source": [
    "#Subtraction Assignment Operator"
   ]
  },
  {
   "cell_type": "code",
   "execution_count": 52,
   "id": "5b19edd8",
   "metadata": {},
   "outputs": [
    {
     "name": "stdout",
     "output_type": "stream",
     "text": [
      "30\n"
     ]
    }
   ],
   "source": [
    "a = 50\n",
    "\n",
    "a -=20\n",
    "print(a)"
   ]
  },
  {
   "cell_type": "code",
   "execution_count": 55,
   "id": "f5fa9504",
   "metadata": {},
   "outputs": [
    {
     "ename": "TypeError",
     "evalue": "bad operand type for unary -: 'str'",
     "output_type": "error",
     "traceback": [
      "\u001b[1;31m---------------------------------------------------------------------------\u001b[0m",
      "\u001b[1;31mTypeError\u001b[0m                                 Traceback (most recent call last)",
      "Cell \u001b[1;32mIn[55], line 2\u001b[0m\n\u001b[0;32m      1\u001b[0m a \u001b[38;5;241m=\u001b[39m \u001b[38;5;124m'\u001b[39m\u001b[38;5;124mhi\u001b[39m\u001b[38;5;124m'\u001b[39m\n\u001b[1;32m----> 2\u001b[0m a \u001b[38;5;241m=\u001b[39m\u001b[38;5;241;43m-\u001b[39;49m\u001b[43m \u001b[49m\u001b[38;5;124;43m'\u001b[39;49m\u001b[38;5;124;43mhi\u001b[39;49m\u001b[38;5;124;43m'\u001b[39;49m\n\u001b[0;32m      3\u001b[0m \u001b[38;5;28mprint\u001b[39m(a)\n",
      "\u001b[1;31mTypeError\u001b[0m: bad operand type for unary -: 'str'"
     ]
    }
   ],
   "source": [
    "a = 'hi'\n",
    "a =- 'hi'\n",
    "print(a)"
   ]
  },
  {
   "cell_type": "code",
   "execution_count": 59,
   "id": "47289665",
   "metadata": {},
   "outputs": [
    {
     "name": "stdout",
     "output_type": "stream",
     "text": [
      "8.0\n"
     ]
    }
   ],
   "source": [
    "#Division assignment Operator\n",
    "\n",
    "a = 80\n",
    "\n",
    "a /= 10\n",
    "\n",
    "print(a)"
   ]
  },
  {
   "cell_type": "code",
   "execution_count": 58,
   "id": "c93b254e",
   "metadata": {},
   "outputs": [
    {
     "name": "stdout",
     "output_type": "stream",
     "text": [
      "8\n"
     ]
    }
   ],
   "source": [
    "a //= 9\n",
    "print(a)"
   ]
  },
  {
   "cell_type": "code",
   "execution_count": 70,
   "id": "3ed69f45",
   "metadata": {},
   "outputs": [],
   "source": [
    "#Multiplication Assignment operator \n",
    "\n",
    "a = 30\n",
    "\n",
    "#a *= 10\n",
    "\n",
    "a **= 2"
   ]
  },
  {
   "cell_type": "code",
   "execution_count": 71,
   "id": "39732960",
   "metadata": {},
   "outputs": [
    {
     "name": "stdout",
     "output_type": "stream",
     "text": [
      "900\n"
     ]
    }
   ],
   "source": [
    "print(a)"
   ]
  },
  {
   "cell_type": "code",
   "execution_count": 63,
   "id": "d55f5525",
   "metadata": {},
   "outputs": [],
   "source": [
    "# same value to the multiple variable then the id will remain same.\n",
    "a=b=c=80"
   ]
  },
  {
   "cell_type": "code",
   "execution_count": 64,
   "id": "e79d454c",
   "metadata": {},
   "outputs": [
    {
     "name": "stdout",
     "output_type": "stream",
     "text": [
      "80\n"
     ]
    },
    {
     "data": {
      "text/plain": [
       "2511822719696"
      ]
     },
     "execution_count": 64,
     "metadata": {},
     "output_type": "execute_result"
    }
   ],
   "source": [
    "print(a)\n",
    "id(a)"
   ]
  },
  {
   "cell_type": "code",
   "execution_count": 65,
   "id": "9c522cdb",
   "metadata": {},
   "outputs": [
    {
     "name": "stdout",
     "output_type": "stream",
     "text": [
      "80\n"
     ]
    },
    {
     "data": {
      "text/plain": [
       "2511822719696"
      ]
     },
     "execution_count": 65,
     "metadata": {},
     "output_type": "execute_result"
    }
   ],
   "source": [
    "print(b)\n",
    "id(b)"
   ]
  },
  {
   "cell_type": "code",
   "execution_count": 66,
   "id": "5ba37d2f",
   "metadata": {},
   "outputs": [
    {
     "name": "stdout",
     "output_type": "stream",
     "text": [
      "80\n"
     ]
    },
    {
     "data": {
      "text/plain": [
       "2511822719696"
      ]
     },
     "execution_count": 66,
     "metadata": {},
     "output_type": "execute_result"
    }
   ],
   "source": [
    "print(c)\n",
    "id(c)"
   ]
  },
  {
   "cell_type": "code",
   "execution_count": 69,
   "id": "26a813aa",
   "metadata": {},
   "outputs": [
    {
     "name": "stdout",
     "output_type": "stream",
     "text": [
      "50\n",
      "2511822718736\n",
      "50\n",
      "2511822718736\n",
      "50\n",
      "2511822718736\n"
     ]
    }
   ],
   "source": [
    "a= 50\n",
    "b=50\n",
    "c=50\n",
    "\n",
    "print(a)\n",
    "print(id(a))\n",
    "\n",
    "print(b)\n",
    "print(id(b))\n",
    "\n",
    "print(c)\n",
    "print(id(c))"
   ]
  },
  {
   "cell_type": "code",
   "execution_count": 72,
   "id": "72c03012",
   "metadata": {},
   "outputs": [
    {
     "name": "stdout",
     "output_type": "stream",
     "text": [
      "10 20 30\n"
     ]
    }
   ],
   "source": [
    "a, b, c = 10, 20, 30\n",
    "\n",
    "print(a,b,c)"
   ]
  },
  {
   "cell_type": "code",
   "execution_count": 73,
   "id": "587b0dae",
   "metadata": {},
   "outputs": [
    {
     "ename": "ValueError",
     "evalue": "too many values to unpack (expected 2)",
     "output_type": "error",
     "traceback": [
      "\u001b[1;31m---------------------------------------------------------------------------\u001b[0m",
      "\u001b[1;31mValueError\u001b[0m                                Traceback (most recent call last)",
      "Cell \u001b[1;32mIn[73], line 1\u001b[0m\n\u001b[1;32m----> 1\u001b[0m a, b \u001b[38;5;241m=\u001b[39m \u001b[38;5;241m10\u001b[39m, \u001b[38;5;241m20\u001b[39m, \u001b[38;5;241m30\u001b[39m\n",
      "\u001b[1;31mValueError\u001b[0m: too many values to unpack (expected 2)"
     ]
    }
   ],
   "source": [
    "a, b = 10, 20, 30"
   ]
  },
  {
   "cell_type": "code",
   "execution_count": 74,
   "id": "f84b5da8",
   "metadata": {},
   "outputs": [
    {
     "ename": "ValueError",
     "evalue": "not enough values to unpack (expected 3, got 2)",
     "output_type": "error",
     "traceback": [
      "\u001b[1;31m---------------------------------------------------------------------------\u001b[0m",
      "\u001b[1;31mValueError\u001b[0m                                Traceback (most recent call last)",
      "Cell \u001b[1;32mIn[74], line 1\u001b[0m\n\u001b[1;32m----> 1\u001b[0m a, b, c \u001b[38;5;241m=\u001b[39m \u001b[38;5;241m10\u001b[39m, \u001b[38;5;241m20\u001b[39m\n",
      "\u001b[1;31mValueError\u001b[0m: not enough values to unpack (expected 3, got 2)"
     ]
    }
   ],
   "source": [
    "a, b, c = 10, 20"
   ]
  },
  {
   "cell_type": "code",
   "execution_count": 75,
   "id": "731fc0e6",
   "metadata": {},
   "outputs": [],
   "source": [
    "#Relational Operator \n",
    "\n",
    ">, <, ==, <=, >=, !="
   ]
  },
  {
   "cell_type": "code",
   "execution_count": 78,
   "id": "25914beb",
   "metadata": {},
   "outputs": [],
   "source": [
    "x = 100\n",
    "y = 101"
   ]
  },
  {
   "cell_type": "code",
   "execution_count": 79,
   "id": "e7e9f59a",
   "metadata": {},
   "outputs": [
    {
     "data": {
      "text/plain": [
       "False"
      ]
     },
     "execution_count": 79,
     "metadata": {},
     "output_type": "execute_result"
    }
   ],
   "source": [
    "x>y"
   ]
  },
  {
   "cell_type": "code",
   "execution_count": 80,
   "id": "7d04587a",
   "metadata": {},
   "outputs": [
    {
     "data": {
      "text/plain": [
       "False"
      ]
     },
     "execution_count": 80,
     "metadata": {},
     "output_type": "execute_result"
    }
   ],
   "source": [
    "x==y"
   ]
  },
  {
   "cell_type": "code",
   "execution_count": 81,
   "id": "fa84a707",
   "metadata": {},
   "outputs": [
    {
     "data": {
      "text/plain": [
       "True"
      ]
     },
     "execution_count": 81,
     "metadata": {},
     "output_type": "execute_result"
    }
   ],
   "source": [
    "x<y"
   ]
  },
  {
   "cell_type": "code",
   "execution_count": 82,
   "id": "7488f920",
   "metadata": {},
   "outputs": [
    {
     "data": {
      "text/plain": [
       "True"
      ]
     },
     "execution_count": 82,
     "metadata": {},
     "output_type": "execute_result"
    }
   ],
   "source": [
    "'hi'>'Hi'"
   ]
  },
  {
   "cell_type": "code",
   "execution_count": 83,
   "id": "a880f427",
   "metadata": {},
   "outputs": [
    {
     "data": {
      "text/plain": [
       "True"
      ]
     },
     "execution_count": 83,
     "metadata": {},
     "output_type": "execute_result"
    }
   ],
   "source": [
    "'hi'=='hi'"
   ]
  },
  {
   "cell_type": "code",
   "execution_count": 84,
   "id": "eb059433",
   "metadata": {},
   "outputs": [
    {
     "data": {
      "text/plain": [
       "True"
      ]
     },
     "execution_count": 84,
     "metadata": {},
     "output_type": "execute_result"
    }
   ],
   "source": [
    "x != y"
   ]
  },
  {
   "cell_type": "code",
   "execution_count": 85,
   "id": "39ceb37b",
   "metadata": {},
   "outputs": [
    {
     "data": {
      "text/plain": [
       "False"
      ]
     },
     "execution_count": 85,
     "metadata": {},
     "output_type": "execute_result"
    }
   ],
   "source": [
    "x>=y"
   ]
  },
  {
   "cell_type": "code",
   "execution_count": 86,
   "id": "02067d83",
   "metadata": {},
   "outputs": [
    {
     "data": {
      "text/plain": [
       "True"
      ]
     },
     "execution_count": 86,
     "metadata": {},
     "output_type": "execute_result"
    }
   ],
   "source": [
    "x<=y"
   ]
  },
  {
   "cell_type": "code",
   "execution_count": 87,
   "id": "da1d5d52",
   "metadata": {},
   "outputs": [],
   "source": [
    "#Logical Operator\n",
    "\n",
    "#AND, OR, XOR, NOT"
   ]
  },
  {
   "cell_type": "code",
   "execution_count": 88,
   "id": "7e5e5004",
   "metadata": {},
   "outputs": [
    {
     "data": {
      "text/plain": [
       "True"
      ]
     },
     "execution_count": 88,
     "metadata": {},
     "output_type": "execute_result"
    }
   ],
   "source": [
    "True and True"
   ]
  },
  {
   "cell_type": "code",
   "execution_count": 89,
   "id": "f57fe90e",
   "metadata": {},
   "outputs": [
    {
     "data": {
      "text/plain": [
       "False"
      ]
     },
     "execution_count": 89,
     "metadata": {},
     "output_type": "execute_result"
    }
   ],
   "source": [
    "True and False"
   ]
  },
  {
   "cell_type": "code",
   "execution_count": 90,
   "id": "ca12d408",
   "metadata": {},
   "outputs": [
    {
     "data": {
      "text/plain": [
       "False"
      ]
     },
     "execution_count": 90,
     "metadata": {},
     "output_type": "execute_result"
    }
   ],
   "source": [
    "False and True "
   ]
  },
  {
   "cell_type": "code",
   "execution_count": 91,
   "id": "4aee85ee",
   "metadata": {},
   "outputs": [
    {
     "data": {
      "text/plain": [
       "False"
      ]
     },
     "execution_count": 91,
     "metadata": {},
     "output_type": "execute_result"
    }
   ],
   "source": [
    "False and False"
   ]
  },
  {
   "cell_type": "code",
   "execution_count": 93,
   "id": "4ba73568",
   "metadata": {},
   "outputs": [
    {
     "data": {
      "text/plain": [
       "True"
      ]
     },
     "execution_count": 93,
     "metadata": {},
     "output_type": "execute_result"
    }
   ],
   "source": [
    "#OR\n",
    "\n",
    "True or True "
   ]
  },
  {
   "cell_type": "code",
   "execution_count": 94,
   "id": "6919811e",
   "metadata": {},
   "outputs": [
    {
     "data": {
      "text/plain": [
       "True"
      ]
     },
     "execution_count": 94,
     "metadata": {},
     "output_type": "execute_result"
    }
   ],
   "source": [
    "True or False"
   ]
  },
  {
   "cell_type": "code",
   "execution_count": 95,
   "id": "715a48a3",
   "metadata": {},
   "outputs": [
    {
     "data": {
      "text/plain": [
       "True"
      ]
     },
     "execution_count": 95,
     "metadata": {},
     "output_type": "execute_result"
    }
   ],
   "source": [
    "False or True"
   ]
  },
  {
   "cell_type": "code",
   "execution_count": 96,
   "id": "3b832832",
   "metadata": {},
   "outputs": [
    {
     "data": {
      "text/plain": [
       "False"
      ]
     },
     "execution_count": 96,
     "metadata": {},
     "output_type": "execute_result"
    }
   ],
   "source": [
    "False or False"
   ]
  },
  {
   "cell_type": "code",
   "execution_count": 98,
   "id": "73096c95",
   "metadata": {},
   "outputs": [
    {
     "data": {
      "text/plain": [
       "False"
      ]
     },
     "execution_count": 98,
     "metadata": {},
     "output_type": "execute_result"
    }
   ],
   "source": [
    "#XOR\n",
    "\n",
    "True ^ True"
   ]
  },
  {
   "cell_type": "code",
   "execution_count": 99,
   "id": "c93872ca",
   "metadata": {},
   "outputs": [
    {
     "data": {
      "text/plain": [
       "True"
      ]
     },
     "execution_count": 99,
     "metadata": {},
     "output_type": "execute_result"
    }
   ],
   "source": [
    "True ^ False"
   ]
  },
  {
   "cell_type": "code",
   "execution_count": 100,
   "id": "0a789744",
   "metadata": {},
   "outputs": [
    {
     "data": {
      "text/plain": [
       "True"
      ]
     },
     "execution_count": 100,
     "metadata": {},
     "output_type": "execute_result"
    }
   ],
   "source": [
    "False ^ True"
   ]
  },
  {
   "cell_type": "code",
   "execution_count": 101,
   "id": "bb5d4278",
   "metadata": {},
   "outputs": [
    {
     "data": {
      "text/plain": [
       "False"
      ]
     },
     "execution_count": 101,
     "metadata": {},
     "output_type": "execute_result"
    }
   ],
   "source": [
    "False ^ False"
   ]
  },
  {
   "cell_type": "code",
   "execution_count": 102,
   "id": "3105a0d7",
   "metadata": {},
   "outputs": [
    {
     "data": {
      "text/plain": [
       "False"
      ]
     },
     "execution_count": 102,
     "metadata": {},
     "output_type": "execute_result"
    }
   ],
   "source": [
    "not 10"
   ]
  },
  {
   "cell_type": "code",
   "execution_count": 103,
   "id": "d62daacb",
   "metadata": {},
   "outputs": [
    {
     "data": {
      "text/plain": [
       "False"
      ]
     },
     "execution_count": 103,
     "metadata": {},
     "output_type": "execute_result"
    }
   ],
   "source": [
    "not 7"
   ]
  },
  {
   "cell_type": "code",
   "execution_count": 104,
   "id": "5eee9c23",
   "metadata": {},
   "outputs": [
    {
     "data": {
      "text/plain": [
       "True"
      ]
     },
     "execution_count": 104,
     "metadata": {},
     "output_type": "execute_result"
    }
   ],
   "source": [
    "not 0"
   ]
  },
  {
   "cell_type": "code",
   "execution_count": 105,
   "id": "43703a1e",
   "metadata": {},
   "outputs": [],
   "source": [
    "# Bitwise Operator\n",
    "\n",
    "#It works only on binary no.s or integers"
   ]
  },
  {
   "cell_type": "code",
   "execution_count": 106,
   "id": "59966f20",
   "metadata": {},
   "outputs": [
    {
     "name": "stdout",
     "output_type": "stream",
     "text": [
      "8\n"
     ]
    }
   ],
   "source": [
    "a = 0b1000\n",
    "b = 0b1010\n",
    "\n",
    "print(a & b)"
   ]
  },
  {
   "cell_type": "code",
   "execution_count": 107,
   "id": "90efd6a5",
   "metadata": {},
   "outputs": [
    {
     "name": "stdout",
     "output_type": "stream",
     "text": [
      "8\n"
     ]
    }
   ],
   "source": [
    "a = 0b111000\n",
    "b = 0b001110\n",
    "\n",
    "print(a & b)"
   ]
  },
  {
   "cell_type": "code",
   "execution_count": 108,
   "id": "496f5601",
   "metadata": {},
   "outputs": [
    {
     "name": "stdout",
     "output_type": "stream",
     "text": [
      "10\n"
     ]
    }
   ],
   "source": [
    "a = 0b1000\n",
    "b = 0b1010\n",
    "\n",
    "print(a | b)"
   ]
  },
  {
   "cell_type": "code",
   "execution_count": 109,
   "id": "74c3b24d",
   "metadata": {},
   "outputs": [
    {
     "name": "stdout",
     "output_type": "stream",
     "text": [
      "2\n"
     ]
    }
   ],
   "source": [
    "a = 0b1000\n",
    "b = 0b1010\n",
    "\n",
    "print(a ^ b)"
   ]
  },
  {
   "cell_type": "code",
   "execution_count": 110,
   "id": "14995025",
   "metadata": {},
   "outputs": [
    {
     "data": {
      "text/plain": [
       "'0b1000'"
      ]
     },
     "execution_count": 110,
     "metadata": {},
     "output_type": "execute_result"
    }
   ],
   "source": [
    "bin(8)"
   ]
  },
  {
   "cell_type": "code",
   "execution_count": 111,
   "id": "409424e9",
   "metadata": {},
   "outputs": [
    {
     "data": {
      "text/plain": [
       "'0b1010'"
      ]
     },
     "execution_count": 111,
     "metadata": {},
     "output_type": "execute_result"
    }
   ],
   "source": [
    "bin(10)"
   ]
  },
  {
   "cell_type": "code",
   "execution_count": 112,
   "id": "971d9a2e",
   "metadata": {},
   "outputs": [
    {
     "data": {
      "text/plain": [
       "'0x11'"
      ]
     },
     "execution_count": 112,
     "metadata": {},
     "output_type": "execute_result"
    }
   ],
   "source": [
    "hex(17)"
   ]
  },
  {
   "cell_type": "code",
   "execution_count": 113,
   "id": "1e3640c1",
   "metadata": {},
   "outputs": [
    {
     "data": {
      "text/plain": [
       "'0o22'"
      ]
     },
     "execution_count": 113,
     "metadata": {},
     "output_type": "execute_result"
    }
   ],
   "source": [
    "oct(18)"
   ]
  },
  {
   "cell_type": "code",
   "execution_count": 114,
   "id": "3a8d1938",
   "metadata": {},
   "outputs": [
    {
     "data": {
      "text/plain": [
       "-9"
      ]
     },
     "execution_count": 114,
     "metadata": {},
     "output_type": "execute_result"
    }
   ],
   "source": [
    "~a"
   ]
  },
  {
   "cell_type": "code",
   "execution_count": 116,
   "id": "0e6faa32",
   "metadata": {},
   "outputs": [
    {
     "name": "stdout",
     "output_type": "stream",
     "text": [
      "-13\n"
     ]
    }
   ],
   "source": [
    "b=12\n",
    "\n",
    "~b\n",
    "\n",
    "print(~b)"
   ]
  },
  {
   "cell_type": "code",
   "execution_count": 117,
   "id": "fc78b8c7",
   "metadata": {},
   "outputs": [
    {
     "data": {
      "text/plain": [
       "'0b1100'"
      ]
     },
     "execution_count": 117,
     "metadata": {},
     "output_type": "execute_result"
    }
   ],
   "source": [
    "bin(12)"
   ]
  },
  {
   "cell_type": "code",
   "execution_count": 119,
   "id": "edd568be",
   "metadata": {},
   "outputs": [
    {
     "name": "stdout",
     "output_type": "stream",
     "text": [
      "-14\n"
     ]
    }
   ],
   "source": [
    "a = 13\n",
    "print(~a)"
   ]
  },
  {
   "cell_type": "code",
   "execution_count": 120,
   "id": "23b2abdd",
   "metadata": {},
   "outputs": [],
   "source": [
    "#Membership Operator\n",
    "\n",
    "#'in' & 'not in'"
   ]
  },
  {
   "cell_type": "code",
   "execution_count": 121,
   "id": "a7bf8db3",
   "metadata": {},
   "outputs": [
    {
     "data": {
      "text/plain": [
       "True"
      ]
     },
     "execution_count": 121,
     "metadata": {},
     "output_type": "execute_result"
    }
   ],
   "source": [
    "str1 = 'hello'\n",
    "\n",
    "'e' in str1"
   ]
  },
  {
   "cell_type": "code",
   "execution_count": 122,
   "id": "3961319d",
   "metadata": {},
   "outputs": [
    {
     "data": {
      "text/plain": [
       "True"
      ]
     },
     "execution_count": 122,
     "metadata": {},
     "output_type": "execute_result"
    }
   ],
   "source": [
    "'ll' in str1"
   ]
  },
  {
   "cell_type": "code",
   "execution_count": 123,
   "id": "53a6f823",
   "metadata": {},
   "outputs": [
    {
     "data": {
      "text/plain": [
       "True"
      ]
     },
     "execution_count": 123,
     "metadata": {},
     "output_type": "execute_result"
    }
   ],
   "source": [
    "'lo' in str1"
   ]
  },
  {
   "cell_type": "code",
   "execution_count": 124,
   "id": "7213292c",
   "metadata": {},
   "outputs": [
    {
     "data": {
      "text/plain": [
       "False"
      ]
     },
     "execution_count": 124,
     "metadata": {},
     "output_type": "execute_result"
    }
   ],
   "source": [
    "'ol' in str1"
   ]
  },
  {
   "cell_type": "code",
   "execution_count": 125,
   "id": "25228604",
   "metadata": {},
   "outputs": [
    {
     "data": {
      "text/plain": [
       "False"
      ]
     },
     "execution_count": 125,
     "metadata": {},
     "output_type": "execute_result"
    }
   ],
   "source": [
    "'x' in str1 "
   ]
  },
  {
   "cell_type": "code",
   "execution_count": 126,
   "id": "2438302d",
   "metadata": {},
   "outputs": [
    {
     "data": {
      "text/plain": [
       "True"
      ]
     },
     "execution_count": 126,
     "metadata": {},
     "output_type": "execute_result"
    }
   ],
   "source": [
    "#List is a combination of hetrogeneous data. - it can store string, int, float at a time.\n",
    "\n",
    "lst = [1,2,3,'python', 50.2]\n",
    "\n",
    "1 and 2 in lst"
   ]
  },
  {
   "cell_type": "code",
   "execution_count": 127,
   "id": "61325b3c",
   "metadata": {},
   "outputs": [
    {
     "data": {
      "text/plain": [
       "False"
      ]
     },
     "execution_count": 127,
     "metadata": {},
     "output_type": "execute_result"
    }
   ],
   "source": [
    "50 in lst"
   ]
  },
  {
   "cell_type": "code",
   "execution_count": 128,
   "id": "e16ad5d8",
   "metadata": {},
   "outputs": [
    {
     "data": {
      "text/plain": [
       "True"
      ]
     },
     "execution_count": 128,
     "metadata": {},
     "output_type": "execute_result"
    }
   ],
   "source": [
    "50.2 in lst\n"
   ]
  },
  {
   "cell_type": "code",
   "execution_count": 129,
   "id": "d230bccd",
   "metadata": {},
   "outputs": [
    {
     "data": {
      "text/plain": [
       "False"
      ]
     },
     "execution_count": 129,
     "metadata": {},
     "output_type": "execute_result"
    }
   ],
   "source": [
    "lst1 = [20, 40, 60, [1,2,3,'python', 50.2], 69, 40.3 ]\n",
    "\n",
    "1 and 2 in lst1"
   ]
  },
  {
   "cell_type": "code",
   "execution_count": 130,
   "id": "783b24c5",
   "metadata": {},
   "outputs": [
    {
     "data": {
      "text/plain": [
       "True"
      ]
     },
     "execution_count": 130,
     "metadata": {},
     "output_type": "execute_result"
    }
   ],
   "source": [
    "lst in lst1"
   ]
  },
  {
   "cell_type": "code",
   "execution_count": 132,
   "id": "100b4197",
   "metadata": {},
   "outputs": [
    {
     "name": "stdout",
     "output_type": "stream",
     "text": [
      "[20, 40, 60, [1, 2, 3, 'python', 50.2], 69, 40.3]\n"
     ]
    }
   ],
   "source": [
    "lst1 = [20, 40, 60, lst, 69, 40.3 ]\n",
    "print(lst1)"
   ]
  },
  {
   "cell_type": "code",
   "execution_count": 134,
   "id": "09960dd8",
   "metadata": {},
   "outputs": [],
   "source": [
    "#Identity Operator - we check whether the memory location is same or not.\n",
    "#'is'"
   ]
  },
  {
   "cell_type": "code",
   "execution_count": 135,
   "id": "58435070",
   "metadata": {},
   "outputs": [
    {
     "data": {
      "text/plain": [
       "True"
      ]
     },
     "execution_count": 135,
     "metadata": {},
     "output_type": "execute_result"
    }
   ],
   "source": [
    "a=b=50\n",
    "\n",
    "a is b"
   ]
  },
  {
   "cell_type": "code",
   "execution_count": 137,
   "id": "ed2f194c",
   "metadata": {},
   "outputs": [
    {
     "data": {
      "text/plain": [
       "False"
      ]
     },
     "execution_count": 137,
     "metadata": {},
     "output_type": "execute_result"
    }
   ],
   "source": [
    "x= 40\n",
    "y=70\n",
    "\n",
    "x is y"
   ]
  },
  {
   "cell_type": "code",
   "execution_count": 138,
   "id": "4a33396e",
   "metadata": {},
   "outputs": [],
   "source": [
    "#STRINGS\n",
    "\n",
    "# indexing - position of a particular character in a string.\n",
    "#indexing starts with 0"
   ]
  },
  {
   "cell_type": "code",
   "execution_count": 143,
   "id": "d8d51632",
   "metadata": {},
   "outputs": [
    {
     "name": "stdout",
     "output_type": "stream",
     "text": [
      "e\n",
      "h\n",
      "o\n",
      "l\n",
      "l\n"
     ]
    }
   ],
   "source": [
    "str = 'hello'\n",
    "\n",
    "# h e l l o\n",
    "# 0 1 2 3 4\n",
    "#-5-4-3-2-1 Reverse indexing\n",
    "\n",
    "print(str[1])\n",
    "print(str[0])\n",
    "print(str[4])\n",
    "\n",
    "print(str[-2])\n",
    "print(str[-3])\n",
    "\n",
    "          "
   ]
  },
  {
   "cell_type": "code",
   "execution_count": 144,
   "id": "bce2b944",
   "metadata": {},
   "outputs": [
    {
     "ename": "IndexError",
     "evalue": "string index out of range",
     "output_type": "error",
     "traceback": [
      "\u001b[1;31m---------------------------------------------------------------------------\u001b[0m",
      "\u001b[1;31mIndexError\u001b[0m                                Traceback (most recent call last)",
      "Cell \u001b[1;32mIn[144], line 1\u001b[0m\n\u001b[1;32m----> 1\u001b[0m \u001b[38;5;28;43mstr\u001b[39;49m\u001b[43m[\u001b[49m\u001b[38;5;241;43m10\u001b[39;49m\u001b[43m]\u001b[49m\n",
      "\u001b[1;31mIndexError\u001b[0m: string index out of range"
     ]
    }
   ],
   "source": [
    "str[10]"
   ]
  },
  {
   "cell_type": "code",
   "execution_count": 145,
   "id": "4dba60de",
   "metadata": {},
   "outputs": [],
   "source": [
    "str2 = 'Welcome to Python'\n"
   ]
  },
  {
   "cell_type": "code",
   "execution_count": 146,
   "id": "44320f7b",
   "metadata": {},
   "outputs": [],
   "source": [
    "# W e l c o m e   t o    P  y  t  h  o  n\n",
    "# 0 1 2 3 4 5 6 7 8 9 10 11 12 13 14 15 16\n",
    "# Slicing : finds substring of a String."
   ]
  },
  {
   "cell_type": "code",
   "execution_count": 147,
   "id": "6fb68487",
   "metadata": {},
   "outputs": [],
   "source": [
    "#string_name[start:stop:step]\n",
    "\n",
    "#start - starting index(inclusive)\n",
    "#stop - ending index(exclude ending index)\n",
    "#step - jumping in decreasing or increasing manner"
   ]
  },
  {
   "cell_type": "code",
   "execution_count": 148,
   "id": "c7827fec",
   "metadata": {},
   "outputs": [
    {
     "data": {
      "text/plain": [
       "'me to Pyt'"
      ]
     },
     "execution_count": 148,
     "metadata": {},
     "output_type": "execute_result"
    }
   ],
   "source": [
    "str2[5:14:1]"
   ]
  },
  {
   "cell_type": "code",
   "execution_count": 149,
   "id": "c0dfeac9",
   "metadata": {},
   "outputs": [
    {
     "data": {
      "text/plain": [
       "'m oPt'"
      ]
     },
     "execution_count": 149,
     "metadata": {},
     "output_type": "execute_result"
    }
   ],
   "source": [
    "str2[5:14:2]"
   ]
  },
  {
   "cell_type": "code",
   "execution_count": 151,
   "id": "f06bc58b",
   "metadata": {},
   "outputs": [
    {
     "data": {
      "text/plain": [
       "'Welcome to Pyt'"
      ]
     },
     "execution_count": 151,
     "metadata": {},
     "output_type": "execute_result"
    }
   ],
   "source": [
    "str2[0:14:1]"
   ]
  },
  {
   "cell_type": "code",
   "execution_count": 152,
   "id": "330c9434",
   "metadata": {},
   "outputs": [
    {
     "data": {
      "text/plain": [
       "'me to Python'"
      ]
     },
     "execution_count": 152,
     "metadata": {},
     "output_type": "execute_result"
    }
   ],
   "source": [
    "str2[5::]"
   ]
  },
  {
   "cell_type": "code",
   "execution_count": 153,
   "id": "5ab50558",
   "metadata": {},
   "outputs": [],
   "source": [
    "# W e l c o m e   t o    P  y  t  h  o  n\n",
    "# 0 1 2 3 4 5 6 7 8 9 10 11 12 13 14 15 16\n",
    "# Slicing : finds substring of a String."
   ]
  },
  {
   "cell_type": "code",
   "execution_count": 154,
   "id": "00c555f4",
   "metadata": {},
   "outputs": [
    {
     "data": {
      "text/plain": [
       "'me to Python'"
      ]
     },
     "execution_count": 154,
     "metadata": {},
     "output_type": "execute_result"
    }
   ],
   "source": [
    "str2[5:]"
   ]
  },
  {
   "cell_type": "code",
   "execution_count": 155,
   "id": "f65650c5",
   "metadata": {},
   "outputs": [
    {
     "data": {
      "text/plain": [
       "'me to Py'"
      ]
     },
     "execution_count": 155,
     "metadata": {},
     "output_type": "execute_result"
    }
   ],
   "source": [
    "str2[5:13]"
   ]
  },
  {
   "cell_type": "code",
   "execution_count": 157,
   "id": "2139ab6f",
   "metadata": {},
   "outputs": [
    {
     "data": {
      "text/plain": [
       "'Welcome to Python'"
      ]
     },
     "execution_count": 157,
     "metadata": {},
     "output_type": "execute_result"
    }
   ],
   "source": [
    "str2[0::1]"
   ]
  },
  {
   "cell_type": "code",
   "execution_count": 158,
   "id": "dfd64e6d",
   "metadata": {},
   "outputs": [
    {
     "data": {
      "text/plain": [
       "'nohtyP ot emocleW'"
      ]
     },
     "execution_count": 158,
     "metadata": {},
     "output_type": "execute_result"
    }
   ],
   "source": [
    "str2[::-1]"
   ]
  },
  {
   "cell_type": "code",
   "execution_count": 159,
   "id": "77ed2008",
   "metadata": {},
   "outputs": [
    {
     "data": {
      "text/plain": [
       "''"
      ]
     },
     "execution_count": 159,
     "metadata": {},
     "output_type": "execute_result"
    }
   ],
   "source": [
    "str2[16:16]"
   ]
  },
  {
   "cell_type": "code",
   "execution_count": 161,
   "id": "eec9af12",
   "metadata": {},
   "outputs": [
    {
     "data": {
      "text/plain": [
       "''"
      ]
     },
     "execution_count": 161,
     "metadata": {},
     "output_type": "execute_result"
    }
   ],
   "source": [
    "str2[20:25]"
   ]
  },
  {
   "cell_type": "code",
   "execution_count": 162,
   "id": "2efa89f4",
   "metadata": {},
   "outputs": [
    {
     "data": {
      "text/plain": [
       "'nohtyP'"
      ]
     },
     "execution_count": 162,
     "metadata": {},
     "output_type": "execute_result"
    }
   ],
   "source": [
    "str2[-1:-7:-1]"
   ]
  },
  {
   "cell_type": "code",
   "execution_count": 164,
   "id": "3ef94203",
   "metadata": {},
   "outputs": [
    {
     "data": {
      "text/plain": [
       "'nohtyP'"
      ]
     },
     "execution_count": 164,
     "metadata": {},
     "output_type": "execute_result"
    }
   ],
   "source": [
    "str2[17:10:-1]"
   ]
  },
  {
   "cell_type": "code",
   "execution_count": 165,
   "id": "a4b54d71",
   "metadata": {},
   "outputs": [
    {
     "data": {
      "text/plain": [
       "''"
      ]
     },
     "execution_count": 165,
     "metadata": {},
     "output_type": "execute_result"
    }
   ],
   "source": [
    "str2[11:17:-1]\n",
    "# no value because of opposite direction."
   ]
  },
  {
   "cell_type": "code",
   "execution_count": 166,
   "id": "ef7ffdbf",
   "metadata": {},
   "outputs": [
    {
     "data": {
      "text/plain": [
       "2.679"
      ]
     },
     "execution_count": 166,
     "metadata": {},
     "output_type": "execute_result"
    }
   ],
   "source": [
    "round(2.67889, 3)"
   ]
  },
  {
   "cell_type": "code",
   "execution_count": 167,
   "id": "a9a774e3",
   "metadata": {},
   "outputs": [
    {
     "data": {
      "text/plain": [
       "3.79"
      ]
     },
     "execution_count": 167,
     "metadata": {},
     "output_type": "execute_result"
    }
   ],
   "source": [
    "round(3.7899,2)"
   ]
  },
  {
   "cell_type": "code",
   "execution_count": null,
   "id": "521a4d25",
   "metadata": {},
   "outputs": [],
   "source": []
  }
 ],
 "metadata": {
  "kernelspec": {
   "display_name": "Python 3 (ipykernel)",
   "language": "python",
   "name": "python3"
  },
  "language_info": {
   "codemirror_mode": {
    "name": "ipython",
    "version": 3
   },
   "file_extension": ".py",
   "mimetype": "text/x-python",
   "name": "python",
   "nbconvert_exporter": "python",
   "pygments_lexer": "ipython3",
   "version": "3.10.9"
  }
 },
 "nbformat": 4,
 "nbformat_minor": 5
}
