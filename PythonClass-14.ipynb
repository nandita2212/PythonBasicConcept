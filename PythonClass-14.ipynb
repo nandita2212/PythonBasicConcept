{
 "cells": [
  {
   "cell_type": "code",
   "execution_count": 1,
   "id": "c4aaf5af",
   "metadata": {},
   "outputs": [
    {
     "name": "stdout",
     "output_type": "stream",
     "text": [
      "enter any value between 5 & 9:22\n"
     ]
    },
    {
     "ename": "ValueError",
     "evalue": "value shoulb be b/w 5 & 9",
     "output_type": "error",
     "traceback": [
      "\u001b[1;31m---------------------------------------------------------------------------\u001b[0m",
      "\u001b[1;31mValueError\u001b[0m                                Traceback (most recent call last)",
      "Cell \u001b[1;32mIn[1], line 4\u001b[0m\n\u001b[0;32m      1\u001b[0m a \u001b[38;5;241m=\u001b[39m \u001b[38;5;28mint\u001b[39m(\u001b[38;5;28minput\u001b[39m(\u001b[38;5;124m\"\u001b[39m\u001b[38;5;124menter any value between 5 & 9:\u001b[39m\u001b[38;5;124m\"\u001b[39m))\n\u001b[0;32m      3\u001b[0m \u001b[38;5;28;01mif\u001b[39;00m(a\u001b[38;5;241m<\u001b[39m\u001b[38;5;241m5\u001b[39m \u001b[38;5;129;01mor\u001b[39;00m a\u001b[38;5;241m>\u001b[39m\u001b[38;5;241m9\u001b[39m):\n\u001b[1;32m----> 4\u001b[0m     \u001b[38;5;28;01mraise\u001b[39;00m \u001b[38;5;167;01mValueError\u001b[39;00m(\u001b[38;5;124m\"\u001b[39m\u001b[38;5;124mvalue shoulb be b/w 5 & 9\u001b[39m\u001b[38;5;124m\"\u001b[39m)\n",
      "\u001b[1;31mValueError\u001b[0m: value shoulb be b/w 5 & 9"
     ]
    }
   ],
   "source": [
    "a = int(input(\"enter any value between 5 & 9:\"))\n",
    "\n",
    "if(a<5 or a>9):\n",
    "    raise ValueError(\"value shoulb be b/w 5 & 9\")"
   ]
  },
  {
   "cell_type": "markdown",
   "id": "5698beae",
   "metadata": {},
   "source": [
    "#Random Module:\n",
    "\n",
    "ex: throwing a dice -- any random will appear within a range 1 to 6.\n",
    "\n",
    "randint(a,b)--> a & b are included.\n",
    "\n",
    "randrange(a,b)-->b is not included.\n",
    "\n",
    "random()--> 0.0 to 1.0 (exclude1.0)\n",
    "\n",
    "random.uniform(1,3)--> float value within range\n",
    "\n",
    "random.choice()\n",
    "\n",
    "random.shuffle()"
   ]
  },
  {
   "cell_type": "code",
   "execution_count": 20,
   "id": "17c2e908",
   "metadata": {},
   "outputs": [
    {
     "ename": "TypeError",
     "evalue": "Random.randint() missing 1 required positional argument: 'b'",
     "output_type": "error",
     "traceback": [
      "\u001b[1;31m---------------------------------------------------------------------------\u001b[0m",
      "\u001b[1;31mTypeError\u001b[0m                                 Traceback (most recent call last)",
      "Cell \u001b[1;32mIn[20], line 2\u001b[0m\n\u001b[0;32m      1\u001b[0m \u001b[38;5;28;01mimport\u001b[39;00m \u001b[38;5;21;01mrandom\u001b[39;00m\n\u001b[1;32m----> 2\u001b[0m \u001b[43mrandom\u001b[49m\u001b[38;5;241;43m.\u001b[39;49m\u001b[43mrandint\u001b[49m\u001b[43m(\u001b[49m\u001b[38;5;241;43m9\u001b[39;49m\u001b[43m)\u001b[49m\n",
      "\u001b[1;31mTypeError\u001b[0m: Random.randint() missing 1 required positional argument: 'b'"
     ]
    }
   ],
   "source": [
    "import random\n",
    "random.randint(9)"
   ]
  },
  {
   "cell_type": "code",
   "execution_count": 27,
   "id": "4933a4ff",
   "metadata": {},
   "outputs": [
    {
     "data": {
      "text/plain": [
       "3"
      ]
     },
     "execution_count": 27,
     "metadata": {},
     "output_type": "execute_result"
    }
   ],
   "source": [
    "random.randrange(1,5)"
   ]
  },
  {
   "cell_type": "code",
   "execution_count": 33,
   "id": "2a5c9e18",
   "metadata": {},
   "outputs": [
    {
     "ename": "TypeError",
     "evalue": "Random.random() takes no arguments (1 given)",
     "output_type": "error",
     "traceback": [
      "\u001b[1;31m---------------------------------------------------------------------------\u001b[0m",
      "\u001b[1;31mTypeError\u001b[0m                                 Traceback (most recent call last)",
      "Cell \u001b[1;32mIn[33], line 1\u001b[0m\n\u001b[1;32m----> 1\u001b[0m \u001b[43mrandom\u001b[49m\u001b[38;5;241;43m.\u001b[39;49m\u001b[43mrandom\u001b[49m\u001b[43m(\u001b[49m\u001b[38;5;241;43m4\u001b[39;49m\u001b[43m)\u001b[49m\n",
      "\u001b[1;31mTypeError\u001b[0m: Random.random() takes no arguments (1 given)"
     ]
    }
   ],
   "source": [
    "random.random(4)"
   ]
  },
  {
   "cell_type": "code",
   "execution_count": 43,
   "id": "395a3c5a",
   "metadata": {},
   "outputs": [
    {
     "name": "stdout",
     "output_type": "stream",
     "text": [
      "44\n"
     ]
    }
   ],
   "source": [
    "l = [33, 44, 699, 46, 78, 3]\n",
    "\n",
    "a= random.choice(l)\n",
    "print(a)\n"
   ]
  },
  {
   "cell_type": "code",
   "execution_count": 48,
   "id": "1182e41b",
   "metadata": {},
   "outputs": [
    {
     "name": "stdout",
     "output_type": "stream",
     "text": [
      "[699, 78, 46, 3, 33, 44]\n"
     ]
    }
   ],
   "source": [
    "random.shuffle(l)\n",
    "print(l)"
   ]
  },
  {
   "cell_type": "markdown",
   "id": "a4ff5174",
   "metadata": {},
   "source": [
    "# File Handling"
   ]
  },
  {
   "cell_type": "markdown",
   "id": "03b27965",
   "metadata": {},
   "source": [
    "textfile - pdf, txt\n",
    "\n",
    "binary - images, videos"
   ]
  },
  {
   "cell_type": "markdown",
   "id": "df28a452",
   "metadata": {},
   "source": [
    "#Points to keep in mind while working with file handling\n",
    "\n",
    "1. to read a file using file handling, we have to open the file.\n",
    "\n",
    "syntax:\n",
    "    \n",
    "    f = open(filename, mode)\n",
    "    f.close()\n",
    "    \n",
    "2. data read from the file handling is always a string.\n",
    "\n",
    "3. modes of operation - text file\n",
    "\n",
    "- read mode - 'r'\n",
    "- write mode - 'w'\n",
    "- append mode - 'a'\n",
    "- read and write mode - 'r+'\n",
    "- write and read mode - 'w+'\n",
    "- append and read mode - 'a+'\n",
    "\n",
    "4. modes of operation - binary file\n",
    "\n",
    "- read mode - 'rb'\n",
    "- write mode - 'wb'\n",
    "- append mode - 'ab'\n",
    "- read and write mode - 'r+b'\n",
    "- write and read mode - 'w+b'\n",
    "- append and read mode - 'a+b'\n",
    "\n",
    "5. methods on file object\n",
    "\n",
    "- read() - reading the content of the file\n",
    "- write() - write a content into the file\n",
    "- tell() - tells the cursor location\n",
    "- seek() - moves the cursor to a specific location"
   ]
  },
  {
   "cell_type": "markdown",
   "id": "c3ff4514",
   "metadata": {},
   "source": [
    " 1.Read mode - 'r'\n",
    " \n",
    " \n",
    "-If the file exists then it will open the file in read mode.\n",
    "\n",
    "-If the file does not exist then it will give FileNotFoundError.\n",
    "\n",
    "-You are allowed only to read from the file but not allowed to write into the file.\n"
   ]
  },
  {
   "cell_type": "code",
   "execution_count": 51,
   "id": "ba2f731b",
   "metadata": {},
   "outputs": [],
   "source": [
    "#ls\n"
   ]
  },
  {
   "cell_type": "code",
   "execution_count": 52,
   "id": "d6788248",
   "metadata": {},
   "outputs": [
    {
     "ename": "FileNotFoundError",
     "evalue": "[Errno 2] No such file or directory: 'read_mode.txt'",
     "output_type": "error",
     "traceback": [
      "\u001b[1;31m---------------------------------------------------------------------------\u001b[0m",
      "\u001b[1;31mFileNotFoundError\u001b[0m                         Traceback (most recent call last)",
      "Cell \u001b[1;32mIn[52], line 3\u001b[0m\n\u001b[0;32m      1\u001b[0m \u001b[38;5;66;03m# 1. file is not present \u001b[39;00m\n\u001b[1;32m----> 3\u001b[0m f \u001b[38;5;241m=\u001b[39m \u001b[38;5;28;43mopen\u001b[39;49m\u001b[43m(\u001b[49m\u001b[38;5;124;43m'\u001b[39;49m\u001b[38;5;124;43mread_mode.txt\u001b[39;49m\u001b[38;5;124;43m'\u001b[39;49m\u001b[43m,\u001b[49m\u001b[43m \u001b[49m\u001b[38;5;124;43m'\u001b[39;49m\u001b[38;5;124;43mr\u001b[39;49m\u001b[38;5;124;43m'\u001b[39;49m\u001b[43m)\u001b[49m\n",
      "File \u001b[1;32m~\\anaconda3\\lib\\site-packages\\IPython\\core\\interactiveshell.py:282\u001b[0m, in \u001b[0;36m_modified_open\u001b[1;34m(file, *args, **kwargs)\u001b[0m\n\u001b[0;32m    275\u001b[0m \u001b[38;5;28;01mif\u001b[39;00m file \u001b[38;5;129;01min\u001b[39;00m {\u001b[38;5;241m0\u001b[39m, \u001b[38;5;241m1\u001b[39m, \u001b[38;5;241m2\u001b[39m}:\n\u001b[0;32m    276\u001b[0m     \u001b[38;5;28;01mraise\u001b[39;00m \u001b[38;5;167;01mValueError\u001b[39;00m(\n\u001b[0;32m    277\u001b[0m         \u001b[38;5;124mf\u001b[39m\u001b[38;5;124m\"\u001b[39m\u001b[38;5;124mIPython won\u001b[39m\u001b[38;5;124m'\u001b[39m\u001b[38;5;124mt let you open fd=\u001b[39m\u001b[38;5;132;01m{\u001b[39;00mfile\u001b[38;5;132;01m}\u001b[39;00m\u001b[38;5;124m by default \u001b[39m\u001b[38;5;124m\"\u001b[39m\n\u001b[0;32m    278\u001b[0m         \u001b[38;5;124m\"\u001b[39m\u001b[38;5;124mas it is likely to crash IPython. If you know what you are doing, \u001b[39m\u001b[38;5;124m\"\u001b[39m\n\u001b[0;32m    279\u001b[0m         \u001b[38;5;124m\"\u001b[39m\u001b[38;5;124myou can use builtins\u001b[39m\u001b[38;5;124m'\u001b[39m\u001b[38;5;124m open.\u001b[39m\u001b[38;5;124m\"\u001b[39m\n\u001b[0;32m    280\u001b[0m     )\n\u001b[1;32m--> 282\u001b[0m \u001b[38;5;28;01mreturn\u001b[39;00m io_open(file, \u001b[38;5;241m*\u001b[39margs, \u001b[38;5;241m*\u001b[39m\u001b[38;5;241m*\u001b[39mkwargs)\n",
      "\u001b[1;31mFileNotFoundError\u001b[0m: [Errno 2] No such file or directory: 'read_mode.txt'"
     ]
    }
   ],
   "source": [
    "# 1. file is not present \n",
    "\n",
    "f = open('read_mode.txt', 'r')"
   ]
  },
  {
   "cell_type": "code",
   "execution_count": 55,
   "id": "e3cef643",
   "metadata": {},
   "outputs": [
    {
     "name": "stdout",
     "output_type": "stream",
     "text": [
      "0\n",
      "Today session is about file handling\n",
      "36\n",
      "\n"
     ]
    }
   ],
   "source": [
    "# 2. file is present\n",
    "\n",
    "f = open('read_mode.txt','r')\n",
    "print(f.tell()) #--> 0\n",
    "print(f.read())#--> content is read and printed.\n",
    "print(f.tell())#-->eof \n",
    "print(f.read())\n"
   ]
  },
  {
   "cell_type": "code",
   "execution_count": 56,
   "id": "1190bc21",
   "metadata": {},
   "outputs": [
    {
     "name": "stdout",
     "output_type": "stream",
     "text": [
      "day session is about file handling\n"
     ]
    }
   ],
   "source": [
    "f = open('read_mode.txt','r')\n",
    "f.seek(2)\n",
    "print(f.read())"
   ]
  },
  {
   "cell_type": "code",
   "execution_count": 59,
   "id": "668f56b4",
   "metadata": {},
   "outputs": [
    {
     "ename": "ValueError",
     "evalue": "negative seek position -2",
     "output_type": "error",
     "traceback": [
      "\u001b[1;31m---------------------------------------------------------------------------\u001b[0m",
      "\u001b[1;31mValueError\u001b[0m                                Traceback (most recent call last)",
      "Cell \u001b[1;32mIn[59], line 2\u001b[0m\n\u001b[0;32m      1\u001b[0m f \u001b[38;5;241m=\u001b[39m \u001b[38;5;28mopen\u001b[39m(\u001b[38;5;124m'\u001b[39m\u001b[38;5;124mread_mode.txt\u001b[39m\u001b[38;5;124m'\u001b[39m,\u001b[38;5;124m'\u001b[39m\u001b[38;5;124mr\u001b[39m\u001b[38;5;124m'\u001b[39m)\n\u001b[1;32m----> 2\u001b[0m \u001b[43mf\u001b[49m\u001b[38;5;241;43m.\u001b[39;49m\u001b[43mseek\u001b[49m\u001b[43m(\u001b[49m\u001b[38;5;241;43m-\u001b[39;49m\u001b[38;5;241;43m2\u001b[39;49m\u001b[43m)\u001b[49m\n\u001b[0;32m      3\u001b[0m \u001b[38;5;28mprint\u001b[39m(f\u001b[38;5;241m.\u001b[39mread())\n",
      "\u001b[1;31mValueError\u001b[0m: negative seek position -2"
     ]
    }
   ],
   "source": [
    "f = open('read_mode.txt','r')\n",
    "f.seek(-2)\n",
    "print(f.read())"
   ]
  },
  {
   "cell_type": "code",
   "execution_count": 57,
   "id": "fc7aadd6",
   "metadata": {},
   "outputs": [
    {
     "name": "stdout",
     "output_type": "stream",
     "text": [
      "ession is about file handling\n"
     ]
    }
   ],
   "source": [
    "f = open('read_mode.txt','r')\n",
    "f.seek(7)\n",
    "print(f.read())"
   ]
  },
  {
   "cell_type": "code",
   "execution_count": 58,
   "id": "5784c759",
   "metadata": {},
   "outputs": [
    {
     "name": "stdout",
     "output_type": "stream",
     "text": [
      "day session is about file handling\n"
     ]
    },
    {
     "ename": "UnsupportedOperation",
     "evalue": "not writable",
     "output_type": "error",
     "traceback": [
      "\u001b[1;31m---------------------------------------------------------------------------\u001b[0m",
      "\u001b[1;31mUnsupportedOperation\u001b[0m                      Traceback (most recent call last)",
      "Cell \u001b[1;32mIn[58], line 4\u001b[0m\n\u001b[0;32m      2\u001b[0m f\u001b[38;5;241m.\u001b[39mseek(\u001b[38;5;241m2\u001b[39m)\n\u001b[0;32m      3\u001b[0m \u001b[38;5;28mprint\u001b[39m(f\u001b[38;5;241m.\u001b[39mread())\n\u001b[1;32m----> 4\u001b[0m \u001b[43mf\u001b[49m\u001b[38;5;241;43m.\u001b[39;49m\u001b[43mwrite\u001b[49m\u001b[43m(\u001b[49m\u001b[38;5;124;43m'\u001b[39;49m\u001b[38;5;124;43mhello\u001b[39;49m\u001b[38;5;124;43m'\u001b[39;49m\u001b[43m)\u001b[49m\n",
      "\u001b[1;31mUnsupportedOperation\u001b[0m: not writable"
     ]
    }
   ],
   "source": [
    "f = open('read_mode.txt','r')\n",
    "f.seek(2)\n",
    "print(f.read())\n",
    "f.write('hello')"
   ]
  },
  {
   "cell_type": "markdown",
   "id": "c05182b6",
   "metadata": {},
   "source": [
    "2. Write Mode - 'w'\n",
    "\n",
    "- if the file existes then it will open the file in write mode and deletes the content of the file.\n",
    "- if the file does not exists then it will create a file with given name and extension.\n",
    "- you are allowed only to write into the file but not allowed to read from the filr"
   ]
  },
  {
   "cell_type": "code",
   "execution_count": 62,
   "id": "905b9767",
   "metadata": {},
   "outputs": [],
   "source": [
    "#ls\n"
   ]
  },
  {
   "cell_type": "code",
   "execution_count": 64,
   "id": "be288e9a",
   "metadata": {},
   "outputs": [],
   "source": [
    "#1. file is not present\n",
    "\n",
    "f = open('write_mode.txt','w')"
   ]
  },
  {
   "cell_type": "code",
   "execution_count": 66,
   "id": "20e4e362",
   "metadata": {},
   "outputs": [],
   "source": [
    "#ls"
   ]
  },
  {
   "cell_type": "code",
   "execution_count": 68,
   "id": "6dd48c32",
   "metadata": {},
   "outputs": [
    {
     "data": {
      "text/plain": [
       "11"
      ]
     },
     "execution_count": 68,
     "metadata": {},
     "output_type": "execute_result"
    }
   ],
   "source": [
    "#2. file is present\n",
    "\n",
    "f = open('write_mode.txt','w')\n",
    "f.tell()\n",
    "f.write('hello world')\n",
    "f.tell()\n"
   ]
  },
  {
   "cell_type": "code",
   "execution_count": 69,
   "id": "33226826",
   "metadata": {},
   "outputs": [
    {
     "ename": "UnsupportedOperation",
     "evalue": "not readable",
     "output_type": "error",
     "traceback": [
      "\u001b[1;31m---------------------------------------------------------------------------\u001b[0m",
      "\u001b[1;31mUnsupportedOperation\u001b[0m                      Traceback (most recent call last)",
      "Cell \u001b[1;32mIn[69], line 7\u001b[0m\n\u001b[0;32m      5\u001b[0m f\u001b[38;5;241m.\u001b[39mwrite(\u001b[38;5;124m'\u001b[39m\u001b[38;5;124mhello world\u001b[39m\u001b[38;5;124m'\u001b[39m)\n\u001b[0;32m      6\u001b[0m f\u001b[38;5;241m.\u001b[39mtell()\n\u001b[1;32m----> 7\u001b[0m \u001b[43mf\u001b[49m\u001b[38;5;241;43m.\u001b[39;49m\u001b[43mread\u001b[49m\u001b[43m(\u001b[49m\u001b[43m)\u001b[49m\n",
      "\u001b[1;31mUnsupportedOperation\u001b[0m: not readable"
     ]
    }
   ],
   "source": [
    "#2. file is present\n",
    "\n",
    "f = open('write_mode.txt','w')\n",
    "f.tell()\n",
    "f.write('hello world')\n",
    "f.tell()\n",
    "f.read()"
   ]
  },
  {
   "cell_type": "code",
   "execution_count": 70,
   "id": "0573fc28",
   "metadata": {},
   "outputs": [
    {
     "name": "stdout",
     "output_type": "stream",
     "text": [
      "14\n"
     ]
    }
   ],
   "source": [
    "f = open('write_mode.txt','w')\n",
    "f.tell()\n",
    "f.write('hello world')\n",
    "f.seek(6)\n",
    "f.write('universe')\n",
    "print(f.tell())\n"
   ]
  },
  {
   "cell_type": "code",
   "execution_count": 71,
   "id": "44d1b7e6",
   "metadata": {},
   "outputs": [
    {
     "name": "stdout",
     "output_type": "stream",
     "text": [
      "8\n"
     ]
    }
   ],
   "source": [
    "f = open('write_mode.txt','w')\n",
    "f.tell()\n",
    "f.write('hello world')\n",
    "f.seek(6)#-->moving cursor to 6th position\n",
    "f.write('un')\n",
    "print(f.tell())#-->asking the position of cursor\n"
   ]
  },
  {
   "cell_type": "markdown",
   "id": "db2d1b59",
   "metadata": {},
   "source": [
    "Append - 'a'\n",
    "\n",
    "- if the file exists it will open the file in write mode and places the cursor at the end of the file.\n",
    "- it the file does not exists then it will create a file with given name and extension\n",
    "- you are allowed only to write into the file but not allowed to read from the file\n",
    "- append will always write the content at the end of the file, so seek() will not work here.\n"
   ]
  },
  {
   "cell_type": "code",
   "execution_count": 72,
   "id": "6b094ea5",
   "metadata": {},
   "outputs": [],
   "source": [
    "# 1. file is not present \n",
    "\n",
    "f = open('append_mode.txt','a')"
   ]
  },
  {
   "cell_type": "code",
   "execution_count": 74,
   "id": "0c952082",
   "metadata": {},
   "outputs": [],
   "source": [
    "#ls"
   ]
  },
  {
   "cell_type": "code",
   "execution_count": 87,
   "id": "c92c04db",
   "metadata": {},
   "outputs": [
    {
     "name": "stdout",
     "output_type": "stream",
     "text": [
      "0\n",
      "1\n"
     ]
    },
    {
     "data": {
      "text/plain": [
       "8"
      ]
     },
     "execution_count": 87,
     "metadata": {},
     "output_type": "execute_result"
    }
   ],
   "source": [
    "#2. file is present\n",
    "\n",
    "f = open('append_mode.txt', 'a')\n",
    "print(f.tell())\n",
    "f.write('hello world')\n",
    "print(f.seek(1))\n",
    "f.write('universe')"
   ]
  },
  {
   "cell_type": "code",
   "execution_count": 84,
   "id": "520333a1",
   "metadata": {},
   "outputs": [
    {
     "name": "stdout",
     "output_type": "stream",
     "text": [
      "0\n",
      "5\n"
     ]
    }
   ],
   "source": [
    "f = open('append_mode.txt', 'a')\n",
    "print(f.tell())\n",
    "f.write('hello world')\n",
    "print(f.seek(5))#-->\n",
    "f.write('universe')#-->universe printed at the end\n",
    "f.close()"
   ]
  },
  {
   "cell_type": "code",
   "execution_count": null,
   "id": "3d724eca",
   "metadata": {},
   "outputs": [],
   "source": []
  }
 ],
 "metadata": {
  "kernelspec": {
   "display_name": "Python 3 (ipykernel)",
   "language": "python",
   "name": "python3"
  },
  "language_info": {
   "codemirror_mode": {
    "name": "ipython",
    "version": 3
   },
   "file_extension": ".py",
   "mimetype": "text/x-python",
   "name": "python",
   "nbconvert_exporter": "python",
   "pygments_lexer": "ipython3",
   "version": "3.10.9"
  }
 },
 "nbformat": 4,
 "nbformat_minor": 5
}
