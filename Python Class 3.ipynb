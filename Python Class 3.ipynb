{
 "cells": [
  {
   "cell_type": "code",
   "execution_count": 1,
   "id": "539f6f6b",
   "metadata": {},
   "outputs": [
    {
     "data": {
      "text/plain": [
       "'Python'"
      ]
     },
     "execution_count": 1,
     "metadata": {},
     "output_type": "execute_result"
    }
   ],
   "source": [
    "#strip Function\n",
    "\n",
    "p1 = '    Python   '\n",
    "p1.strip()"
   ]
  },
  {
   "cell_type": "code",
   "execution_count": 2,
   "id": "b58df6ee",
   "metadata": {},
   "outputs": [
    {
     "data": {
      "text/plain": [
       "'Python'"
      ]
     },
     "execution_count": 2,
     "metadata": {},
     "output_type": "execute_result"
    }
   ],
   "source": [
    "p1 = 'Python    '\n",
    "p1.strip()"
   ]
  },
  {
   "cell_type": "code",
   "execution_count": 3,
   "id": "3fdc1f82",
   "metadata": {},
   "outputs": [
    {
     "data": {
      "text/plain": [
       "'Python is an amazing language'"
      ]
     },
     "execution_count": 3,
     "metadata": {},
     "output_type": "execute_result"
    }
   ],
   "source": [
    "p1 = 'Python is an amazing language  '\n",
    "p1.strip()"
   ]
  },
  {
   "cell_type": "code",
   "execution_count": 4,
   "id": "3cd1bc11",
   "metadata": {},
   "outputs": [
    {
     "data": {
      "text/plain": [
       "'    Python'"
      ]
     },
     "execution_count": 4,
     "metadata": {},
     "output_type": "execute_result"
    }
   ],
   "source": [
    "p1 = '    Python    '\n",
    "p1.rstrip()"
   ]
  },
  {
   "cell_type": "code",
   "execution_count": 5,
   "id": "132a5f47",
   "metadata": {},
   "outputs": [
    {
     "data": {
      "text/plain": [
       "'Python'"
      ]
     },
     "execution_count": 5,
     "metadata": {},
     "output_type": "execute_result"
    }
   ],
   "source": [
    "p1 = '     Python'\n",
    "p1.lstrip()"
   ]
  },
  {
   "cell_type": "code",
   "execution_count": 6,
   "id": "7632d547",
   "metadata": {},
   "outputs": [
    {
     "data": {
      "text/plain": [
       "7"
      ]
     },
     "execution_count": 6,
     "metadata": {},
     "output_type": "execute_result"
    }
   ],
   "source": [
    "#find function\n",
    "\n",
    "p1 = 'Python is an amazing language  '\n",
    "p1.find('is')"
   ]
  },
  {
   "cell_type": "code",
   "execution_count": 7,
   "id": "dee3069b",
   "metadata": {},
   "outputs": [
    {
     "data": {
      "text/plain": [
       "7"
      ]
     },
     "execution_count": 7,
     "metadata": {},
     "output_type": "execute_result"
    }
   ],
   "source": [
    "p1 = 'Python is an amazing language  '\n",
    "p1.find('i')"
   ]
  },
  {
   "cell_type": "code",
   "execution_count": 8,
   "id": "810426b1",
   "metadata": {},
   "outputs": [
    {
     "data": {
      "text/plain": [
       "2"
      ]
     },
     "execution_count": 8,
     "metadata": {},
     "output_type": "execute_result"
    }
   ],
   "source": [
    "p1 = 'Pyiiiiiiithon is an amazing language  '\n",
    "p1.find('i')"
   ]
  },
  {
   "cell_type": "code",
   "execution_count": 9,
   "id": "e74544af",
   "metadata": {},
   "outputs": [
    {
     "data": {
      "text/plain": [
       "-1"
      ]
     },
     "execution_count": 9,
     "metadata": {},
     "output_type": "execute_result"
    }
   ],
   "source": [
    "p1.find('Pun')"
   ]
  },
  {
   "cell_type": "code",
   "execution_count": 10,
   "id": "828a5b57",
   "metadata": {},
   "outputs": [
    {
     "data": {
      "text/plain": [
       "17"
      ]
     },
     "execution_count": 10,
     "metadata": {},
     "output_type": "execute_result"
    }
   ],
   "source": [
    "#index function\n",
    "\n",
    "p1 = 'Pyiiiiiiithon is an amazing language  '\n",
    "p1.index('a')\n",
    "\n"
   ]
  },
  {
   "cell_type": "code",
   "execution_count": 11,
   "id": "46809fc1",
   "metadata": {},
   "outputs": [
    {
     "ename": "ValueError",
     "evalue": "substring not found",
     "output_type": "error",
     "traceback": [
      "\u001b[1;31m---------------------------------------------------------------------------\u001b[0m",
      "\u001b[1;31mValueError\u001b[0m                                Traceback (most recent call last)",
      "Cell \u001b[1;32mIn[11], line 1\u001b[0m\n\u001b[1;32m----> 1\u001b[0m \u001b[43mp1\u001b[49m\u001b[38;5;241;43m.\u001b[39;49m\u001b[43mindex\u001b[49m\u001b[43m(\u001b[49m\u001b[38;5;124;43m'\u001b[39;49m\u001b[38;5;124;43mPun\u001b[39;49m\u001b[38;5;124;43m'\u001b[39;49m\u001b[43m)\u001b[49m\n",
      "\u001b[1;31mValueError\u001b[0m: substring not found"
     ]
    }
   ],
   "source": [
    "p1.index('Pun')"
   ]
  },
  {
   "cell_type": "code",
   "execution_count": null,
   "id": "a812f50f",
   "metadata": {},
   "outputs": [],
   "source": [
    "#count function\n",
    "\n",
    "p1 = 'Pyiiiiiiithon is an amazing language  '\n",
    "print(p1.count('i'))\n",
    "print(p1.count('a'))"
   ]
  },
  {
   "cell_type": "code",
   "execution_count": null,
   "id": "2ac1faa7",
   "metadata": {},
   "outputs": [],
   "source": [
    "p1.find('is')"
   ]
  },
  {
   "cell_type": "code",
   "execution_count": null,
   "id": "81173d84",
   "metadata": {},
   "outputs": [],
   "source": [
    "p2 = 'py py py py py is Python' #case-sensitive language\n",
    "p2.count('on')"
   ]
  },
  {
   "cell_type": "code",
   "execution_count": null,
   "id": "04f85fa7",
   "metadata": {},
   "outputs": [],
   "source": [
    "#length\n",
    "\n",
    "length = len(p1)\n",
    "print(length)"
   ]
  },
  {
   "cell_type": "code",
   "execution_count": null,
   "id": "135a8be1",
   "metadata": {},
   "outputs": [],
   "source": [
    "lst1 = [20, 40, 60, [1,2,3,'python', 50.2], 69, 40.3 ]\n",
    "\n",
    "lst = [1,2,3,'python', 50.2]\n",
    "\n",
    "print(lst1[1])\n",
    "\n",
    "print(lst1[3][1])\n",
    "\n"
   ]
  },
  {
   "cell_type": "code",
   "execution_count": null,
   "id": "4682f5aa",
   "metadata": {},
   "outputs": [],
   "source": [
    "len(lst1)"
   ]
  },
  {
   "cell_type": "code",
   "execution_count": null,
   "id": "eb080abd",
   "metadata": {},
   "outputs": [],
   "source": [
    "len(lst)"
   ]
  },
  {
   "cell_type": "code",
   "execution_count": null,
   "id": "bcf9d3df",
   "metadata": {},
   "outputs": [],
   "source": [
    "#replace function\n",
    "\n",
    "p2 = 'py py py py py is Python'\n",
    "\n",
    "p2.replace('py', 'fy')\n",
    "\n"
   ]
  },
  {
   "cell_type": "code",
   "execution_count": null,
   "id": "64478525",
   "metadata": {},
   "outputs": [],
   "source": [
    "#replace function\n",
    "\n",
    "p2 = 'py py py py py is python'\n",
    "\n",
    "print(p2.replace('py', 'fy'))\n",
    "\n",
    "print(p2)"
   ]
  },
  {
   "cell_type": "code",
   "execution_count": null,
   "id": "c20e78fe",
   "metadata": {},
   "outputs": [],
   "source": [
    "lst = [1,2,3,'python', 50.2]\n",
    "\n",
    "lst[2]"
   ]
  },
  {
   "cell_type": "code",
   "execution_count": null,
   "id": "b8c1dcc7",
   "metadata": {},
   "outputs": [],
   "source": [
    "lst[2]='a'\n",
    "print(lst)"
   ]
  },
  {
   "cell_type": "code",
   "execution_count": null,
   "id": "5a9c1aeb",
   "metadata": {},
   "outputs": [],
   "source": [
    "#string is immutable - it cannot be changed, only can be replaced\n",
    "#List is mutable which can be changed."
   ]
  },
  {
   "cell_type": "code",
   "execution_count": null,
   "id": "2557b7ff",
   "metadata": {},
   "outputs": [],
   "source": [
    "#split - to make a list out the string\n",
    "\n",
    "p1 = 'Python is an amazing language'\n",
    "\n",
    "p4=p1.split()\n",
    "print(p4)"
   ]
  },
  {
   "cell_type": "code",
   "execution_count": null,
   "id": "77dcfaee",
   "metadata": {},
   "outputs": [],
   "source": [
    "type(p4)"
   ]
  },
  {
   "cell_type": "code",
   "execution_count": null,
   "id": "f3cc02fd",
   "metadata": {},
   "outputs": [],
   "source": [
    "type(p1)"
   ]
  },
  {
   "cell_type": "code",
   "execution_count": null,
   "id": "342653e6",
   "metadata": {},
   "outputs": [],
   "source": [
    "p1 = 'Python is an amazing language'\n",
    "p5= p1.split('a')\n",
    "print(p5)"
   ]
  },
  {
   "cell_type": "code",
   "execution_count": null,
   "id": "6ed9f54b",
   "metadata": {},
   "outputs": [],
   "source": [
    "len(p5)"
   ]
  },
  {
   "cell_type": "code",
   "execution_count": null,
   "id": "6399e0d5",
   "metadata": {},
   "outputs": [],
   "source": [
    "fruits = 'mango , apple, banana'\n",
    "p6 = fruits.split(',')\n",
    "print(p6)"
   ]
  },
  {
   "cell_type": "code",
   "execution_count": null,
   "id": "bf4e5f4c",
   "metadata": {},
   "outputs": [],
   "source": [
    "a = input(\"enter your no.\")"
   ]
  },
  {
   "cell_type": "code",
   "execution_count": null,
   "id": "efdabdfa",
   "metadata": {},
   "outputs": [],
   "source": [
    "type(a)"
   ]
  },
  {
   "cell_type": "code",
   "execution_count": null,
   "id": "131a3af4",
   "metadata": {},
   "outputs": [],
   "source": [
    "a = int(input(\"enter your no.\"))\n",
    "a = float(input(\"enter your no.\"))"
   ]
  },
  {
   "cell_type": "code",
   "execution_count": null,
   "id": "a9ef4e10",
   "metadata": {},
   "outputs": [],
   "source": [
    "#particular index no. for any character.\n",
    "#List into string\n",
    "#removing of whitespaces from string\n"
   ]
  },
  {
   "cell_type": "code",
   "execution_count": null,
   "id": "83e93c4c",
   "metadata": {},
   "outputs": [],
   "source": [
    "#join Function\n",
    "\n",
    "print(p6)\n",
    "p7='_'.join(p6)\n",
    "print(p7)\n"
   ]
  },
  {
   "cell_type": "code",
   "execution_count": null,
   "id": "5107bd01",
   "metadata": {},
   "outputs": [],
   "source": [
    "type(p7)"
   ]
  },
  {
   "cell_type": "code",
   "execution_count": null,
   "id": "b3d3feaf",
   "metadata": {},
   "outputs": [],
   "source": [
    "p7='/'.join(p6)\n",
    "print(p7)"
   ]
  },
  {
   "cell_type": "code",
   "execution_count": null,
   "id": "d8beaf6c",
   "metadata": {},
   "outputs": [],
   "source": [
    "s1=\"mango\"\n",
    "'_'.join(s1)"
   ]
  },
  {
   "cell_type": "code",
   "execution_count": null,
   "id": "21efb990",
   "metadata": {},
   "outputs": [],
   "source": [
    "p8 = 'python is fun'\n",
    "\n",
    "p8.upper()"
   ]
  },
  {
   "cell_type": "code",
   "execution_count": null,
   "id": "7d3785be",
   "metadata": {},
   "outputs": [],
   "source": [
    "p8 = 'PYTHON IS FUN'\n",
    "p8.lower()"
   ]
  },
  {
   "cell_type": "code",
   "execution_count": null,
   "id": "76acc730",
   "metadata": {},
   "outputs": [],
   "source": [
    "p8 = 'PYTHON IS FUN python is fun'\n",
    "p8.lower()"
   ]
  },
  {
   "cell_type": "code",
   "execution_count": null,
   "id": "a98faeb9",
   "metadata": {},
   "outputs": [],
   "source": [
    "p8 = 'PYTHON IS FUN python is fun'\n",
    "p8.swapcase()"
   ]
  },
  {
   "cell_type": "code",
   "execution_count": null,
   "id": "3006413d",
   "metadata": {},
   "outputs": [],
   "source": [
    "p8 = 'python ... is ... fun'\n",
    "p8.title()"
   ]
  },
  {
   "cell_type": "code",
   "execution_count": null,
   "id": "42b57196",
   "metadata": {},
   "outputs": [],
   "source": [
    "'python ... is ... fun'.startswith('py')"
   ]
  },
  {
   "cell_type": "code",
   "execution_count": null,
   "id": "c35313c4",
   "metadata": {},
   "outputs": [],
   "source": [
    "p8.startswith('Py')"
   ]
  },
  {
   "cell_type": "code",
   "execution_count": null,
   "id": "e5b27ffe",
   "metadata": {},
   "outputs": [],
   "source": [
    "p8.endswith('un')"
   ]
  },
  {
   "cell_type": "code",
   "execution_count": null,
   "id": "fbd10686",
   "metadata": {},
   "outputs": [],
   "source": [
    "p8.endswith('Un')"
   ]
  },
  {
   "cell_type": "code",
   "execution_count": null,
   "id": "3b232709",
   "metadata": {},
   "outputs": [],
   "source": [
    "#alnum =  checks the combination of no. and characters.\n",
    "\n",
    "'122python'.isalnum()"
   ]
  },
  {
   "cell_type": "code",
   "execution_count": null,
   "id": "581eaf69",
   "metadata": {},
   "outputs": [],
   "source": [
    "'1324'.isdigit()"
   ]
  },
  {
   "cell_type": "code",
   "execution_count": null,
   "id": "9388ded2",
   "metadata": {},
   "outputs": [],
   "source": [
    "'1335sjdj'.isdigit()"
   ]
  },
  {
   "cell_type": "code",
   "execution_count": null,
   "id": "73fae9fa",
   "metadata": {},
   "outputs": [],
   "source": [
    "'ggg'.isalpha()"
   ]
  },
  {
   "cell_type": "code",
   "execution_count": null,
   "id": "9bd9902b",
   "metadata": {},
   "outputs": [],
   "source": [
    "'33246'.isnumeric()"
   ]
  },
  {
   "cell_type": "code",
   "execution_count": null,
   "id": "ac190e8e",
   "metadata": {},
   "outputs": [],
   "source": [
    "# isdigit & isnumeric both are same."
   ]
  },
  {
   "cell_type": "markdown",
   "id": "5b1bf7f5",
   "metadata": {},
   "source": [
    "# Conditional Statement"
   ]
  },
  {
   "cell_type": "code",
   "execution_count": null,
   "id": "d89113de",
   "metadata": {},
   "outputs": [],
   "source": [
    "# #if statement\n",
    "\n",
    "# if <condition>:\n",
    "#     statement 1\n",
    "#     statement 2\n",
    "#     .\n",
    "#     .\n",
    "#     .\n",
    "# other statement"
   ]
  },
  {
   "cell_type": "code",
   "execution_count": null,
   "id": "05e165e8",
   "metadata": {},
   "outputs": [],
   "source": [
    "num = 40\n",
    "\n",
    "if num<50:\n",
    "    print(\"no.is less than 50\")\n",
    "print(\"out of loop\")"
   ]
  },
  {
   "cell_type": "code",
   "execution_count": null,
   "id": "aa28f15f",
   "metadata": {},
   "outputs": [],
   "source": [
    "if num>60:\n",
    "    print(\"hello\")\n",
    "    print(\"hey\")\n",
    "print(\"everyone\")"
   ]
  },
  {
   "cell_type": "code",
   "execution_count": null,
   "id": "3ff3f7f5",
   "metadata": {},
   "outputs": [],
   "source": [
    "#if-else statement\n",
    "num=100\n",
    "if num>60:\n",
    "    print(\"hello\")\n",
    "else:\n",
    "    print(\"hey\")\n",
    "    \n",
    "print(\"out of if-else loop\")"
   ]
  },
  {
   "cell_type": "code",
   "execution_count": null,
   "id": "fabe9e31",
   "metadata": {},
   "outputs": [],
   "source": [
    "#if-else statement\n",
    "num=100\n",
    "if num>60:\n",
    "    print(num,\"hello\")\n",
    "else:\n",
    "    print(\"hey\")\n",
    "    \n",
    "print(\"out of if-else loop\")"
   ]
  },
  {
   "cell_type": "code",
   "execution_count": null,
   "id": "fc12e57d",
   "metadata": {},
   "outputs": [],
   "source": [
    "age = int(input())\n",
    "dob = int(input())\n",
    "print(\"hello everyone my age is {}\",age, \"and my{}\", dob)"
   ]
  },
  {
   "cell_type": "code",
   "execution_count": null,
   "id": "ec5d50da",
   "metadata": {},
   "outputs": [],
   "source": [
    "age = int(input())\n",
    "dob = int(input())\n",
    "print(f'hello everyone my age is {age} and my {dob}')\n"
   ]
  },
  {
   "cell_type": "code",
   "execution_count": 13,
   "id": "a331938f",
   "metadata": {},
   "outputs": [
    {
     "name": "stdout",
     "output_type": "stream",
     "text": [
      "midium value\n",
      "out of if-elif-else loop\n"
     ]
    }
   ],
   "source": [
    "# if-elif-else statement\n",
    "\n",
    "num=2500\n",
    "\n",
    "if num<60:#false\n",
    "    print(\"lowest value\")\n",
    "    \n",
    "elif (num>=2000 and num<10000):#true\n",
    "    print(\"midium value\")\n",
    "else:# false condition\n",
    "    print(\"out of range\")\n",
    "    \n",
    "print(\"out of if-elif-else loop\")\n",
    "\n"
   ]
  },
  {
   "cell_type": "code",
   "execution_count": 14,
   "id": "e736242e",
   "metadata": {},
   "outputs": [
    {
     "name": "stdout",
     "output_type": "stream",
     "text": [
      "midium value\n",
      "out of if-elif-else loop\n"
     ]
    }
   ],
   "source": [
    "# if-elif-else statement\n",
    "\n",
    "num=250\n",
    "\n",
    "if num<60:#false\n",
    "    print(\"lowest value\")\n",
    "    \n",
    "elif (num>=200 and num<1000):#true\n",
    "    print(\"midium value\")\n",
    "    \n",
    "elif (num>=201 and num<900):#true\n",
    "    print(\"middle value\")\n",
    "else:# false condition\n",
    "    print(\"out of range\")\n",
    "    \n",
    "print(\"out of if-elif-else loop\")\n",
    "\n"
   ]
  },
  {
   "cell_type": "code",
   "execution_count": 27,
   "id": "cc006610",
   "metadata": {},
   "outputs": [
    {
     "name": "stdout",
     "output_type": "stream",
     "text": [
      "['python', 'is', 'a', 'language']\n",
      "0\n",
      "python\n",
      "1\n",
      "is\n",
      "2\n",
      "a\n",
      "3\n",
      "language\n"
     ]
    }
   ],
   "source": [
    "s1 = 'python is a language'\n",
    "\n",
    "s2=s1.split() #converted to a list\n",
    "\n",
    "['python', 'is', 'a', 'language']\n",
    "\n",
    "print(s2)\n",
    "\n",
    "for index in range(0,len(s2)):\n",
    "    print(index)\n",
    "    print(s2[index])"
   ]
  },
  {
   "cell_type": "code",
   "execution_count": 20,
   "id": "f7bc3558",
   "metadata": {},
   "outputs": [
    {
     "data": {
      "text/plain": [
       "4"
      ]
     },
     "execution_count": 20,
     "metadata": {},
     "output_type": "execute_result"
    }
   ],
   "source": [
    "len(s2)"
   ]
  },
  {
   "cell_type": "code",
   "execution_count": null,
   "id": "cabd517d",
   "metadata": {},
   "outputs": [],
   "source": []
  }
 ],
 "metadata": {
  "kernelspec": {
   "display_name": "Python 3 (ipykernel)",
   "language": "python",
   "name": "python3"
  },
  "language_info": {
   "codemirror_mode": {
    "name": "ipython",
    "version": 3
   },
   "file_extension": ".py",
   "mimetype": "text/x-python",
   "name": "python",
   "nbconvert_exporter": "python",
   "pygments_lexer": "ipython3",
   "version": "3.10.9"
  }
 },
 "nbformat": 4,
 "nbformat_minor": 5
}
