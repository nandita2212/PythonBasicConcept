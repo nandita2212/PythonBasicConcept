{
 "cells": [
  {
   "cell_type": "code",
   "execution_count": 5,
   "id": "f9608a2c",
   "metadata": {},
   "outputs": [],
   "source": [
    "class Employee:\n",
    "    def __init__(self, name, emp_id, salary): #constructor\n",
    "        self.name=name #declare a constructor variable self.name\n",
    "        self.empid=emp_id\n",
    "        self.sal=salary\n",
    "        "
   ]
  },
  {
   "cell_type": "code",
   "execution_count": 6,
   "id": "75feea6a",
   "metadata": {},
   "outputs": [],
   "source": [
    "emp1 = Employee('harry',1011, 300000)"
   ]
  },
  {
   "cell_type": "code",
   "execution_count": 7,
   "id": "7a92117b",
   "metadata": {},
   "outputs": [
    {
     "data": {
      "text/plain": [
       "{'name': 'harry', 'empid': 1011, 'sal': 300000}"
      ]
     },
     "execution_count": 7,
     "metadata": {},
     "output_type": "execute_result"
    }
   ],
   "source": [
    "emp1.__dict__"
   ]
  },
  {
   "cell_type": "code",
   "execution_count": 8,
   "id": "6d1bfd05",
   "metadata": {},
   "outputs": [],
   "source": [
    "emp2 = Employee('jill', 2977, 678889)"
   ]
  },
  {
   "cell_type": "code",
   "execution_count": 9,
   "id": "3c66332b",
   "metadata": {},
   "outputs": [
    {
     "data": {
      "text/plain": [
       "{'name': 'jill', 'empid': 2977, 'sal': 678889}"
      ]
     },
     "execution_count": 9,
     "metadata": {},
     "output_type": "execute_result"
    }
   ],
   "source": [
    "emp2.__dict__"
   ]
  },
  {
   "cell_type": "code",
   "execution_count": 10,
   "id": "dbbce5c6",
   "metadata": {},
   "outputs": [
    {
     "data": {
      "text/plain": [
       "mappingproxy({'__module__': '__main__',\n",
       "              '__init__': <function __main__.Employee.__init__(self, name, emp_id, salary)>,\n",
       "              '__dict__': <attribute '__dict__' of 'Employee' objects>,\n",
       "              '__weakref__': <attribute '__weakref__' of 'Employee' objects>,\n",
       "              '__doc__': None})"
      ]
     },
     "execution_count": 10,
     "metadata": {},
     "output_type": "execute_result"
    }
   ],
   "source": [
    "Employee.__dict__"
   ]
  },
  {
   "cell_type": "code",
   "execution_count": 11,
   "id": "772af018",
   "metadata": {},
   "outputs": [],
   "source": [
    "class Employee:\n",
    "    def __init__(self, name, emp_id, salary=200000): \n",
    "        self.name=name \n",
    "        self.empid=emp_id\n",
    "        self.sal=salary\n",
    "        "
   ]
  },
  {
   "cell_type": "code",
   "execution_count": 14,
   "id": "a3d84276",
   "metadata": {},
   "outputs": [
    {
     "name": "stdout",
     "output_type": "stream",
     "text": [
      "<__main__.Employee object at 0x00000221863B4370>\n"
     ]
    }
   ],
   "source": [
    "emp5 =Employee('jack', 101,500000)\n",
    "print(emp5)"
   ]
  },
  {
   "cell_type": "code",
   "execution_count": 15,
   "id": "2b93adba",
   "metadata": {},
   "outputs": [
    {
     "data": {
      "text/plain": [
       "{'name': 'jack', 'empid': 101, 'sal': 500000}"
      ]
     },
     "execution_count": 15,
     "metadata": {},
     "output_type": "execute_result"
    }
   ],
   "source": [
    "emp5.__dict__"
   ]
  },
  {
   "cell_type": "code",
   "execution_count": 16,
   "id": "5bddd6a9",
   "metadata": {},
   "outputs": [],
   "source": [
    "#Instance Variables/object variable -  variables that are specific to an object\n",
    "#they will be different for each object"
   ]
  },
  {
   "cell_type": "code",
   "execution_count": 18,
   "id": "f6c96a2c",
   "metadata": {},
   "outputs": [
    {
     "name": "stdout",
     "output_type": "stream",
     "text": [
      "harry\n",
      "1011\n",
      "300000\n",
      "jill\n",
      "2977\n",
      "678889\n"
     ]
    }
   ],
   "source": [
    "print(emp1.name)\n",
    "print(emp1.empid)\n",
    "print(emp1.sal)\n",
    "\n",
    "print(emp2.name)\n",
    "print(emp2.empid)\n",
    "print(emp2.sal)"
   ]
  },
  {
   "cell_type": "code",
   "execution_count": 19,
   "id": "381e8c54",
   "metadata": {},
   "outputs": [],
   "source": [
    "#class variable - variable defined at class level\n",
    "#variables are bound to the class\n"
   ]
  },
  {
   "cell_type": "code",
   "execution_count": 21,
   "id": "995f2212",
   "metadata": {},
   "outputs": [],
   "source": [
    "class Employee:\n",
    "    company = 'XYZA' #class variable\n",
    "    departments = ['HR', 'IT'] #class variable\n",
    "    \n",
    "    def __init__(self, name, emp_id, email): \n",
    "        #instance variables\n",
    "        self.name=name \n",
    "        self.empid=emp_id\n",
    "        self.e_mail=email"
   ]
  },
  {
   "cell_type": "code",
   "execution_count": 27,
   "id": "d5d2a141",
   "metadata": {},
   "outputs": [],
   "source": [
    "emp1 = Employee('kashyap', 1012, 'k123@gmail.com')\n",
    "emp2 = Employee('gangwar', 1012, 'wargang@gmail.com')\n"
   ]
  },
  {
   "cell_type": "code",
   "execution_count": 28,
   "id": "5c36c430",
   "metadata": {},
   "outputs": [
    {
     "data": {
      "text/plain": [
       "'kashyap'"
      ]
     },
     "execution_count": 28,
     "metadata": {},
     "output_type": "execute_result"
    }
   ],
   "source": [
    "emp1.name"
   ]
  },
  {
   "cell_type": "code",
   "execution_count": 24,
   "id": "316b4b8f",
   "metadata": {},
   "outputs": [
    {
     "data": {
      "text/plain": [
       "'gangwar'"
      ]
     },
     "execution_count": 24,
     "metadata": {},
     "output_type": "execute_result"
    }
   ],
   "source": [
    "emp2.name"
   ]
  },
  {
   "cell_type": "code",
   "execution_count": 25,
   "id": "a11132b2",
   "metadata": {},
   "outputs": [
    {
     "data": {
      "text/plain": [
       "'XYZA'"
      ]
     },
     "execution_count": 25,
     "metadata": {},
     "output_type": "execute_result"
    }
   ],
   "source": [
    "emp1.company"
   ]
  },
  {
   "cell_type": "code",
   "execution_count": 26,
   "id": "d53e6207",
   "metadata": {},
   "outputs": [
    {
     "data": {
      "text/plain": [
       "'XYZA'"
      ]
     },
     "execution_count": 26,
     "metadata": {},
     "output_type": "execute_result"
    }
   ],
   "source": [
    "emp2.company"
   ]
  },
  {
   "cell_type": "code",
   "execution_count": 29,
   "id": "b188df04",
   "metadata": {},
   "outputs": [
    {
     "data": {
      "text/plain": [
       "{'name': 'gangwar', 'empid': 1012, 'e_mail': 'wargang@gmail.com'}"
      ]
     },
     "execution_count": 29,
     "metadata": {},
     "output_type": "execute_result"
    }
   ],
   "source": [
    "emp2.__dict__"
   ]
  },
  {
   "cell_type": "code",
   "execution_count": 30,
   "id": "f6d29f11",
   "metadata": {},
   "outputs": [
    {
     "data": {
      "text/plain": [
       "'XYZA'"
      ]
     },
     "execution_count": 30,
     "metadata": {},
     "output_type": "execute_result"
    }
   ],
   "source": [
    "Employee.company # can call class variable using class name"
   ]
  },
  {
   "cell_type": "code",
   "execution_count": 31,
   "id": "e8a810a3",
   "metadata": {},
   "outputs": [],
   "source": [
    "Employee.company = \"NMQ\""
   ]
  },
  {
   "cell_type": "code",
   "execution_count": 32,
   "id": "adc7b485",
   "metadata": {},
   "outputs": [
    {
     "data": {
      "text/plain": [
       "'NMQ'"
      ]
     },
     "execution_count": 32,
     "metadata": {},
     "output_type": "execute_result"
    }
   ],
   "source": [
    "emp2.company"
   ]
  },
  {
   "cell_type": "code",
   "execution_count": 33,
   "id": "d6c27106",
   "metadata": {},
   "outputs": [
    {
     "data": {
      "text/plain": [
       "'NMQ'"
      ]
     },
     "execution_count": 33,
     "metadata": {},
     "output_type": "execute_result"
    }
   ],
   "source": [
    "emp1.company"
   ]
  },
  {
   "cell_type": "code",
   "execution_count": 34,
   "id": "2437817d",
   "metadata": {},
   "outputs": [
    {
     "data": {
      "text/plain": [
       "{'name': 'gangwar', 'empid': 1012, 'e_mail': 'wargang@gmail.com'}"
      ]
     },
     "execution_count": 34,
     "metadata": {},
     "output_type": "execute_result"
    }
   ],
   "source": [
    "emp2.__dict__"
   ]
  },
  {
   "cell_type": "code",
   "execution_count": 35,
   "id": "59ad67a0",
   "metadata": {},
   "outputs": [
    {
     "data": {
      "text/plain": [
       "mappingproxy({'__module__': '__main__',\n",
       "              'company': 'NMQ',\n",
       "              'departments': ['HR', 'IT'],\n",
       "              '__init__': <function __main__.Employee.__init__(self, name, emp_id, email)>,\n",
       "              '__dict__': <attribute '__dict__' of 'Employee' objects>,\n",
       "              '__weakref__': <attribute '__weakref__' of 'Employee' objects>,\n",
       "              '__doc__': None})"
      ]
     },
     "execution_count": 35,
     "metadata": {},
     "output_type": "execute_result"
    }
   ],
   "source": [
    "Employee.__dict__"
   ]
  },
  {
   "cell_type": "code",
   "execution_count": 36,
   "id": "cac3ec0d",
   "metadata": {},
   "outputs": [
    {
     "data": {
      "text/plain": [
       "['__class__',\n",
       " '__delattr__',\n",
       " '__dict__',\n",
       " '__dir__',\n",
       " '__doc__',\n",
       " '__eq__',\n",
       " '__format__',\n",
       " '__ge__',\n",
       " '__getattribute__',\n",
       " '__gt__',\n",
       " '__hash__',\n",
       " '__init__',\n",
       " '__init_subclass__',\n",
       " '__le__',\n",
       " '__lt__',\n",
       " '__module__',\n",
       " '__ne__',\n",
       " '__new__',\n",
       " '__reduce__',\n",
       " '__reduce_ex__',\n",
       " '__repr__',\n",
       " '__setattr__',\n",
       " '__sizeof__',\n",
       " '__str__',\n",
       " '__subclasshook__',\n",
       " '__weakref__',\n",
       " 'company',\n",
       " 'departments',\n",
       " 'e_mail',\n",
       " 'empid',\n",
       " 'name']"
      ]
     },
     "execution_count": 36,
     "metadata": {},
     "output_type": "execute_result"
    }
   ],
   "source": [
    "dir(emp1)"
   ]
  },
  {
   "cell_type": "code",
   "execution_count": 37,
   "id": "889d3696",
   "metadata": {},
   "outputs": [
    {
     "data": {
      "text/plain": [
       "['__class__',\n",
       " '__delattr__',\n",
       " '__dict__',\n",
       " '__dir__',\n",
       " '__doc__',\n",
       " '__eq__',\n",
       " '__format__',\n",
       " '__ge__',\n",
       " '__getattribute__',\n",
       " '__gt__',\n",
       " '__hash__',\n",
       " '__init__',\n",
       " '__init_subclass__',\n",
       " '__le__',\n",
       " '__lt__',\n",
       " '__module__',\n",
       " '__ne__',\n",
       " '__new__',\n",
       " '__reduce__',\n",
       " '__reduce_ex__',\n",
       " '__repr__',\n",
       " '__setattr__',\n",
       " '__sizeof__',\n",
       " '__str__',\n",
       " '__subclasshook__',\n",
       " '__weakref__',\n",
       " 'company',\n",
       " 'departments',\n",
       " 'e_mail',\n",
       " 'empid',\n",
       " 'name']"
      ]
     },
     "execution_count": 37,
     "metadata": {},
     "output_type": "execute_result"
    }
   ],
   "source": [
    "dir(emp2)"
   ]
  },
  {
   "cell_type": "code",
   "execution_count": 53,
   "id": "e3ac8863",
   "metadata": {},
   "outputs": [],
   "source": [
    "class Welcome:\n",
    "    def greet(self): #standardized parameter\n",
    "        return 'Welcome to OOPs'\n",
    "    "
   ]
  },
  {
   "cell_type": "code",
   "execution_count": 54,
   "id": "97bbfaac",
   "metadata": {},
   "outputs": [],
   "source": [
    "w1 = Welcome() #object creation"
   ]
  },
  {
   "cell_type": "code",
   "execution_count": 40,
   "id": "7dc6986d",
   "metadata": {},
   "outputs": [
    {
     "ename": "TypeError",
     "evalue": "Welcome.greet() takes 0 positional arguments but 1 was given",
     "output_type": "error",
     "traceback": [
      "\u001b[1;31m---------------------------------------------------------------------------\u001b[0m",
      "\u001b[1;31mTypeError\u001b[0m                                 Traceback (most recent call last)",
      "Cell \u001b[1;32mIn[40], line 1\u001b[0m\n\u001b[1;32m----> 1\u001b[0m \u001b[43mw1\u001b[49m\u001b[38;5;241;43m.\u001b[39;49m\u001b[43mgreet\u001b[49m\u001b[43m(\u001b[49m\u001b[43m)\u001b[49m\n",
      "\u001b[1;31mTypeError\u001b[0m: Welcome.greet() takes 0 positional arguments but 1 was given"
     ]
    }
   ],
   "source": [
    "w1.greet()"
   ]
  },
  {
   "cell_type": "code",
   "execution_count": 45,
   "id": "d9d1d614",
   "metadata": {},
   "outputs": [
    {
     "data": {
      "text/plain": [
       "'Welcome to OOPs'"
      ]
     },
     "execution_count": 45,
     "metadata": {},
     "output_type": "execute_result"
    }
   ],
   "source": [
    "w1.greet()"
   ]
  },
  {
   "cell_type": "code",
   "execution_count": 46,
   "id": "ad696a8b",
   "metadata": {},
   "outputs": [],
   "source": [
    "#By default , all methods are instance method."
   ]
  },
  {
   "cell_type": "code",
   "execution_count": 55,
   "id": "c485a1cb",
   "metadata": {},
   "outputs": [
    {
     "ename": "TypeError",
     "evalue": "Welcome.greet() missing 1 required positional argument: 'self'",
     "output_type": "error",
     "traceback": [
      "\u001b[1;31m---------------------------------------------------------------------------\u001b[0m",
      "\u001b[1;31mTypeError\u001b[0m                                 Traceback (most recent call last)",
      "Cell \u001b[1;32mIn[55], line 1\u001b[0m\n\u001b[1;32m----> 1\u001b[0m \u001b[43mWelcome\u001b[49m\u001b[38;5;241;43m.\u001b[39;49m\u001b[43mgreet\u001b[49m\u001b[43m(\u001b[49m\u001b[43m)\u001b[49m\n",
      "\u001b[1;31mTypeError\u001b[0m: Welcome.greet() missing 1 required positional argument: 'self'"
     ]
    }
   ],
   "source": [
    "Welcome.greet()"
   ]
  },
  {
   "cell_type": "code",
   "execution_count": 56,
   "id": "4b075c69",
   "metadata": {},
   "outputs": [],
   "source": [
    "class Welcome:\n",
    "    @classmethod\n",
    "    def greet(self): #standardized parameter\n",
    "        return 'Welcome to OOPs'"
   ]
  },
  {
   "cell_type": "code",
   "execution_count": 57,
   "id": "effa2dda",
   "metadata": {},
   "outputs": [
    {
     "data": {
      "text/plain": [
       "'Welcome to OOPs'"
      ]
     },
     "execution_count": 57,
     "metadata": {},
     "output_type": "execute_result"
    }
   ],
   "source": [
    "Welcome.greet() #can access class method using class name."
   ]
  },
  {
   "cell_type": "code",
   "execution_count": 61,
   "id": "25743f48",
   "metadata": {},
   "outputs": [
    {
     "data": {
      "text/plain": [
       "'Welcome to OOPs'"
      ]
     },
     "execution_count": 61,
     "metadata": {},
     "output_type": "execute_result"
    }
   ],
   "source": [
    "w1.greet()"
   ]
  },
  {
   "cell_type": "code",
   "execution_count": 59,
   "id": "b624f1f5",
   "metadata": {},
   "outputs": [
    {
     "data": {
      "text/plain": [
       "__main__.Welcome"
      ]
     },
     "execution_count": 59,
     "metadata": {},
     "output_type": "execute_result"
    }
   ],
   "source": [
    "Welcome"
   ]
  },
  {
   "cell_type": "code",
   "execution_count": 60,
   "id": "1124d2f7",
   "metadata": {},
   "outputs": [
    {
     "name": "stdout",
     "output_type": "stream",
     "text": [
      "<class '__main__.Welcome'>\n"
     ]
    }
   ],
   "source": [
    "print(Welcome)"
   ]
  },
  {
   "cell_type": "code",
   "execution_count": 62,
   "id": "8cab55b0",
   "metadata": {},
   "outputs": [
    {
     "data": {
      "text/plain": [
       "<__main__.Welcome at 0x22187ad5f30>"
      ]
     },
     "execution_count": 62,
     "metadata": {},
     "output_type": "execute_result"
    }
   ],
   "source": [
    "w1"
   ]
  },
  {
   "cell_type": "code",
   "execution_count": 63,
   "id": "9a4492bd",
   "metadata": {},
   "outputs": [
    {
     "data": {
      "text/plain": [
       "<__main__.Welcome at 0x22187aea470>"
      ]
     },
     "execution_count": 63,
     "metadata": {},
     "output_type": "execute_result"
    }
   ],
   "source": [
    "w2 = Welcome()\n",
    "w2"
   ]
  },
  {
   "cell_type": "code",
   "execution_count": 65,
   "id": "73bb269a",
   "metadata": {},
   "outputs": [
    {
     "data": {
      "text/plain": [
       "2343014125168"
      ]
     },
     "execution_count": 65,
     "metadata": {},
     "output_type": "execute_result"
    }
   ],
   "source": [
    "w2.greet()"
   ]
  },
  {
   "cell_type": "code",
   "execution_count": 69,
   "id": "150df73f",
   "metadata": {},
   "outputs": [],
   "source": [
    "class Welcome:\n",
    "    @classmethod\n",
    "    def greet(cls): #standardized parameter\n",
    "        print(self.name) # trying to access instance variable in classmethod\n",
    "        return f'welcome to oops {cls}'\n",
    "    \n",
    "    def __init__(self, name, emp_id, email): #instance method\n",
    "        #instance variables\n",
    "        self.name=name \n",
    "        self.empid=emp_id\n",
    "        self.e_mail=email\n",
    "    \n",
    "    "
   ]
  },
  {
   "cell_type": "code",
   "execution_count": 70,
   "id": "b53c6fb5",
   "metadata": {},
   "outputs": [],
   "source": [
    "emp1 = Welcome('jinn', 556, 'hghdg@hs.vv')"
   ]
  },
  {
   "cell_type": "code",
   "execution_count": 71,
   "id": "1a7ce6e4",
   "metadata": {},
   "outputs": [
    {
     "ename": "NameError",
     "evalue": "name 'self' is not defined",
     "output_type": "error",
     "traceback": [
      "\u001b[1;31m---------------------------------------------------------------------------\u001b[0m",
      "\u001b[1;31mNameError\u001b[0m                                 Traceback (most recent call last)",
      "Cell \u001b[1;32mIn[71], line 1\u001b[0m\n\u001b[1;32m----> 1\u001b[0m \u001b[43memp1\u001b[49m\u001b[38;5;241;43m.\u001b[39;49m\u001b[43mgreet\u001b[49m\u001b[43m(\u001b[49m\u001b[43m)\u001b[49m\n",
      "Cell \u001b[1;32mIn[69], line 4\u001b[0m, in \u001b[0;36mWelcome.greet\u001b[1;34m(cls)\u001b[0m\n\u001b[0;32m      2\u001b[0m \u001b[38;5;129m@classmethod\u001b[39m\n\u001b[0;32m      3\u001b[0m \u001b[38;5;28;01mdef\u001b[39;00m \u001b[38;5;21mgreet\u001b[39m(\u001b[38;5;28mcls\u001b[39m): \u001b[38;5;66;03m#standardized parameter\u001b[39;00m\n\u001b[1;32m----> 4\u001b[0m     \u001b[38;5;28mprint\u001b[39m(\u001b[38;5;28;43mself\u001b[39;49m\u001b[38;5;241m.\u001b[39mname) \u001b[38;5;66;03m# trying to access instance variable in classmethod\u001b[39;00m\n\u001b[0;32m      5\u001b[0m     \u001b[38;5;28;01mreturn\u001b[39;00m \u001b[38;5;124mf\u001b[39m\u001b[38;5;124m'\u001b[39m\u001b[38;5;124mwelcome to oops \u001b[39m\u001b[38;5;132;01m{\u001b[39;00m\u001b[38;5;28mcls\u001b[39m\u001b[38;5;132;01m}\u001b[39;00m\u001b[38;5;124m'\u001b[39m\n",
      "\u001b[1;31mNameError\u001b[0m: name 'self' is not defined"
     ]
    }
   ],
   "source": [
    "emp1.greet()"
   ]
  },
  {
   "cell_type": "code",
   "execution_count": 72,
   "id": "7c1518ef",
   "metadata": {},
   "outputs": [],
   "source": [
    "class Employee:\n",
    "    def __init__(self, name, emp_id, salary): #constructor\n",
    "        self.name=name \n",
    "        self.empid=emp_id\n",
    "        self.sal=salary\n",
    "        \n",
    "    def get_details(self): #instance method\n",
    "        return f'{self.name} earns {self.sal}'\n",
    "    \n",
    "    @classmethod\n",
    "    def greet(cls):\n",
    "        return f'welcome{cls}'"
   ]
  },
  {
   "cell_type": "code",
   "execution_count": 77,
   "id": "e2dd5c1b",
   "metadata": {},
   "outputs": [],
   "source": [
    "emp1 = Employee('amita', 255, 35673773)"
   ]
  },
  {
   "cell_type": "code",
   "execution_count": 78,
   "id": "67670742",
   "metadata": {},
   "outputs": [
    {
     "data": {
      "text/plain": [
       "'amita earns 35673773'"
      ]
     },
     "execution_count": 78,
     "metadata": {},
     "output_type": "execute_result"
    }
   ],
   "source": [
    "emp1.get_details()"
   ]
  },
  {
   "cell_type": "code",
   "execution_count": null,
   "id": "02cc4c2d",
   "metadata": {},
   "outputs": [],
   "source": []
  }
 ],
 "metadata": {
  "kernelspec": {
   "display_name": "Python 3 (ipykernel)",
   "language": "python",
   "name": "python3"
  },
  "language_info": {
   "codemirror_mode": {
    "name": "ipython",
    "version": 3
   },
   "file_extension": ".py",
   "mimetype": "text/x-python",
   "name": "python",
   "nbconvert_exporter": "python",
   "pygments_lexer": "ipython3",
   "version": "3.10.9"
  }
 },
 "nbformat": 4,
 "nbformat_minor": 5
}
