{
 "cells": [
  {
   "cell_type": "code",
   "execution_count": 1,
   "id": "e5ecbec6",
   "metadata": {},
   "outputs": [],
   "source": [
    "#Access Specifiers \n",
    "#provides the accessibility of the variables\n",
    "#Implements data hiding"
   ]
  },
  {
   "cell_type": "code",
   "execution_count": 2,
   "id": "e6a70819",
   "metadata": {},
   "outputs": [],
   "source": [
    "#public - accessible by everyone - inside the class and outside the class \n",
    "#protected - accessible to the class and its child classes - not accessible outside the class\n",
    "#private - only accessible to that class where it is defined."
   ]
  },
  {
   "cell_type": "code",
   "execution_count": 3,
   "id": "2d437c09",
   "metadata": {},
   "outputs": [],
   "source": [
    "class Employee:\n",
    "    company = 'ABC' # public \n",
    "    _department='IT' # protected(preceeding _)\n",
    "    __salary=20000 #private(preceeding __)"
   ]
  },
  {
   "cell_type": "code",
   "execution_count": 4,
   "id": "49ed3096",
   "metadata": {},
   "outputs": [],
   "source": [
    "e = Employee()"
   ]
  },
  {
   "cell_type": "code",
   "execution_count": 5,
   "id": "0d7610ae",
   "metadata": {},
   "outputs": [
    {
     "name": "stdout",
     "output_type": "stream",
     "text": [
      "ABC\n"
     ]
    }
   ],
   "source": [
    "print(e.company)"
   ]
  },
  {
   "cell_type": "code",
   "execution_count": 6,
   "id": "44aaa73f",
   "metadata": {},
   "outputs": [
    {
     "name": "stdout",
     "output_type": "stream",
     "text": [
      "IT\n"
     ]
    }
   ],
   "source": [
    "print(e._department)"
   ]
  },
  {
   "cell_type": "code",
   "execution_count": 7,
   "id": "9a4050db",
   "metadata": {},
   "outputs": [],
   "source": [
    "#In python, there is no true protected access specifier"
   ]
  },
  {
   "cell_type": "code",
   "execution_count": 8,
   "id": "957aeae3",
   "metadata": {},
   "outputs": [
    {
     "data": {
      "text/plain": [
       "'ABC'"
      ]
     },
     "execution_count": 8,
     "metadata": {},
     "output_type": "execute_result"
    }
   ],
   "source": [
    "Employee.company"
   ]
  },
  {
   "cell_type": "code",
   "execution_count": 9,
   "id": "bcdcfd12",
   "metadata": {},
   "outputs": [
    {
     "ename": "AttributeError",
     "evalue": "'Employee' object has no attribute '__salary'",
     "output_type": "error",
     "traceback": [
      "\u001b[1;31m---------------------------------------------------------------------------\u001b[0m",
      "\u001b[1;31mAttributeError\u001b[0m                            Traceback (most recent call last)",
      "Cell \u001b[1;32mIn[9], line 1\u001b[0m\n\u001b[1;32m----> 1\u001b[0m \u001b[38;5;28mprint\u001b[39m(\u001b[43me\u001b[49m\u001b[38;5;241;43m.\u001b[39;49m\u001b[43m__salary\u001b[49m)\n",
      "\u001b[1;31mAttributeError\u001b[0m: 'Employee' object has no attribute '__salary'"
     ]
    }
   ],
   "source": [
    "print(e.__salary)"
   ]
  },
  {
   "cell_type": "code",
   "execution_count": 10,
   "id": "c8794449",
   "metadata": {},
   "outputs": [
    {
     "data": {
      "text/plain": [
       "{}"
      ]
     },
     "execution_count": 10,
     "metadata": {},
     "output_type": "execute_result"
    }
   ],
   "source": [
    "e.__dict__"
   ]
  },
  {
   "cell_type": "code",
   "execution_count": 11,
   "id": "f40a96c3",
   "metadata": {},
   "outputs": [
    {
     "data": {
      "text/plain": [
       "['_Employee__salary',\n",
       " '__class__',\n",
       " '__delattr__',\n",
       " '__dict__',\n",
       " '__dir__',\n",
       " '__doc__',\n",
       " '__eq__',\n",
       " '__format__',\n",
       " '__ge__',\n",
       " '__getattribute__',\n",
       " '__gt__',\n",
       " '__hash__',\n",
       " '__init__',\n",
       " '__init_subclass__',\n",
       " '__le__',\n",
       " '__lt__',\n",
       " '__module__',\n",
       " '__ne__',\n",
       " '__new__',\n",
       " '__reduce__',\n",
       " '__reduce_ex__',\n",
       " '__repr__',\n",
       " '__setattr__',\n",
       " '__sizeof__',\n",
       " '__str__',\n",
       " '__subclasshook__',\n",
       " '__weakref__',\n",
       " '_department',\n",
       " 'company']"
      ]
     },
     "execution_count": 11,
     "metadata": {},
     "output_type": "execute_result"
    }
   ],
   "source": [
    "dir(e)"
   ]
  },
  {
   "cell_type": "code",
   "execution_count": 12,
   "id": "6758d57a",
   "metadata": {},
   "outputs": [],
   "source": [
    "#__privatevar => _classname__var"
   ]
  },
  {
   "cell_type": "code",
   "execution_count": 13,
   "id": "0a7e1b0e",
   "metadata": {},
   "outputs": [
    {
     "name": "stdout",
     "output_type": "stream",
     "text": [
      "20000\n"
     ]
    }
   ],
   "source": [
    "print(e._Employee__salary)"
   ]
  },
  {
   "cell_type": "markdown",
   "id": "1f1a08c5",
   "metadata": {},
   "source": [
    "# Encapsulation"
   ]
  },
  {
   "cell_type": "code",
   "execution_count": 14,
   "id": "1218d9bd",
   "metadata": {},
   "outputs": [],
   "source": [
    "#Encapsulation -  Binding of data and methods\n",
    "#Attributes of the class should not be accessible\n",
    "#It promotes data integrity"
   ]
  },
  {
   "cell_type": "code",
   "execution_count": 15,
   "id": "e90b4f34",
   "metadata": {},
   "outputs": [
    {
     "data": {
      "text/plain": [
       "'ABC'"
      ]
     },
     "execution_count": 15,
     "metadata": {},
     "output_type": "execute_result"
    }
   ],
   "source": [
    "e.company"
   ]
  },
  {
   "cell_type": "code",
   "execution_count": 16,
   "id": "f865f12d",
   "metadata": {},
   "outputs": [],
   "source": [
    "e.company = 'XYZ'"
   ]
  },
  {
   "cell_type": "code",
   "execution_count": 17,
   "id": "d34ed636",
   "metadata": {},
   "outputs": [
    {
     "name": "stdout",
     "output_type": "stream",
     "text": [
      "XYZ\n"
     ]
    }
   ],
   "source": [
    "print(e.company)"
   ]
  },
  {
   "cell_type": "code",
   "execution_count": 18,
   "id": "1670ee41",
   "metadata": {},
   "outputs": [],
   "source": [
    "class Employee:\n",
    "    salary = 10000"
   ]
  },
  {
   "cell_type": "code",
   "execution_count": 19,
   "id": "03f80f9e",
   "metadata": {},
   "outputs": [],
   "source": [
    "e1 = Employee()\n"
   ]
  },
  {
   "cell_type": "code",
   "execution_count": 20,
   "id": "67e0826a",
   "metadata": {},
   "outputs": [],
   "source": [
    "e1.salary = -10000"
   ]
  },
  {
   "cell_type": "code",
   "execution_count": 21,
   "id": "b8cf8be2",
   "metadata": {},
   "outputs": [
    {
     "name": "stdout",
     "output_type": "stream",
     "text": [
      "-10000\n"
     ]
    }
   ],
   "source": [
    "print(e1.salary)"
   ]
  },
  {
   "cell_type": "code",
   "execution_count": 22,
   "id": "fc093dfd",
   "metadata": {},
   "outputs": [],
   "source": [
    "# direct access is allowed"
   ]
  },
  {
   "cell_type": "code",
   "execution_count": 23,
   "id": "11aeb531",
   "metadata": {},
   "outputs": [],
   "source": [
    "# To avoid direct usage of attribution , we can use Getter and Setter Methods. "
   ]
  },
  {
   "cell_type": "code",
   "execution_count": 24,
   "id": "b1abd591",
   "metadata": {},
   "outputs": [],
   "source": [
    "class Employee:\n",
    "    company = 'ABC'\n",
    "    departments = ['marketing', 'IT']\n",
    "    \n",
    "    def __init__(self, empid, name, sal):\n",
    "        self.e_id = empid\n",
    "        self.n = name\n",
    "        self.sal = sal\n",
    "        \n",
    "    def get_salary(self): #getter method\n",
    "        return self.sal\n",
    "    \n",
    "    def set_salary(self, new_sal):#setter method\n",
    "        self.sal = new_sal\n",
    "    "
   ]
  },
  {
   "cell_type": "code",
   "execution_count": 25,
   "id": "eee31c49",
   "metadata": {},
   "outputs": [],
   "source": [
    "emp1 = Employee(101, 'Carol', 250000)"
   ]
  },
  {
   "cell_type": "code",
   "execution_count": 26,
   "id": "0222105f",
   "metadata": {},
   "outputs": [
    {
     "name": "stdout",
     "output_type": "stream",
     "text": [
      "250000\n"
     ]
    }
   ],
   "source": [
    "print(emp1.get_salary())"
   ]
  },
  {
   "cell_type": "code",
   "execution_count": 29,
   "id": "a369eb4e",
   "metadata": {},
   "outputs": [],
   "source": [
    "(emp1.set_salary(270000))"
   ]
  },
  {
   "cell_type": "code",
   "execution_count": 31,
   "id": "cea38405",
   "metadata": {},
   "outputs": [
    {
     "name": "stdout",
     "output_type": "stream",
     "text": [
      "270000\n"
     ]
    }
   ],
   "source": [
    "print(emp1.get_salary())"
   ]
  },
  {
   "cell_type": "code",
   "execution_count": 32,
   "id": "5636c8b8",
   "metadata": {},
   "outputs": [],
   "source": [
    "emp1.sal = 30000"
   ]
  },
  {
   "cell_type": "code",
   "execution_count": 33,
   "id": "35810e26",
   "metadata": {},
   "outputs": [
    {
     "name": "stdout",
     "output_type": "stream",
     "text": [
      "30000\n"
     ]
    }
   ],
   "source": [
    "print(emp1.sal)"
   ]
  },
  {
   "cell_type": "code",
   "execution_count": 34,
   "id": "82d0d5ee",
   "metadata": {},
   "outputs": [],
   "source": [
    "class Employee:\n",
    "    company = 'ABC'\n",
    "    departments = ['marketing', 'IT']\n",
    "    \n",
    "    def __init__(self, empid, name, sal):\n",
    "        self.e_id = empid\n",
    "        self.n = name\n",
    "        self.sal = sal\n",
    "        \n",
    "    def get_salary(self): #getter method\n",
    "        return self.sal\n",
    "    \n",
    "    def set_salary(self, new_sal):#setter method\n",
    "        \n",
    "        if new_sal < 0:\n",
    "            return 'salary cannot be -ve'\n",
    "        else:\n",
    "            self.sal = new_sal\n",
    "    "
   ]
  },
  {
   "cell_type": "code",
   "execution_count": 38,
   "id": "300f14ef",
   "metadata": {},
   "outputs": [
    {
     "name": "stdout",
     "output_type": "stream",
     "text": [
      "250000\n",
      "3000000\n"
     ]
    }
   ],
   "source": [
    "emp1 = Employee(101, 'Carol', 250000)\n",
    "print(emp1.sal)\n",
    "emp1.set_salary(3000000)\n",
    "print(emp1.get_salary())"
   ]
  },
  {
   "cell_type": "code",
   "execution_count": 37,
   "id": "aa57fa05",
   "metadata": {},
   "outputs": [
    {
     "name": "stdout",
     "output_type": "stream",
     "text": [
      "250000\n"
     ]
    }
   ],
   "source": [
    "print(emp1.get_salary())"
   ]
  },
  {
   "cell_type": "code",
   "execution_count": 39,
   "id": "9d716da4",
   "metadata": {},
   "outputs": [],
   "source": [
    "class Employee:\n",
    "    company = 'ABC'\n",
    "    departments = ['marketing', 'IT']\n",
    "    \n",
    "    def __init__(self, empid, name, sal):\n",
    "        self.e_id = empid\n",
    "        self.n = name\n",
    "        self.__sal = sal\n",
    "        \n",
    "    def get_salary(self): #getter method\n",
    "        return self.__sal #private variable\n",
    "    \n",
    "    def set_salary(self, new_sal):#setter method\n",
    "        \n",
    "        if new_sal < 0:\n",
    "            return 'salary cannot be -ve'\n",
    "        else:\n",
    "            self.__sal = new_sal\n",
    "    "
   ]
  },
  {
   "cell_type": "code",
   "execution_count": 43,
   "id": "ea33c151",
   "metadata": {},
   "outputs": [],
   "source": [
    "emp2 = Employee(101, 'Carol', 250000)\n",
    "# print(emp1.sal)\n",
    "# emp1.set_salary(3000000)\n",
    "# print(emp1.get_salary())"
   ]
  },
  {
   "cell_type": "code",
   "execution_count": 44,
   "id": "91b8b4f1",
   "metadata": {},
   "outputs": [
    {
     "ename": "AttributeError",
     "evalue": "'Employee' object has no attribute '__sal'",
     "output_type": "error",
     "traceback": [
      "\u001b[1;31m---------------------------------------------------------------------------\u001b[0m",
      "\u001b[1;31mAttributeError\u001b[0m                            Traceback (most recent call last)",
      "Cell \u001b[1;32mIn[44], line 1\u001b[0m\n\u001b[1;32m----> 1\u001b[0m \u001b[38;5;28mprint\u001b[39m(\u001b[43memp2\u001b[49m\u001b[38;5;241;43m.\u001b[39;49m\u001b[43m__sal\u001b[49m)\n",
      "\u001b[1;31mAttributeError\u001b[0m: 'Employee' object has no attribute '__sal'"
     ]
    }
   ],
   "source": [
    "print(emp2.__sal)"
   ]
  },
  {
   "cell_type": "code",
   "execution_count": 45,
   "id": "29c85cda",
   "metadata": {},
   "outputs": [
    {
     "data": {
      "text/plain": [
       "{'e_id': 101, 'n': 'Carol', '_Employee__sal': 250000}"
      ]
     },
     "execution_count": 45,
     "metadata": {},
     "output_type": "execute_result"
    }
   ],
   "source": [
    "emp2.__dict__"
   ]
  },
  {
   "cell_type": "code",
   "execution_count": 47,
   "id": "f309333d",
   "metadata": {},
   "outputs": [
    {
     "name": "stdout",
     "output_type": "stream",
     "text": [
      "250000\n"
     ]
    }
   ],
   "source": [
    "print(emp2.get_salary())"
   ]
  },
  {
   "cell_type": "code",
   "execution_count": 48,
   "id": "f62d2850",
   "metadata": {},
   "outputs": [],
   "source": [
    "emp2.__sal = 76676 #cannot assign any value from outside for private variable"
   ]
  },
  {
   "cell_type": "code",
   "execution_count": 49,
   "id": "a44e6226",
   "metadata": {},
   "outputs": [
    {
     "name": "stdout",
     "output_type": "stream",
     "text": [
      "250000\n"
     ]
    }
   ],
   "source": [
    "print(emp2.get_salary())"
   ]
  },
  {
   "cell_type": "code",
   "execution_count": 50,
   "id": "6016aa39",
   "metadata": {},
   "outputs": [],
   "source": [
    "emp2.set_salary(3000000)"
   ]
  },
  {
   "cell_type": "code",
   "execution_count": 51,
   "id": "2f917935",
   "metadata": {},
   "outputs": [
    {
     "name": "stdout",
     "output_type": "stream",
     "text": [
      "3000000\n"
     ]
    }
   ],
   "source": [
    "print(emp2.get_salary())"
   ]
  },
  {
   "cell_type": "code",
   "execution_count": 52,
   "id": "c67c0fe4",
   "metadata": {},
   "outputs": [
    {
     "data": {
      "text/plain": [
       "{'e_id': 101, 'n': 'Carol', '_Employee__sal': 3000000, '__sal': 76676}"
      ]
     },
     "execution_count": 52,
     "metadata": {},
     "output_type": "execute_result"
    }
   ],
   "source": [
    "emp2.__dict__"
   ]
  },
  {
   "cell_type": "markdown",
   "id": "d76cbd5f",
   "metadata": {},
   "source": [
    "# Inheritance"
   ]
  },
  {
   "cell_type": "code",
   "execution_count": 53,
   "id": "2bc17fd1",
   "metadata": {},
   "outputs": [],
   "source": [
    "#we can inherit attributes and methods of a class in another class"
   ]
  },
  {
   "cell_type": "code",
   "execution_count": 54,
   "id": "554b675d",
   "metadata": {},
   "outputs": [],
   "source": [
    "class Vehicle:\n",
    "    company = 'Tata'\n",
    "    \n",
    "    def __init__ (self, mileage, fuel_capacity):\n",
    "        self.m = mileage\n",
    "        self.f = fuel_capacity\n",
    "        \n",
    "    def vehicle_details(self):\n",
    "        return f'mileage of the vehicle is {self.m} and the fuel capacity is {self.f}'"
   ]
  },
  {
   "cell_type": "code",
   "execution_count": 55,
   "id": "ec6438d0",
   "metadata": {},
   "outputs": [],
   "source": [
    "v1 = Vehicle(40, 20)"
   ]
  },
  {
   "cell_type": "code",
   "execution_count": 56,
   "id": "300a83a8",
   "metadata": {},
   "outputs": [
    {
     "data": {
      "text/plain": [
       "'mileage of the vehicle is 40 and the fuel capacity is 20'"
      ]
     },
     "execution_count": 56,
     "metadata": {},
     "output_type": "execute_result"
    }
   ],
   "source": [
    "v1.vehicle_details()"
   ]
  },
  {
   "cell_type": "code",
   "execution_count": 57,
   "id": "fe2cd12d",
   "metadata": {},
   "outputs": [],
   "source": [
    "class Car(Vehicle):\n",
    "    pass"
   ]
  },
  {
   "cell_type": "code",
   "execution_count": 58,
   "id": "d6fdbb98",
   "metadata": {},
   "outputs": [
    {
     "ename": "TypeError",
     "evalue": "Vehicle.__init__() missing 2 required positional arguments: 'mileage' and 'fuel_capacity'",
     "output_type": "error",
     "traceback": [
      "\u001b[1;31m---------------------------------------------------------------------------\u001b[0m",
      "\u001b[1;31mTypeError\u001b[0m                                 Traceback (most recent call last)",
      "Cell \u001b[1;32mIn[58], line 1\u001b[0m\n\u001b[1;32m----> 1\u001b[0m c1 \u001b[38;5;241m=\u001b[39m \u001b[43mCar\u001b[49m\u001b[43m(\u001b[49m\u001b[43m)\u001b[49m\n",
      "\u001b[1;31mTypeError\u001b[0m: Vehicle.__init__() missing 2 required positional arguments: 'mileage' and 'fuel_capacity'"
     ]
    }
   ],
   "source": [
    "c1 = Car()"
   ]
  },
  {
   "cell_type": "code",
   "execution_count": 75,
   "id": "39407369",
   "metadata": {},
   "outputs": [],
   "source": [
    "class A:\n",
    "    a = 100\n",
    "    \n",
    "    @classmethod\n",
    "    def fun(cls):\n",
    "        return cls.a"
   ]
  },
  {
   "cell_type": "code",
   "execution_count": 76,
   "id": "5e9eec88",
   "metadata": {},
   "outputs": [],
   "source": [
    "class B(A):\n",
    "    pass"
   ]
  },
  {
   "cell_type": "code",
   "execution_count": 77,
   "id": "3a380b53",
   "metadata": {},
   "outputs": [],
   "source": [
    "b1 = B()"
   ]
  },
  {
   "cell_type": "code",
   "execution_count": 78,
   "id": "8e3787b6",
   "metadata": {},
   "outputs": [
    {
     "data": {
      "text/plain": [
       "100"
      ]
     },
     "execution_count": 78,
     "metadata": {},
     "output_type": "execute_result"
    }
   ],
   "source": [
    "b1.a"
   ]
  },
  {
   "cell_type": "code",
   "execution_count": 74,
   "id": "005028d4",
   "metadata": {},
   "outputs": [
    {
     "data": {
      "text/plain": [
       "100"
      ]
     },
     "execution_count": 74,
     "metadata": {},
     "output_type": "execute_result"
    }
   ],
   "source": [
    "b1.fun()"
   ]
  },
  {
   "cell_type": "code",
   "execution_count": null,
   "id": "360d7ebd",
   "metadata": {},
   "outputs": [],
   "source": [
    "class Vehicle:\n",
    "    company = 'Tata'\n",
    "    \n",
    "    def __init__ (self, mileage, fuel_capacity):\n",
    "        self.m = mileage\n",
    "        self.f = fuel_capacity\n",
    "        \n",
    "    def vehicle_details(self):\n",
    "        return f'mileage of the vehicle is {self.m} and the fuel capacity is {self.f}'"
   ]
  },
  {
   "cell_type": "code",
   "execution_count": null,
   "id": "0b926d9b",
   "metadata": {},
   "outputs": [],
   "source": [
    "class Car(Vehicle):\n",
    "    pass"
   ]
  },
  {
   "cell_type": "code",
   "execution_count": 79,
   "id": "20328f3e",
   "metadata": {},
   "outputs": [],
   "source": [
    "c1 = Car(50, 15)"
   ]
  },
  {
   "cell_type": "code",
   "execution_count": 80,
   "id": "a30c03c0",
   "metadata": {},
   "outputs": [
    {
     "name": "stdout",
     "output_type": "stream",
     "text": [
      "Tata\n"
     ]
    }
   ],
   "source": [
    "print(c1.company)"
   ]
  },
  {
   "cell_type": "code",
   "execution_count": 81,
   "id": "4c9aa2fd",
   "metadata": {},
   "outputs": [
    {
     "name": "stdout",
     "output_type": "stream",
     "text": [
      "mileage of the vehicle is 50 and the fuel capacity is 15\n"
     ]
    }
   ],
   "source": [
    "print(c1.vehicle_details())"
   ]
  },
  {
   "cell_type": "code",
   "execution_count": 82,
   "id": "b1b5431d",
   "metadata": {},
   "outputs": [],
   "source": [
    "class Vehicle:\n",
    "    company = 'Tata' #classVariable\n",
    "    \n",
    "    def __init__ (self, mileage, fuel_capacity):\n",
    "        self.m = mileage\n",
    "        self.f = fuel_capacity\n",
    "        \n",
    "    def vehicle_details(self):\n",
    "        return f'mileage of the vehicle is {self.m} and the fuel capacity is {self.f}'\n",
    "    \n",
    "class Car(Vehicle):\n",
    "    def __init__(self, seats):\n",
    "        self.s = seats\n",
    "        \n",
    "    def car_details(self):\n",
    "        return f'Car is {self.s} seater'"
   ]
  },
  {
   "cell_type": "code",
   "execution_count": 83,
   "id": "fc8fdd31",
   "metadata": {},
   "outputs": [],
   "source": [
    "c2 = Car(4)"
   ]
  },
  {
   "cell_type": "code",
   "execution_count": 84,
   "id": "a77127cd",
   "metadata": {},
   "outputs": [
    {
     "data": {
      "text/plain": [
       "'Tata'"
      ]
     },
     "execution_count": 84,
     "metadata": {},
     "output_type": "execute_result"
    }
   ],
   "source": [
    "c2.company"
   ]
  },
  {
   "cell_type": "code",
   "execution_count": 85,
   "id": "20b236da",
   "metadata": {},
   "outputs": [],
   "source": [
    "# class A:\n",
    "#     a\n",
    "#     b\n",
    "#     c\n",
    "# class B(A):\n",
    "#     d \n",
    "#     e\n",
    "    \n",
    "#     a \n",
    "#     b \n",
    "#     c"
   ]
  },
  {
   "cell_type": "code",
   "execution_count": 86,
   "id": "82306d36",
   "metadata": {},
   "outputs": [
    {
     "ename": "AttributeError",
     "evalue": "'Car' object has no attribute 'm'",
     "output_type": "error",
     "traceback": [
      "\u001b[1;31m---------------------------------------------------------------------------\u001b[0m",
      "\u001b[1;31mAttributeError\u001b[0m                            Traceback (most recent call last)",
      "Cell \u001b[1;32mIn[86], line 1\u001b[0m\n\u001b[1;32m----> 1\u001b[0m \u001b[43mc2\u001b[49m\u001b[38;5;241;43m.\u001b[39;49m\u001b[43mvehicle_details\u001b[49m\u001b[43m(\u001b[49m\u001b[43m)\u001b[49m\n",
      "Cell \u001b[1;32mIn[82], line 9\u001b[0m, in \u001b[0;36mVehicle.vehicle_details\u001b[1;34m(self)\u001b[0m\n\u001b[0;32m      8\u001b[0m \u001b[38;5;28;01mdef\u001b[39;00m \u001b[38;5;21mvehicle_details\u001b[39m(\u001b[38;5;28mself\u001b[39m):\n\u001b[1;32m----> 9\u001b[0m     \u001b[38;5;28;01mreturn\u001b[39;00m \u001b[38;5;124mf\u001b[39m\u001b[38;5;124m'\u001b[39m\u001b[38;5;124mmileage of the vehicle is \u001b[39m\u001b[38;5;132;01m{\u001b[39;00m\u001b[38;5;28mself\u001b[39m\u001b[38;5;241m.\u001b[39mm\u001b[38;5;132;01m}\u001b[39;00m\u001b[38;5;124m and the fuel capacity is \u001b[39m\u001b[38;5;132;01m{\u001b[39;00m\u001b[38;5;28mself\u001b[39m\u001b[38;5;241m.\u001b[39mf\u001b[38;5;132;01m}\u001b[39;00m\u001b[38;5;124m'\u001b[39m\n",
      "\u001b[1;31mAttributeError\u001b[0m: 'Car' object has no attribute 'm'"
     ]
    }
   ],
   "source": [
    "c2.vehicle_details()"
   ]
  },
  {
   "cell_type": "code",
   "execution_count": 93,
   "id": "650d8b73",
   "metadata": {},
   "outputs": [],
   "source": [
    "class Vehicle:\n",
    "    company = 'Tata' #classVariable\n",
    "    \n",
    "    def __init__ (self, mileage, fuel_capacity):\n",
    "        self.m = mileage\n",
    "        self.f = fuel_capacity\n",
    "        \n",
    "    def vehicle_details(self):\n",
    "        return f'mileage of the vehicle is {self.m} and the fuel capacity is {self.f}'\n",
    "    \n",
    "class Car(Vehicle):\n",
    "    def __init__(self, seats, mil, capa):\n",
    "        self.s = seats\n",
    "        super().__init__(mil, capa) # super keyword is to access the property of parent class\n",
    "        #whatever the requirement is there just provide that argument.\n",
    "        \n",
    "    def car_details(self):\n",
    "        print(Vehicle.vehicle_details(self))\n",
    "        print(super().vehicle_details())\n",
    "        print(self.vehicle_details())\n",
    "        return f'Car is {self.s} seater with fuel capacity {self.f} and mileage {self.m}'\n",
    "    "
   ]
  },
  {
   "cell_type": "code",
   "execution_count": 94,
   "id": "2e94f33c",
   "metadata": {},
   "outputs": [
    {
     "name": "stdout",
     "output_type": "stream",
     "text": [
      "mileage of the vehicle is 18 and the fuel capacity is 40\n",
      "mileage of the vehicle is 18 and the fuel capacity is 40\n",
      "mileage of the vehicle is 18 and the fuel capacity is 40\n"
     ]
    },
    {
     "data": {
      "text/plain": [
       "'Car is 4 seater with fuel capacity 40 and mileage 18'"
      ]
     },
     "execution_count": 94,
     "metadata": {},
     "output_type": "execute_result"
    }
   ],
   "source": [
    "c3 = Car(4, 18, 40)\n",
    "c3.car_details()"
   ]
  },
  {
   "cell_type": "code",
   "execution_count": 95,
   "id": "76fedab1",
   "metadata": {},
   "outputs": [],
   "source": [
    "v1 = Vehicle(20, 50)"
   ]
  },
  {
   "cell_type": "code",
   "execution_count": 96,
   "id": "989e3f90",
   "metadata": {},
   "outputs": [
    {
     "name": "stdout",
     "output_type": "stream",
     "text": [
      "mileage of the vehicle is 18 and the fuel capacity is 40\n",
      "mileage of the vehicle is 18 and the fuel capacity is 40\n",
      "mileage of the vehicle is 18 and the fuel capacity is 40\n"
     ]
    },
    {
     "data": {
      "text/plain": [
       "'Car is 4 seater with fuel capacity 40 and mileage 18'"
      ]
     },
     "execution_count": 96,
     "metadata": {},
     "output_type": "execute_result"
    }
   ],
   "source": [
    "c3.car_details()"
   ]
  },
  {
   "cell_type": "code",
   "execution_count": 97,
   "id": "b03baa56",
   "metadata": {},
   "outputs": [],
   "source": [
    "# multilevel \n",
    "# A-->B-->C"
   ]
  },
  {
   "cell_type": "code",
   "execution_count": null,
   "id": "183e3caf",
   "metadata": {},
   "outputs": [],
   "source": [
    "class Vehicle:\n",
    "    company = 'Tata' #classVariable\n",
    "    \n",
    "class B(Vehicle):\n",
    "    dept_name = 'IT'\n",
    "    \n",
    "class C(B):\n",
    "    "
   ]
  }
 ],
 "metadata": {
  "kernelspec": {
   "display_name": "Python 3 (ipykernel)",
   "language": "python",
   "name": "python3"
  },
  "language_info": {
   "codemirror_mode": {
    "name": "ipython",
    "version": 3
   },
   "file_extension": ".py",
   "mimetype": "text/x-python",
   "name": "python",
   "nbconvert_exporter": "python",
   "pygments_lexer": "ipython3",
   "version": "3.10.9"
  }
 },
 "nbformat": 4,
 "nbformat_minor": 5
}
