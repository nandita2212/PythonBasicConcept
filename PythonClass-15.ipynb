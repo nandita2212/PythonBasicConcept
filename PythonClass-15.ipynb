{
 "cells": [
  {
   "cell_type": "markdown",
   "id": "d70a829f",
   "metadata": {},
   "source": [
    "4. write and read mode - 'w+'\n",
    "\n",
    "- if the file exists then it will open the file in write mode and deletes the content of the file.\n",
    "- if the file does not exists then it will create a file with given name and extension.\n",
    "- you are allowed to write into the file and also allowed to read from the file."
   ]
  },
  {
   "cell_type": "code",
   "execution_count": 10,
   "id": "748f17d5",
   "metadata": {},
   "outputs": [],
   "source": [
    "#if file is not present\n",
    "\n",
    "f = open('write_read_mode.txt','w+')"
   ]
  },
  {
   "cell_type": "code",
   "execution_count": 75,
   "id": "d6efe578",
   "metadata": {},
   "outputs": [],
   "source": [
    "#ls"
   ]
  },
  {
   "cell_type": "code",
   "execution_count": 17,
   "id": "4c16646f",
   "metadata": {},
   "outputs": [
    {
     "name": "stdout",
     "output_type": "stream",
     "text": [
      "0\n",
      "0\n",
      "hello world\n"
     ]
    }
   ],
   "source": [
    "#2. file is present\n",
    "\n",
    "f = open('write_read_mode.txt','w+')\n",
    "print(f.tell()) #-->eof\n",
    "f.write('hello world')\n",
    "print(f.seek(0))\n",
    "print(f.read())\n",
    "f.close()"
   ]
  },
  {
   "cell_type": "markdown",
   "id": "9681ca12",
   "metadata": {},
   "source": [
    "5. read and write mode - 'r+'\n",
    "\n",
    "- if the file exists then it will open the file in read mode and places the cursor at the begining of the file.\n",
    "- if the file does not exists then it will give \"FileNotFoundError\"\n",
    "- you are allowed to write into the file and also to read from the file\n"
   ]
  },
  {
   "cell_type": "code",
   "execution_count": 18,
   "id": "79fb0462",
   "metadata": {},
   "outputs": [
    {
     "ename": "FileNotFoundError",
     "evalue": "[Errno 2] No such file or directory: 'read_write_mode.txt'",
     "output_type": "error",
     "traceback": [
      "\u001b[1;31m---------------------------------------------------------------------------\u001b[0m",
      "\u001b[1;31mFileNotFoundError\u001b[0m                         Traceback (most recent call last)",
      "Cell \u001b[1;32mIn[18], line 3\u001b[0m\n\u001b[0;32m      1\u001b[0m \u001b[38;5;66;03m#1. file is not present\u001b[39;00m\n\u001b[1;32m----> 3\u001b[0m f \u001b[38;5;241m=\u001b[39m \u001b[38;5;28;43mopen\u001b[39;49m\u001b[43m(\u001b[49m\u001b[38;5;124;43m'\u001b[39;49m\u001b[38;5;124;43mread_write_mode.txt\u001b[39;49m\u001b[38;5;124;43m'\u001b[39;49m\u001b[43m,\u001b[49m\u001b[38;5;124;43m'\u001b[39;49m\u001b[38;5;124;43mr+\u001b[39;49m\u001b[38;5;124;43m'\u001b[39;49m\u001b[43m)\u001b[49m\n",
      "File \u001b[1;32m~\\anaconda3\\lib\\site-packages\\IPython\\core\\interactiveshell.py:282\u001b[0m, in \u001b[0;36m_modified_open\u001b[1;34m(file, *args, **kwargs)\u001b[0m\n\u001b[0;32m    275\u001b[0m \u001b[38;5;28;01mif\u001b[39;00m file \u001b[38;5;129;01min\u001b[39;00m {\u001b[38;5;241m0\u001b[39m, \u001b[38;5;241m1\u001b[39m, \u001b[38;5;241m2\u001b[39m}:\n\u001b[0;32m    276\u001b[0m     \u001b[38;5;28;01mraise\u001b[39;00m \u001b[38;5;167;01mValueError\u001b[39;00m(\n\u001b[0;32m    277\u001b[0m         \u001b[38;5;124mf\u001b[39m\u001b[38;5;124m\"\u001b[39m\u001b[38;5;124mIPython won\u001b[39m\u001b[38;5;124m'\u001b[39m\u001b[38;5;124mt let you open fd=\u001b[39m\u001b[38;5;132;01m{\u001b[39;00mfile\u001b[38;5;132;01m}\u001b[39;00m\u001b[38;5;124m by default \u001b[39m\u001b[38;5;124m\"\u001b[39m\n\u001b[0;32m    278\u001b[0m         \u001b[38;5;124m\"\u001b[39m\u001b[38;5;124mas it is likely to crash IPython. If you know what you are doing, \u001b[39m\u001b[38;5;124m\"\u001b[39m\n\u001b[0;32m    279\u001b[0m         \u001b[38;5;124m\"\u001b[39m\u001b[38;5;124myou can use builtins\u001b[39m\u001b[38;5;124m'\u001b[39m\u001b[38;5;124m open.\u001b[39m\u001b[38;5;124m\"\u001b[39m\n\u001b[0;32m    280\u001b[0m     )\n\u001b[1;32m--> 282\u001b[0m \u001b[38;5;28;01mreturn\u001b[39;00m io_open(file, \u001b[38;5;241m*\u001b[39margs, \u001b[38;5;241m*\u001b[39m\u001b[38;5;241m*\u001b[39mkwargs)\n",
      "\u001b[1;31mFileNotFoundError\u001b[0m: [Errno 2] No such file or directory: 'read_write_mode.txt'"
     ]
    }
   ],
   "source": [
    "#1. file is not present\n",
    "\n",
    "f = open('read_write_mode.txt','r+')\n",
    "\n"
   ]
  },
  {
   "cell_type": "code",
   "execution_count": 22,
   "id": "5f2ba68d",
   "metadata": {},
   "outputs": [
    {
     "name": "stdout",
     "output_type": "stream",
     "text": [
      "0\n",
      "5\n"
     ]
    },
    {
     "data": {
      "text/plain": [
       "9"
      ]
     },
     "execution_count": 22,
     "metadata": {},
     "output_type": "execute_result"
    }
   ],
   "source": [
    "#2. file is present \n",
    "\n",
    "f = open('read_write_mode.txt','r+')\n",
    "print(f.tell())\n",
    "print(f.write('hello'))#--> cursor came at 5th location\n",
    "f.seek(4)\n",
    "f.write('devil')\n",
    "f.tell()\n",
    "f.close()\n"
   ]
  },
  {
   "cell_type": "markdown",
   "id": "34cc04c7",
   "metadata": {},
   "source": [
    "6. Append and read mode - 'a+'\n",
    "\n",
    "- if the file exists then it will open the file in append mode and place the cursor at the end of the file.\n",
    "- if the file does not exists then it will create a file with given name and extension.\n",
    "- append will always write the content any of the end of the file, so seek() will not work.\n"
   ]
  },
  {
   "cell_type": "code",
   "execution_count": 24,
   "id": "672b5ca3",
   "metadata": {},
   "outputs": [],
   "source": [
    "#1. file is not present \n",
    "\n",
    "f = open('append_read_mode.txt','a+')\n"
   ]
  },
  {
   "cell_type": "code",
   "execution_count": 33,
   "id": "c67aac23",
   "metadata": {},
   "outputs": [
    {
     "name": "stdout",
     "output_type": "stream",
     "text": [
      "0\n",
      "rrow is friday\n"
     ]
    }
   ],
   "source": [
    "#2. file is present\n",
    "\n",
    "f = open('append_read_mode.txt','a+')\n",
    "print(f.tell())#-->cursor at 0 location\n",
    "f.seek(0)#--> ask cursor to be at 0 location\n",
    "f.write('tomorrow is friday')#--> after writing this line, cursor is at 18th location\n",
    "f.seek(4)# ---> ask cursor to be at 0th location\n",
    "print(f.read()) #-->from 4th location, your data will be read.\n",
    "f.write('hello universe')\n",
    "f.close()"
   ]
  },
  {
   "cell_type": "code",
   "execution_count": 36,
   "id": "e6751fec",
   "metadata": {},
   "outputs": [
    {
     "name": "stdout",
     "output_type": "stream",
     "text": [
      "34\n",
      "y is thursdaytoday is thursdaytoday is thursday\n"
     ]
    }
   ],
   "source": [
    "f = open('pythonclasses.txt','a+')#--> file will be created\n",
    "print(f.tell())#--> cursor will be at 0th location bcz file is blank\n",
    "f.seek(0)#-->\n",
    "f.write('today is thursday')#--> this line will b written\n",
    "f.seek(4)#--> cursor to be at 4th location\n",
    "print(f.read())\n",
    "f.seek(7)#-->7th pos cursor\n",
    "f.write('how are you?')\n",
    "f.close()"
   ]
  },
  {
   "cell_type": "code",
   "execution_count": 42,
   "id": "8f922fd2",
   "metadata": {},
   "outputs": [
    {
     "name": "stdout",
     "output_type": "stream",
     "text": [
      "0\n",
      "y is thursday\n"
     ]
    }
   ],
   "source": [
    "f = open('pythonclasses.txt','a+')#--> file will be created\n",
    "print(f.tell())#--> cursor will be at 0th location bcz file is blank\n",
    "f.seek(0)#-->\n",
    "f.write('today is thursday')#--> this line will b written\n",
    "f.seek(4)#--> cursor to be at 4th location\n",
    "print(f.read())\n",
    "f.seek(7)#-->7th pos cursor\n",
    "f.write('how are you?')\n",
    "f.close()"
   ]
  },
  {
   "cell_type": "markdown",
   "id": "f5efb635",
   "metadata": {},
   "source": [
    "methods to do the operation on readmode\n",
    "\n",
    "-read() - reads the whole content of the file and returns the string object.\n",
    "-read(char)- reads the specified no. of char.\n",
    "-readline() - reads the current line from the current position of the cursor and returs the string obj.\n",
    "-readlines() - read the whole content of the file and returns the list of string"
   ]
  },
  {
   "cell_type": "code",
   "execution_count": 43,
   "id": "20f4b4cc",
   "metadata": {},
   "outputs": [
    {
     "name": "stdout",
     "output_type": "stream",
     "text": [
      "today is thursday \\n tomorrow is friday \\n yesterday was wednesday\n"
     ]
    }
   ],
   "source": [
    "f = open('append_read_mode.txt','r')\n",
    "print(f.read())"
   ]
  },
  {
   "cell_type": "code",
   "execution_count": 53,
   "id": "74ae9625",
   "metadata": {},
   "outputs": [
    {
     "name": "stdout",
     "output_type": "stream",
     "text": [
      " tomorrow is friday \\n yesterday was wednesday\n"
     ]
    }
   ],
   "source": [
    "f = f = open('append_read_mode.txt','r')\n",
    "f.seek(20)\n",
    "print(f.read())"
   ]
  },
  {
   "cell_type": "code",
   "execution_count": 52,
   "id": "f19be6ac",
   "metadata": {},
   "outputs": [
    {
     "name": "stdout",
     "output_type": "stream",
     "text": [
      "rrow is friday \\n yesterday was wednesday\n"
     ]
    }
   ],
   "source": [
    "f = f = open('append_read_mode.txt','r')\n",
    "f.seek(25)\n",
    "print(f.readline())"
   ]
  },
  {
   "cell_type": "code",
   "execution_count": 72,
   "id": "470fc102",
   "metadata": {},
   "outputs": [
    {
     "name": "stdout",
     "output_type": "stream",
     "text": [
      "['today is thursday\\n', 'tomorrow is friday \\n', 'yesterday was wednesday']\n"
     ]
    }
   ],
   "source": [
    "f = open('append_read_mode.txt','r')\n",
    "x = (f.readlines())\n",
    "print(x)"
   ]
  },
  {
   "cell_type": "code",
   "execution_count": 65,
   "id": "29966c68",
   "metadata": {},
   "outputs": [
    {
     "name": "stdout",
     "output_type": "stream",
     "text": [
      "today is thursday\n",
      "tomorrow is friday \n",
      "yesterday was wednesday\n"
     ]
    }
   ],
   "source": [
    "f = open('append_read_mode.txt','r')\n",
    "print(f.read())"
   ]
  },
  {
   "cell_type": "markdown",
   "id": "b08f9e82",
   "metadata": {},
   "source": [
    "Operations for write mode:\n",
    "\n",
    "- write()\n",
    "- writelines([])"
   ]
  },
  {
   "cell_type": "code",
   "execution_count": 70,
   "id": "d966e814",
   "metadata": {},
   "outputs": [],
   "source": [
    "f = open('append_read_mode.txt','w')\n",
    "(f.write('hello world'))\n",
    "f.close()"
   ]
  },
  {
   "cell_type": "code",
   "execution_count": 71,
   "id": "6a41139b",
   "metadata": {},
   "outputs": [],
   "source": [
    "f = open('append_read_mode.txt','w')\n",
    "(f.writelines(['today is thursday\\n', 'tomorrow is friday \\n', 'yesterday was wednesday']))\n",
    "f.close()"
   ]
  },
  {
   "cell_type": "markdown",
   "id": "c327c53e",
   "metadata": {},
   "source": [
    "# OOPs Concept:\n"
   ]
  },
  {
   "cell_type": "markdown",
   "id": "5e9dfac2",
   "metadata": {},
   "source": [
    "C - langauge - Procedural way \n",
    "\n",
    "C++ Java Python -  Object Oriented programming\n",
    "\n",
    "OOPs Introduction\n",
    "Class vs Object \n",
    "Constructor / Initializer and self\n",
    "\n",
    "Types Of Variables\n",
    "    Class variables \n",
    "    Instance Variables\n",
    "\n",
    "Types of Methods\n",
    "    Class methods\n",
    "    Instance methods\n",
    "\n",
    "a.Inheritance\n",
    "    Types of Inheritance\n",
    "    super()\n",
    "    \n",
    "b.Polymorphism\n",
    "    Duck typing\n",
    "    Overloading\n",
    "    overriding\n",
    "\n",
    "c.Encapsulation\n",
    "    setter and getter \n",
    "    property\n",
    "\n",
    "d.Abstraction\n",
    "    Abstract classes\n",
    "\n",
    "e.Interface"
   ]
  },
  {
   "cell_type": "code",
   "execution_count": 73,
   "id": "e57caf8d",
   "metadata": {},
   "outputs": [],
   "source": [
    "# binding data and methods together for each object separately is defined as class."
   ]
  },
  {
   "cell_type": "code",
   "execution_count": 74,
   "id": "eedfb5ec",
   "metadata": {},
   "outputs": [],
   "source": [
    "#OOP aims at to implement the real world entities in programming\n",
    "#Binds the data and the functions together for each oject."
   ]
  },
  {
   "cell_type": "code",
   "execution_count": 76,
   "id": "eed125e7",
   "metadata": {},
   "outputs": [],
   "source": [
    "#Class - Blueprint/template to create objects \n",
    "# It provides :\n",
    "    #1. Attributes/Properties- functionalities\n",
    "    #2. Methods/Behaviour"
   ]
  },
  {
   "cell_type": "code",
   "execution_count": null,
   "id": "90319aaf",
   "metadata": {},
   "outputs": [],
   "source": []
  }
 ],
 "metadata": {
  "kernelspec": {
   "display_name": "Python 3 (ipykernel)",
   "language": "python",
   "name": "python3"
  },
  "language_info": {
   "codemirror_mode": {
    "name": "ipython",
    "version": 3
   },
   "file_extension": ".py",
   "mimetype": "text/x-python",
   "name": "python",
   "nbconvert_exporter": "python",
   "pygments_lexer": "ipython3",
   "version": "3.10.9"
  }
 },
 "nbformat": 4,
 "nbformat_minor": 5
}
