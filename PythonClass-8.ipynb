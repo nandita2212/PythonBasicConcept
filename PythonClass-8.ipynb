{
 "cells": [
  {
   "cell_type": "code",
   "execution_count": 1,
   "id": "05574f5b",
   "metadata": {},
   "outputs": [
    {
     "name": "stdout",
     "output_type": "stream",
     "text": [
      "{1: 100, 2: 220, 3: 300} 1775438344768\n",
      "{1: 100, 2: 200, 3: 300} 1775438344192\n"
     ]
    }
   ],
   "source": [
    "#Dictionary Copy method\n",
    "\n",
    "#shallow copy\n",
    "rup = {1:100, 2:200, 3:300}\n",
    "\n",
    "dup_rup = rup.copy() \n",
    "dup_rup[2] = 220\n",
    "print(dup_rup, id(dup_rup))\n",
    "print(rup, id(rup))"
   ]
  },
  {
   "cell_type": "code",
   "execution_count": 3,
   "id": "6e52b833",
   "metadata": {},
   "outputs": [
    {
     "name": "stdout",
     "output_type": "stream",
     "text": [
      "{1: 100, 2: {'a': 'xyz', 'b': 'bcd'}, 3: 300} 1775466435072\n",
      "{1: 100, 2: {'a': 'abc', 'b': 'bcd'}, 3: 300} 1775466438912\n"
     ]
    }
   ],
   "source": [
    "#Deep copy -nested dictionary\n",
    "\n",
    "from copy import deepcopy\n",
    "\n",
    "rup = {1:100, 2:{'a':'abc','b':'bcd'}, 3:300}\n",
    "\n",
    "dup_rup = deepcopy(rup)\n",
    "\n",
    "dup_rup[2]['a'] = \"xyz\"\n",
    "\n",
    "print(dup_rup, id(dup_rup))\n",
    "print(rup, id(rup))\n",
    "\n",
    "\n",
    "\n",
    "\n",
    "\n",
    "\n"
   ]
  },
  {
   "cell_type": "code",
   "execution_count": 21,
   "id": "084ced98",
   "metadata": {},
   "outputs": [
    {
     "name": "stdout",
     "output_type": "stream",
     "text": [
      "{'name': 'jdhjc', 1: 1000, (279, 67, 56): 'gshwg'}\n"
     ]
    },
    {
     "ename": "TypeError",
     "evalue": "unhashable type: 'list'",
     "output_type": "error",
     "traceback": [
      "\u001b[1;31m---------------------------------------------------------------------------\u001b[0m",
      "\u001b[1;31mTypeError\u001b[0m                                 Traceback (most recent call last)",
      "Cell \u001b[1;32mIn[21], line 8\u001b[0m\n\u001b[0;32m      3\u001b[0m dict2 \u001b[38;5;241m=\u001b[39m {\u001b[38;5;124m\"\u001b[39m\u001b[38;5;124mname\u001b[39m\u001b[38;5;124m\"\u001b[39m:\u001b[38;5;124m\"\u001b[39m\u001b[38;5;124mjdhjc\u001b[39m\u001b[38;5;124m\"\u001b[39m,\n\u001b[0;32m      4\u001b[0m \u001b[38;5;241m1\u001b[39m: \u001b[38;5;241m1000\u001b[39m,\n\u001b[0;32m      5\u001b[0m (\u001b[38;5;241m279\u001b[39m, \u001b[38;5;241m67\u001b[39m, \u001b[38;5;241m56\u001b[39m): \u001b[38;5;124m\"\u001b[39m\u001b[38;5;124mgshwg\u001b[39m\u001b[38;5;124m\"\u001b[39m}\n\u001b[0;32m      6\u001b[0m \u001b[38;5;28mprint\u001b[39m(dict2)\n\u001b[1;32m----> 8\u001b[0m dict2 \u001b[38;5;241m=\u001b[39m {\u001b[38;5;124m\"\u001b[39m\u001b[38;5;124mname\u001b[39m\u001b[38;5;124m\"\u001b[39m:\u001b[38;5;124m\"\u001b[39m\u001b[38;5;124mjdhjc\u001b[39m\u001b[38;5;124m\"\u001b[39m,\n\u001b[0;32m      9\u001b[0m \u001b[38;5;241m1\u001b[39m: \u001b[38;5;241m1000\u001b[39m,\n\u001b[0;32m     10\u001b[0m [\u001b[38;5;241m2\u001b[39m, \u001b[38;5;241m7\u001b[39m, \u001b[38;5;241m8\u001b[39m]: \u001b[38;5;124m\"\u001b[39m\u001b[38;5;124mgshwg\u001b[39m\u001b[38;5;124m\"\u001b[39m}\n\u001b[0;32m     11\u001b[0m \u001b[38;5;28mprint\u001b[39m(dict2)\n",
      "\u001b[1;31mTypeError\u001b[0m: unhashable type: 'list'"
     ]
    }
   ],
   "source": [
    "#Keys are immutable:\n",
    "\n",
    "dict2 = {\"name\":\"jdhjc\",\n",
    "1: 1000,\n",
    "(279, 67, 56): \"gshwg\"}\n",
    "print(dict2)\n",
    "\n",
    "dict2 = {\"name\":\"jdhjc\",\n",
    "1: 1000,\n",
    "[2, 7, 8]: \"gshwg\"}\n",
    "print(dict2)\n",
    "\n"
   ]
  },
  {
   "cell_type": "markdown",
   "id": "cc3e1084",
   "metadata": {},
   "source": [
    "# SETS:"
   ]
  },
  {
   "cell_type": "code",
   "execution_count": 4,
   "id": "05acca5b",
   "metadata": {},
   "outputs": [],
   "source": [
    "#Set\n",
    "#Hashable & Unhashable type\n",
    "#Set Operation"
   ]
  },
  {
   "cell_type": "code",
   "execution_count": 7,
   "id": "48424ec5",
   "metadata": {},
   "outputs": [
    {
     "ename": "TypeError",
     "evalue": "unhashable type: 'list'",
     "output_type": "error",
     "traceback": [
      "\u001b[1;31m---------------------------------------------------------------------------\u001b[0m",
      "\u001b[1;31mTypeError\u001b[0m                                 Traceback (most recent call last)",
      "Cell \u001b[1;32mIn[7], line 16\u001b[0m\n\u001b[0;32m     10\u001b[0m \u001b[38;5;124;03m'''Unhashable type : Any object which does not return a hash value and it only applicable for mutable object\u001b[39;00m\n\u001b[0;32m     11\u001b[0m \u001b[38;5;124;03m                (whose value can be changed)'''\u001b[39;00m\n\u001b[0;32m     14\u001b[0m \u001b[38;5;28mhash\u001b[39m(\u001b[38;5;124m\"\u001b[39m\u001b[38;5;124mpython\u001b[39m\u001b[38;5;124m\"\u001b[39m)\n\u001b[1;32m---> 16\u001b[0m \u001b[38;5;28;43mhash\u001b[39;49m\u001b[43m(\u001b[49m\u001b[43m[\u001b[49m\u001b[38;5;241;43m2\u001b[39;49m\u001b[43m,\u001b[49m\u001b[43m \u001b[49m\u001b[38;5;241;43m7\u001b[39;49m\u001b[43m,\u001b[49m\u001b[43m \u001b[49m\u001b[38;5;241;43m8\u001b[39;49m\u001b[43m \u001b[49m\u001b[43m,\u001b[49m\u001b[43m \u001b[49m\u001b[38;5;241;43m9\u001b[39;49m\u001b[43m]\u001b[49m\u001b[43m)\u001b[49m\n\u001b[0;32m     18\u001b[0m \u001b[38;5;28mhash\u001b[39m((\u001b[38;5;241m6\u001b[39m, \u001b[38;5;241m5\u001b[39m, \u001b[38;5;241m8\u001b[39m))\n",
      "\u001b[1;31mTypeError\u001b[0m: unhashable type: 'list'"
     ]
    }
   ],
   "source": [
    "'''Set - collection, iterable\n",
    "        Collection of unique elements and it is not a sequence\n",
    "        Immutable\n",
    "        {} separated by comma ,\n",
    "        {1, 3, 8, 3}'''\n",
    "\n",
    "'''Hashable type : Any object which returns a hash value and it only applicable for immutable object\n",
    "                (whose value cannot be changed)'''\n",
    "\n",
    "'''Unhashable type : Any object which does not return a hash value and it only applicable for mutable object\n",
    "                (whose value can be changed)'''\n",
    "        \n",
    "\n",
    "hash(\"python\")\n",
    "\n",
    "hash([2, 7, 8 , 9])\n",
    "\n",
    "hash((6, 5, 8))"
   ]
  },
  {
   "cell_type": "code",
   "execution_count": 9,
   "id": "bd0b800f",
   "metadata": {},
   "outputs": [
    {
     "name": "stdout",
     "output_type": "stream",
     "text": [
      "{2, 3, 5, 7, 8}\n"
     ]
    }
   ],
   "source": [
    "lst1 = [2, 7, 2, 5, 3, 3, 8, 8, 5]\n",
    "\n",
    "# lst2 = []\n",
    "\n",
    "# for i in lst1:\n",
    "#     if i not in lst2:\n",
    "#         lst2.append(i)\n",
    "        \n",
    "# print(lst2)\n",
    "\n",
    "print(set(lst1))\n",
    "\n"
   ]
  },
  {
   "cell_type": "code",
   "execution_count": 13,
   "id": "bcc2a47d",
   "metadata": {},
   "outputs": [
    {
     "name": "stdout",
     "output_type": "stream",
     "text": [
      "a\n",
      "100\n",
      "b\n",
      "fgg\n",
      "{'a', (100, 200, 300), 'b', 'fgg'}\n"
     ]
    },
    {
     "ename": "TypeError",
     "evalue": "unhashable type: 'list'",
     "output_type": "error",
     "traceback": [
      "\u001b[1;31m---------------------------------------------------------------------------\u001b[0m",
      "\u001b[1;31mTypeError\u001b[0m                                 Traceback (most recent call last)",
      "Cell \u001b[1;32mIn[13], line 9\u001b[0m\n\u001b[0;32m      6\u001b[0m my_set \u001b[38;5;241m=\u001b[39m {\u001b[38;5;124m'\u001b[39m\u001b[38;5;124ma\u001b[39m\u001b[38;5;124m'\u001b[39m, \u001b[38;5;124m'\u001b[39m\u001b[38;5;124mb\u001b[39m\u001b[38;5;124m'\u001b[39m, \u001b[38;5;124m'\u001b[39m\u001b[38;5;124mfgg\u001b[39m\u001b[38;5;124m'\u001b[39m, (\u001b[38;5;241m100\u001b[39m, \u001b[38;5;241m200\u001b[39m, \u001b[38;5;241m300\u001b[39m)}\n\u001b[0;32m      7\u001b[0m \u001b[38;5;28mprint\u001b[39m(my_set)\n\u001b[1;32m----> 9\u001b[0m my_set \u001b[38;5;241m=\u001b[39m {\u001b[38;5;124m'\u001b[39m\u001b[38;5;124ma\u001b[39m\u001b[38;5;124m'\u001b[39m, \u001b[38;5;124m'\u001b[39m\u001b[38;5;124mb\u001b[39m\u001b[38;5;124m'\u001b[39m, \u001b[38;5;124m'\u001b[39m\u001b[38;5;124mfgg\u001b[39m\u001b[38;5;124m'\u001b[39m, [\u001b[38;5;241m100\u001b[39m, \u001b[38;5;241m200\u001b[39m, \u001b[38;5;241m300\u001b[39m]}\n\u001b[0;32m     10\u001b[0m \u001b[38;5;28mprint\u001b[39m(my_set)\n",
      "\u001b[1;31mTypeError\u001b[0m: unhashable type: 'list'"
     ]
    }
   ],
   "source": [
    "my_set = {'a', 'b', 'fgg', 100}\n",
    "\n",
    "for i in my_set:\n",
    "    print(i)\n",
    "    \n",
    "my_set = {'a', 'b', 'fgg', (100, 200, 300)}\n",
    "print(my_set)\n",
    "\n",
    "my_set = {'a', 'b', 'fgg', [100, 200, 300]}\n",
    "print(my_set)\n",
    "\n",
    "\n"
   ]
  },
  {
   "cell_type": "code",
   "execution_count": 17,
   "id": "5bf353d2",
   "metadata": {},
   "outputs": [
    {
     "data": {
      "text/plain": [
       "{10, 20, 30}"
      ]
     },
     "execution_count": 17,
     "metadata": {},
     "output_type": "execute_result"
    }
   ],
   "source": [
    "#Typecasting:\n",
    "\n",
    "set([10, 20, 30])\n",
    "\n",
    "set((18, 28, 39, 45))\n",
    "\n",
    "set({10: 1100, 20:220, 30:228})"
   ]
  },
  {
   "cell_type": "code",
   "execution_count": 19,
   "id": "b357792d",
   "metadata": {},
   "outputs": [
    {
     "name": "stdout",
     "output_type": "stream",
     "text": [
      "enter a set:{2, 8, 3, 9}\n",
      "{8, 9, 2, 3} 1775466649120\n"
     ]
    }
   ],
   "source": [
    "#User Input as a set\n",
    "\n",
    "my_set = eval(input(\"enter a set:\"))\n",
    "print(my_set, id(my_set))\n",
    "\n",
    "\n"
   ]
  },
  {
   "cell_type": "code",
   "execution_count": 22,
   "id": "a081b852",
   "metadata": {},
   "outputs": [
    {
     "name": "stdout",
     "output_type": "stream",
     "text": [
      "['__and__', '__class__', '__class_getitem__', '__contains__', '__delattr__', '__dir__', '__doc__', '__eq__', '__format__', '__ge__', '__getattribute__', '__gt__', '__hash__', '__iand__', '__init__', '__init_subclass__', '__ior__', '__isub__', '__iter__', '__ixor__', '__le__', '__len__', '__lt__', '__ne__', '__new__', '__or__', '__rand__', '__reduce__', '__reduce_ex__', '__repr__', '__ror__', '__rsub__', '__rxor__', '__setattr__', '__sizeof__', '__str__', '__sub__', '__subclasshook__', '__xor__', 'add', 'clear', 'copy', 'difference', 'difference_update', 'discard', 'intersection', 'intersection_update', 'isdisjoint', 'issubset', 'issuperset', 'pop', 'remove', 'symmetric_difference', 'symmetric_difference_update', 'union', 'update']\n"
     ]
    }
   ],
   "source": [
    "print(dir(set))"
   ]
  },
  {
   "cell_type": "code",
   "execution_count": 24,
   "id": "97dd7952",
   "metadata": {},
   "outputs": [
    {
     "ename": "SyntaxError",
     "evalue": "unterminated string literal (detected at line 3) (2109004201.py, line 3)",
     "output_type": "error",
     "traceback": [
      "\u001b[1;36m  Cell \u001b[1;32mIn[24], line 3\u001b[1;36m\u001b[0m\n\u001b[1;33m    'union', 'update''''\u001b[0m\n\u001b[1;37m                       ^\u001b[0m\n\u001b[1;31mSyntaxError\u001b[0m\u001b[1;31m:\u001b[0m unterminated string literal (detected at line 3)\n"
     ]
    }
   ],
   "source": [
    "'''''add', 'clear', 'copy', 'difference', 'difference_update', 'discard', 'intersection', 'intersection_update', \n",
    "'isdisjoint', 'issubset', 'issuperset', 'pop', 'remove', 'symmetric_difference', 'symmetric_difference_update', \n",
    "'union', 'update''''"
   ]
  },
  {
   "cell_type": "code",
   "execution_count": null,
   "id": "940d9658",
   "metadata": {},
   "outputs": [],
   "source": [
    "''''''', '', '', '', '', '', '',\n",
    "'', '', '', '', '', '', \n",
    "'', 'update''''"
   ]
  },
  {
   "cell_type": "code",
   "execution_count": 32,
   "id": "b1b7c852",
   "metadata": {},
   "outputs": [
    {
     "name": "stdout",
     "output_type": "stream",
     "text": [
      "{2, 3, 7, 278, 90}\n",
      "{2, 3, 7, 278, 90}\n",
      "{2, 3, 7, 278, 'hdsjs', 90}\n",
      "{2, 3, 7, (2, 7, 3, 8), 278, 'hdsjs', 90}\n"
     ]
    }
   ],
   "source": [
    "#add\n",
    "\n",
    "my_set = {2, 7, 3, 90}\n",
    "\n",
    "my_set.add(278)\n",
    "print(my_set)\n",
    "\n",
    "my_set.add(7)\n",
    "print(my_set)\n",
    "\n",
    "my_set.add(\"hdsjs\")\n",
    "print(my_set)\n",
    "\n",
    "my_set.add((2, 7,  3, 8))\n",
    "print(my_set)\n"
   ]
  },
  {
   "cell_type": "code",
   "execution_count": 30,
   "id": "50c9b7f8",
   "metadata": {},
   "outputs": [],
   "source": [
    "#clear \n",
    "\n",
    "my_set.clear()\n"
   ]
  },
  {
   "cell_type": "code",
   "execution_count": 33,
   "id": "8bb2c96c",
   "metadata": {},
   "outputs": [
    {
     "name": "stdout",
     "output_type": "stream",
     "text": [
      "{2, 3, 7, (2, 7, 3, 8), 278, 'hdsjs', 90}\n"
     ]
    }
   ],
   "source": [
    "print(my_set)"
   ]
  },
  {
   "cell_type": "code",
   "execution_count": 36,
   "id": "1b8cdb0c",
   "metadata": {},
   "outputs": [
    {
     "name": "stdout",
     "output_type": "stream",
     "text": [
      "{2, 3, 'hdsjs', 278, 7, 90, (2, 7, 3, 8)} 1775466650016\n",
      "{2, 3, 7, (2, 7, 3, 8), 278, 'hdsjs', 90} 1775466651360\n"
     ]
    }
   ],
   "source": [
    "#copy\n",
    "\n",
    "new_set = my_set.copy()\n",
    "print(new_set,id(new_set))\n",
    "print(my_set, id(my_set))\n"
   ]
  },
  {
   "cell_type": "code",
   "execution_count": 57,
   "id": "f19e5854",
   "metadata": {},
   "outputs": [
    {
     "name": "stdout",
     "output_type": "stream",
     "text": [
      "set()\n",
      "{'hf', 8, 'chjj', 's'}\n",
      "{'hf', 8, 'chjj', 's'}\n"
     ]
    }
   ],
   "source": [
    "#pop - randomly pops out any element and also we cannot provide any arg\n",
    "\n",
    "my_set.pop()\n",
    "print(my_set)\n",
    "\n",
    "#remove\n",
    "\n",
    "# my_set.remove(278)\n",
    "# print(my_set)\n",
    "\n",
    "# my_set2.remove('p')\n",
    "# print(my_set2)\n",
    "\n",
    "#discard\n",
    "\n",
    "my_set2 = {'s', 'hf', 'chjj', 6, 8}\n",
    "\n",
    "my_set2.discard(6)\n",
    "print(my_set2)\n",
    "\n",
    "my_set2.discard('p')\n",
    "print(my_set2)\n"
   ]
  },
  {
   "cell_type": "code",
   "execution_count": 43,
   "id": "728f4533",
   "metadata": {},
   "outputs": [
    {
     "data": {
      "text/plain": [
       "{'100', 28828, 6, 8, 9, 'chjj', 'djsk', 'hf', 's'}"
      ]
     },
     "execution_count": 43,
     "metadata": {},
     "output_type": "execute_result"
    }
   ],
   "source": [
    "#Union \n",
    "\n",
    "my_set1 = {6, 8, 9}\n",
    "id(my_set1)\n",
    "my_set2 = {'s', 'hf', 'chjj'}\n",
    "my_set3 = {'100', 28828, \"djsk\"}\n",
    "\n",
    "#my_set1.union(my_set2).union(my_set3)\n",
    "\n",
    "my_set1.union(my_set2, my_set3)\n",
    "\n"
   ]
  },
  {
   "cell_type": "code",
   "execution_count": 47,
   "id": "a875386e",
   "metadata": {},
   "outputs": [
    {
     "name": "stdout",
     "output_type": "stream",
     "text": [
      "{8, 'hf', 6}\n",
      "{8, 9, 'hf', 6}\n",
      "{8, 'hf', 6}\n"
     ]
    }
   ],
   "source": [
    "#intersection - only display common elements.\n",
    "\n",
    "my_set1 = {6, 8, 9, 'hf'}\n",
    "\n",
    "my_set2 = {'s', 'hf', 'chjj', 6, 8}\n",
    "#my_set3 = {'100', 28828, \"djsk\"}\n",
    "\n",
    "\n",
    "print(my_set1.intersection(my_set2))\n",
    "print(my_set1)\n",
    "\n",
    "#intersection_update - it will update my set with the common elements.\n",
    "\n",
    "my_set1.intersection_update(my_set2)\n",
    "print(my_set1)"
   ]
  },
  {
   "cell_type": "code",
   "execution_count": 53,
   "id": "c1426d3a",
   "metadata": {},
   "outputs": [
    {
     "name": "stdout",
     "output_type": "stream",
     "text": [
      "{9}\n",
      "{8, 9, 'hf', 6}\n",
      "{9}\n",
      "{'hf', 6, 8, 'chjj', 's'}\n"
     ]
    }
   ],
   "source": [
    "#difference (my_set1-my_Set2)\n",
    "\n",
    "my_set1 = {6, 8, 9, 'hf'}\n",
    "\n",
    "my_set2 = {'s', 'hf', 'chjj', 6, 8}\n",
    "\n",
    "print(my_set1.difference(my_set2))\n",
    "\n",
    "print(my_set1)\n",
    "\n",
    "#difference_update\n",
    "\n",
    "my_set1.difference_update(my_set2)\n",
    "\n",
    "print(my_set1)\n",
    "\n",
    "print(my_set2)\n",
    "\n",
    "\n",
    "\n",
    "\n",
    "\n",
    "\n"
   ]
  },
  {
   "cell_type": "code",
   "execution_count": 61,
   "id": "3c54851f",
   "metadata": {},
   "outputs": [
    {
     "name": "stdout",
     "output_type": "stream",
     "text": [
      "True\n",
      "False\n",
      "True\n",
      "False\n"
     ]
    }
   ],
   "source": [
    "#Subset & Superset: returns true false\n",
    "\n",
    "my_set1 = {6, 8,'hf'}\n",
    "\n",
    "my_set2 = {'s', 'hf', 'chjj', 6, 8}\n",
    "\n",
    "print(my_set1.issubset(my_set2))\n",
    "print(my_set1.issuperset(my_set2))\n",
    "print(my_set2.issuperset(my_set1))\n",
    "print(my_set2.issubset(my_set1))"
   ]
  },
  {
   "cell_type": "code",
   "execution_count": 64,
   "id": "a348a1c3",
   "metadata": {},
   "outputs": [
    {
     "name": "stdout",
     "output_type": "stream",
     "text": [
      "{9, 'chjj', 's'}\n",
      "{9, 'chjj', 's'}\n"
     ]
    }
   ],
   "source": [
    "#symmetric_difference -eliminates common elements.\n",
    "\n",
    "#Symmetric_difference_update\n",
    "\n",
    "\n",
    "my_set1 = {6, 8, 9, 'hf'}\n",
    "\n",
    "my_set2 = {'s', 'hf', 'chjj', 6, 8}\n",
    "\n",
    "#help(my_set1.symmetric_difference(my_set2))\n",
    "\n",
    "print(my_set1.symmetric_difference(my_set2))\n",
    "\n",
    "(my_set1.symmetric_difference_update(my_set2))\n",
    "print(my_set1)\n",
    "\n"
   ]
  },
  {
   "cell_type": "code",
   "execution_count": 65,
   "id": "18fac620",
   "metadata": {},
   "outputs": [
    {
     "name": "stdout",
     "output_type": "stream",
     "text": [
      "False\n"
     ]
    }
   ],
   "source": [
    "#isdisjoint - If no common elements are present then return true else return false.\n",
    "\n",
    "my_set1 = {6, 8, 9, 'hf'}\n",
    "\n",
    "my_set2 = {'s', 'hf', 'chjj', 6, 8}\n",
    "\n",
    "print(my_set1.isdisjoint(my_set2))\n"
   ]
  },
  {
   "cell_type": "code",
   "execution_count": 71,
   "id": "503e9bc3",
   "metadata": {},
   "outputs": [
    {
     "name": "stdout",
     "output_type": "stream",
     "text": [
      "{6, 8, 9, 'chjj', 's', 'hf'}\n",
      "{3, 6, 7, 8, 9, 777, 'chjj', 's', 'hf'}\n"
     ]
    }
   ],
   "source": [
    "#update\n",
    "\n",
    "my_set1 = {6, 8, 9, 'hf'}\n",
    "\n",
    "my_set2 = {'s', 'hf', 'chjj', 6, 8}\n",
    "\n",
    "my_set3 = {7, 9, 3, 6, 777}\n",
    "\n",
    "(my_set1.update(my_set2))\n",
    "print(my_set1)\n",
    "\n",
    "my_set1.update(my_set2,my_set3)\n",
    "print(my_set1)"
   ]
  },
  {
   "cell_type": "markdown",
   "id": "d607d33f",
   "metadata": {},
   "source": [
    "# Assignments:"
   ]
  },
  {
   "cell_type": "code",
   "execution_count": null,
   "id": "62ba804c",
   "metadata": {},
   "outputs": [],
   "source": [
    "1.run the code below to generate a matrix\n",
    "    take an input character as target\n",
    "     print the row index and column index if the character is found\n",
    "     Else \n",
    "    print \"Not found\"\n",
    "     \n",
    "        Input\n",
    "    Enter Target character : h\n",
    "     Output\n",
    "    2 4\n",
    "    table = [list(\"abcd\"),list(\"efgh\"),list(\"ijkl\")] - (2 mark)\n",
    "    \n",
    "2.Give a list of weight and value pairs for items and a bag with capacity.\n",
    "    Approach:\n",
    "    Calculate the maximum item value that can be carried in the bag.\n",
    "    Note - Items can be carried in parts/fraction.\n",
    "    Input\n",
    "    ==========\n",
    "    Items as (value, weight) pairs\n",
    "    Items = [(60, 10), (100, 20), (120, 30))\n",
    "    capacity = 50;\n",
    "    Output\n",
    "    ======\n",
    "    240 -(2 marks)\n",
    "\n",
    "3. Take a sentence and output a dictionary \n",
    "     with word as the key and number of characters in the word as value\n",
    "     Use dictioary  (1 mark)"
   ]
  }
 ],
 "metadata": {
  "kernelspec": {
   "display_name": "Python 3 (ipykernel)",
   "language": "python",
   "name": "python3"
  },
  "language_info": {
   "codemirror_mode": {
    "name": "ipython",
    "version": 3
   },
   "file_extension": ".py",
   "mimetype": "text/x-python",
   "name": "python",
   "nbconvert_exporter": "python",
   "pygments_lexer": "ipython3",
   "version": "3.10.9"
  }
 },
 "nbformat": 4,
 "nbformat_minor": 5
}
