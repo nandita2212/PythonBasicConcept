{
 "cells": [
  {
   "cell_type": "code",
   "execution_count": 1,
   "id": "67c63542",
   "metadata": {},
   "outputs": [],
   "source": [
    "# class A\n",
    "# class HumanBeing\n",
    "# class ClassName"
   ]
  },
  {
   "cell_type": "code",
   "execution_count": 2,
   "id": "b09cd4d8",
   "metadata": {},
   "outputs": [],
   "source": [
    "class Human:\n",
    "    pass"
   ]
  },
  {
   "cell_type": "code",
   "execution_count": 3,
   "id": "e2c49ac6",
   "metadata": {},
   "outputs": [],
   "source": [
    "#Objects - Instance of class"
   ]
  },
  {
   "cell_type": "code",
   "execution_count": 4,
   "id": "497a8e49",
   "metadata": {},
   "outputs": [],
   "source": [
    "human1 = Human() #for creating object object_name = ClassName()"
   ]
  },
  {
   "cell_type": "code",
   "execution_count": 5,
   "id": "1cf11284",
   "metadata": {},
   "outputs": [
    {
     "name": "stdout",
     "output_type": "stream",
     "text": [
      "<class '__main__.Human'>\n"
     ]
    }
   ],
   "source": [
    "print(type(human1))"
   ]
  },
  {
   "cell_type": "code",
   "execution_count": 6,
   "id": "7ef1c7ac",
   "metadata": {},
   "outputs": [],
   "source": [
    "num1 =10"
   ]
  },
  {
   "cell_type": "code",
   "execution_count": 7,
   "id": "511617cc",
   "metadata": {},
   "outputs": [
    {
     "name": "stdout",
     "output_type": "stream",
     "text": [
      "<class 'int'>\n"
     ]
    }
   ],
   "source": [
    "print(type(num1))"
   ]
  },
  {
   "cell_type": "code",
   "execution_count": 8,
   "id": "8362e682",
   "metadata": {},
   "outputs": [
    {
     "name": "stdout",
     "output_type": "stream",
     "text": [
      "Help on class int in module builtins:\n",
      "\n",
      "class int(object)\n",
      " |  int([x]) -> integer\n",
      " |  int(x, base=10) -> integer\n",
      " |  \n",
      " |  Convert a number or string to an integer, or return 0 if no arguments\n",
      " |  are given.  If x is a number, return x.__int__().  For floating point\n",
      " |  numbers, this truncates towards zero.\n",
      " |  \n",
      " |  If x is not a number or if base is given, then x must be a string,\n",
      " |  bytes, or bytearray instance representing an integer literal in the\n",
      " |  given base.  The literal can be preceded by '+' or '-' and be surrounded\n",
      " |  by whitespace.  The base defaults to 10.  Valid bases are 0 and 2-36.\n",
      " |  Base 0 means to interpret the base from the string as an integer literal.\n",
      " |  >>> int('0b100', base=0)\n",
      " |  4\n",
      " |  \n",
      " |  Built-in subclasses:\n",
      " |      bool\n",
      " |  \n",
      " |  Methods defined here:\n",
      " |  \n",
      " |  __abs__(self, /)\n",
      " |      abs(self)\n",
      " |  \n",
      " |  __add__(self, value, /)\n",
      " |      Return self+value.\n",
      " |  \n",
      " |  __and__(self, value, /)\n",
      " |      Return self&value.\n",
      " |  \n",
      " |  __bool__(self, /)\n",
      " |      True if self else False\n",
      " |  \n",
      " |  __ceil__(...)\n",
      " |      Ceiling of an Integral returns itself.\n",
      " |  \n",
      " |  __divmod__(self, value, /)\n",
      " |      Return divmod(self, value).\n",
      " |  \n",
      " |  __eq__(self, value, /)\n",
      " |      Return self==value.\n",
      " |  \n",
      " |  __float__(self, /)\n",
      " |      float(self)\n",
      " |  \n",
      " |  __floor__(...)\n",
      " |      Flooring an Integral returns itself.\n",
      " |  \n",
      " |  __floordiv__(self, value, /)\n",
      " |      Return self//value.\n",
      " |  \n",
      " |  __format__(self, format_spec, /)\n",
      " |      Default object formatter.\n",
      " |  \n",
      " |  __ge__(self, value, /)\n",
      " |      Return self>=value.\n",
      " |  \n",
      " |  __getattribute__(self, name, /)\n",
      " |      Return getattr(self, name).\n",
      " |  \n",
      " |  __getnewargs__(self, /)\n",
      " |  \n",
      " |  __gt__(self, value, /)\n",
      " |      Return self>value.\n",
      " |  \n",
      " |  __hash__(self, /)\n",
      " |      Return hash(self).\n",
      " |  \n",
      " |  __index__(self, /)\n",
      " |      Return self converted to an integer, if self is suitable for use as an index into a list.\n",
      " |  \n",
      " |  __int__(self, /)\n",
      " |      int(self)\n",
      " |  \n",
      " |  __invert__(self, /)\n",
      " |      ~self\n",
      " |  \n",
      " |  __le__(self, value, /)\n",
      " |      Return self<=value.\n",
      " |  \n",
      " |  __lshift__(self, value, /)\n",
      " |      Return self<<value.\n",
      " |  \n",
      " |  __lt__(self, value, /)\n",
      " |      Return self<value.\n",
      " |  \n",
      " |  __mod__(self, value, /)\n",
      " |      Return self%value.\n",
      " |  \n",
      " |  __mul__(self, value, /)\n",
      " |      Return self*value.\n",
      " |  \n",
      " |  __ne__(self, value, /)\n",
      " |      Return self!=value.\n",
      " |  \n",
      " |  __neg__(self, /)\n",
      " |      -self\n",
      " |  \n",
      " |  __or__(self, value, /)\n",
      " |      Return self|value.\n",
      " |  \n",
      " |  __pos__(self, /)\n",
      " |      +self\n",
      " |  \n",
      " |  __pow__(self, value, mod=None, /)\n",
      " |      Return pow(self, value, mod).\n",
      " |  \n",
      " |  __radd__(self, value, /)\n",
      " |      Return value+self.\n",
      " |  \n",
      " |  __rand__(self, value, /)\n",
      " |      Return value&self.\n",
      " |  \n",
      " |  __rdivmod__(self, value, /)\n",
      " |      Return divmod(value, self).\n",
      " |  \n",
      " |  __repr__(self, /)\n",
      " |      Return repr(self).\n",
      " |  \n",
      " |  __rfloordiv__(self, value, /)\n",
      " |      Return value//self.\n",
      " |  \n",
      " |  __rlshift__(self, value, /)\n",
      " |      Return value<<self.\n",
      " |  \n",
      " |  __rmod__(self, value, /)\n",
      " |      Return value%self.\n",
      " |  \n",
      " |  __rmul__(self, value, /)\n",
      " |      Return value*self.\n",
      " |  \n",
      " |  __ror__(self, value, /)\n",
      " |      Return value|self.\n",
      " |  \n",
      " |  __round__(...)\n",
      " |      Rounding an Integral returns itself.\n",
      " |      \n",
      " |      Rounding with an ndigits argument also returns an integer.\n",
      " |  \n",
      " |  __rpow__(self, value, mod=None, /)\n",
      " |      Return pow(value, self, mod).\n",
      " |  \n",
      " |  __rrshift__(self, value, /)\n",
      " |      Return value>>self.\n",
      " |  \n",
      " |  __rshift__(self, value, /)\n",
      " |      Return self>>value.\n",
      " |  \n",
      " |  __rsub__(self, value, /)\n",
      " |      Return value-self.\n",
      " |  \n",
      " |  __rtruediv__(self, value, /)\n",
      " |      Return value/self.\n",
      " |  \n",
      " |  __rxor__(self, value, /)\n",
      " |      Return value^self.\n",
      " |  \n",
      " |  __sizeof__(self, /)\n",
      " |      Returns size in memory, in bytes.\n",
      " |  \n",
      " |  __sub__(self, value, /)\n",
      " |      Return self-value.\n",
      " |  \n",
      " |  __truediv__(self, value, /)\n",
      " |      Return self/value.\n",
      " |  \n",
      " |  __trunc__(...)\n",
      " |      Truncating an Integral returns itself.\n",
      " |  \n",
      " |  __xor__(self, value, /)\n",
      " |      Return self^value.\n",
      " |  \n",
      " |  as_integer_ratio(self, /)\n",
      " |      Return integer ratio.\n",
      " |      \n",
      " |      Return a pair of integers, whose ratio is exactly equal to the original int\n",
      " |      and with a positive denominator.\n",
      " |      \n",
      " |      >>> (10).as_integer_ratio()\n",
      " |      (10, 1)\n",
      " |      >>> (-10).as_integer_ratio()\n",
      " |      (-10, 1)\n",
      " |      >>> (0).as_integer_ratio()\n",
      " |      (0, 1)\n",
      " |  \n",
      " |  bit_count(self, /)\n",
      " |      Number of ones in the binary representation of the absolute value of self.\n",
      " |      \n",
      " |      Also known as the population count.\n",
      " |      \n",
      " |      >>> bin(13)\n",
      " |      '0b1101'\n",
      " |      >>> (13).bit_count()\n",
      " |      3\n",
      " |  \n",
      " |  bit_length(self, /)\n",
      " |      Number of bits necessary to represent self in binary.\n",
      " |      \n",
      " |      >>> bin(37)\n",
      " |      '0b100101'\n",
      " |      >>> (37).bit_length()\n",
      " |      6\n",
      " |  \n",
      " |  conjugate(...)\n",
      " |      Returns self, the complex conjugate of any int.\n",
      " |  \n",
      " |  to_bytes(self, /, length, byteorder, *, signed=False)\n",
      " |      Return an array of bytes representing an integer.\n",
      " |      \n",
      " |      length\n",
      " |        Length of bytes object to use.  An OverflowError is raised if the\n",
      " |        integer is not representable with the given number of bytes.\n",
      " |      byteorder\n",
      " |        The byte order used to represent the integer.  If byteorder is 'big',\n",
      " |        the most significant byte is at the beginning of the byte array.  If\n",
      " |        byteorder is 'little', the most significant byte is at the end of the\n",
      " |        byte array.  To request the native byte order of the host system, use\n",
      " |        `sys.byteorder' as the byte order value.\n",
      " |      signed\n",
      " |        Determines whether two's complement is used to represent the integer.\n",
      " |        If signed is False and a negative integer is given, an OverflowError\n",
      " |        is raised.\n",
      " |  \n",
      " |  ----------------------------------------------------------------------\n",
      " |  Class methods defined here:\n",
      " |  \n",
      " |  from_bytes(bytes, byteorder, *, signed=False) from builtins.type\n",
      " |      Return the integer represented by the given array of bytes.\n",
      " |      \n",
      " |      bytes\n",
      " |        Holds the array of bytes to convert.  The argument must either\n",
      " |        support the buffer protocol or be an iterable object producing bytes.\n",
      " |        Bytes and bytearray are examples of built-in objects that support the\n",
      " |        buffer protocol.\n",
      " |      byteorder\n",
      " |        The byte order used to represent the integer.  If byteorder is 'big',\n",
      " |        the most significant byte is at the beginning of the byte array.  If\n",
      " |        byteorder is 'little', the most significant byte is at the end of the\n",
      " |        byte array.  To request the native byte order of the host system, use\n",
      " |        `sys.byteorder' as the byte order value.\n",
      " |      signed\n",
      " |        Indicates whether two's complement is used to represent the integer.\n",
      " |  \n",
      " |  ----------------------------------------------------------------------\n",
      " |  Static methods defined here:\n",
      " |  \n",
      " |  __new__(*args, **kwargs) from builtins.type\n",
      " |      Create and return a new object.  See help(type) for accurate signature.\n",
      " |  \n",
      " |  ----------------------------------------------------------------------\n",
      " |  Data descriptors defined here:\n",
      " |  \n",
      " |  denominator\n",
      " |      the denominator of a rational number in lowest terms\n",
      " |  \n",
      " |  imag\n",
      " |      the imaginary part of a complex number\n",
      " |  \n",
      " |  numerator\n",
      " |      the numerator of a rational number in lowest terms\n",
      " |  \n",
      " |  real\n",
      " |      the real part of a complex number\n",
      "\n"
     ]
    }
   ],
   "source": [
    "help(int)"
   ]
  },
  {
   "cell_type": "code",
   "execution_count": 9,
   "id": "efc5b6cd",
   "metadata": {},
   "outputs": [],
   "source": [
    "num2 = int(20)"
   ]
  },
  {
   "cell_type": "code",
   "execution_count": 10,
   "id": "c601563d",
   "metadata": {},
   "outputs": [
    {
     "name": "stdout",
     "output_type": "stream",
     "text": [
      "<class 'int'>\n"
     ]
    }
   ],
   "source": [
    "print(type(num2))"
   ]
  },
  {
   "cell_type": "code",
   "execution_count": 11,
   "id": "a2adc937",
   "metadata": {},
   "outputs": [],
   "source": [
    "human2 = Human()"
   ]
  },
  {
   "cell_type": "code",
   "execution_count": 12,
   "id": "399d1f9f",
   "metadata": {},
   "outputs": [
    {
     "data": {
      "text/plain": [
       "1761702148176"
      ]
     },
     "execution_count": 12,
     "metadata": {},
     "output_type": "execute_result"
    }
   ],
   "source": [
    "id(human1)"
   ]
  },
  {
   "cell_type": "code",
   "execution_count": 13,
   "id": "0fa5bb25",
   "metadata": {},
   "outputs": [
    {
     "data": {
      "text/plain": [
       "1761702944368"
      ]
     },
     "execution_count": 13,
     "metadata": {},
     "output_type": "execute_result"
    }
   ],
   "source": [
    "id(human2)"
   ]
  },
  {
   "cell_type": "code",
   "execution_count": 14,
   "id": "29734bc1",
   "metadata": {},
   "outputs": [],
   "source": [
    "class Employee:\n",
    "    '''This is an Employee class\n",
    "    Employee docstring'''\n",
    "    pass"
   ]
  },
  {
   "cell_type": "code",
   "execution_count": 15,
   "id": "d9bcbf80",
   "metadata": {},
   "outputs": [
    {
     "data": {
      "text/plain": [
       "mappingproxy({'__module__': '__main__',\n",
       "              '__doc__': 'This is an Employee class\\n    Employee docstring',\n",
       "              '__dict__': <attribute '__dict__' of 'Employee' objects>,\n",
       "              '__weakref__': <attribute '__weakref__' of 'Employee' objects>})"
      ]
     },
     "execution_count": 15,
     "metadata": {},
     "output_type": "execute_result"
    }
   ],
   "source": [
    "Employee.__dict__"
   ]
  },
  {
   "cell_type": "code",
   "execution_count": 16,
   "id": "33071d00",
   "metadata": {},
   "outputs": [
    {
     "name": "stdout",
     "output_type": "stream",
     "text": [
      "This is an Employee class\n",
      "    Employee docstring\n"
     ]
    }
   ],
   "source": [
    "print(Employee.__doc__)"
   ]
  },
  {
   "cell_type": "code",
   "execution_count": 21,
   "id": "49ac71b1",
   "metadata": {},
   "outputs": [],
   "source": [
    "emp1 = Employee()"
   ]
  },
  {
   "cell_type": "code",
   "execution_count": 22,
   "id": "ca5ac61d",
   "metadata": {},
   "outputs": [
    {
     "data": {
      "text/plain": [
       "{}"
      ]
     },
     "execution_count": 22,
     "metadata": {},
     "output_type": "execute_result"
    }
   ],
   "source": [
    "emp1.__dict__"
   ]
  },
  {
   "cell_type": "code",
   "execution_count": 23,
   "id": "93a3a671",
   "metadata": {},
   "outputs": [],
   "source": [
    "emp1.name = 'john'  \n",
    "\n",
    "#emp1 : object of my class i.e. Employee\n",
    "#name : attribute of an object\n",
    "#'john': value of the attribute."
   ]
  },
  {
   "cell_type": "code",
   "execution_count": 25,
   "id": "58a7a105",
   "metadata": {},
   "outputs": [],
   "source": [
    "#Instance method - method defined in a class and called by using the objects of that class."
   ]
  },
  {
   "cell_type": "code",
   "execution_count": 26,
   "id": "a62be9c7",
   "metadata": {},
   "outputs": [],
   "source": [
    "class Employee:\n",
    "    def working():\n",
    "        hours = 8\n",
    "        return hours"
   ]
  },
  {
   "cell_type": "code",
   "execution_count": 27,
   "id": "6abcace2",
   "metadata": {},
   "outputs": [],
   "source": [
    "def fun1():\n",
    "    a=100\n",
    "    return a"
   ]
  },
  {
   "cell_type": "code",
   "execution_count": 28,
   "id": "74bbdc8f",
   "metadata": {},
   "outputs": [
    {
     "data": {
      "text/plain": [
       "100"
      ]
     },
     "execution_count": 28,
     "metadata": {},
     "output_type": "execute_result"
    }
   ],
   "source": [
    "fun1()"
   ]
  },
  {
   "cell_type": "code",
   "execution_count": 42,
   "id": "037555a7",
   "metadata": {},
   "outputs": [
    {
     "data": {
      "text/plain": [
       "<function __main__.fun1()>"
      ]
     },
     "execution_count": 42,
     "metadata": {},
     "output_type": "execute_result"
    }
   ],
   "source": [
    "fun1"
   ]
  },
  {
   "cell_type": "code",
   "execution_count": 38,
   "id": "93162a20",
   "metadata": {},
   "outputs": [],
   "source": [
    "emp1 = Employee()"
   ]
  },
  {
   "cell_type": "code",
   "execution_count": 39,
   "id": "7059d82a",
   "metadata": {},
   "outputs": [
    {
     "data": {
      "text/plain": [
       "8"
      ]
     },
     "execution_count": 39,
     "metadata": {},
     "output_type": "execute_result"
    }
   ],
   "source": [
    "emp1.working()"
   ]
  },
  {
   "cell_type": "code",
   "execution_count": 31,
   "id": "cf0635de",
   "metadata": {},
   "outputs": [],
   "source": [
    "#Employee.working(emp1)"
   ]
  },
  {
   "cell_type": "code",
   "execution_count": 40,
   "id": "c067028c",
   "metadata": {},
   "outputs": [],
   "source": [
    "emp2 = Employee()"
   ]
  },
  {
   "cell_type": "code",
   "execution_count": 33,
   "id": "4dda422d",
   "metadata": {},
   "outputs": [
    {
     "ename": "TypeError",
     "evalue": "Employee.working() takes 0 positional arguments but 1 was given",
     "output_type": "error",
     "traceback": [
      "\u001b[1;31m---------------------------------------------------------------------------\u001b[0m",
      "\u001b[1;31mTypeError\u001b[0m                                 Traceback (most recent call last)",
      "Cell \u001b[1;32mIn[33], line 1\u001b[0m\n\u001b[1;32m----> 1\u001b[0m \u001b[43memp2\u001b[49m\u001b[38;5;241;43m.\u001b[39;49m\u001b[43mworking\u001b[49m\u001b[43m(\u001b[49m\u001b[43m)\u001b[49m\n",
      "\u001b[1;31mTypeError\u001b[0m: Employee.working() takes 0 positional arguments but 1 was given"
     ]
    }
   ],
   "source": [
    "emp2.working()"
   ]
  },
  {
   "cell_type": "code",
   "execution_count": 34,
   "id": "605b3e70",
   "metadata": {},
   "outputs": [],
   "source": [
    "#Employee.working(emp2)"
   ]
  },
  {
   "cell_type": "code",
   "execution_count": 35,
   "id": "ac398fb5",
   "metadata": {},
   "outputs": [],
   "source": [
    "class Employee:\n",
    "    def working(self): # standardized variable provided by python for instance method\n",
    "        hours = 8\n",
    "        return hours"
   ]
  },
  {
   "cell_type": "code",
   "execution_count": 41,
   "id": "c5f63891",
   "metadata": {},
   "outputs": [
    {
     "data": {
      "text/plain": [
       "8"
      ]
     },
     "execution_count": 41,
     "metadata": {},
     "output_type": "execute_result"
    }
   ],
   "source": [
    "emp2.working()"
   ]
  },
  {
   "cell_type": "code",
   "execution_count": 43,
   "id": "019b37a2",
   "metadata": {},
   "outputs": [],
   "source": [
    " emp1.name= 'Henry' # created an attribute using object name."
   ]
  },
  {
   "cell_type": "code",
   "execution_count": 44,
   "id": "17889351",
   "metadata": {},
   "outputs": [
    {
     "name": "stdout",
     "output_type": "stream",
     "text": [
      "Henry\n"
     ]
    }
   ],
   "source": [
    "print(emp1.name)"
   ]
  },
  {
   "cell_type": "code",
   "execution_count": 46,
   "id": "52df8ea8",
   "metadata": {},
   "outputs": [
    {
     "data": {
      "text/plain": [
       "{'name': 'Henry'}"
      ]
     },
     "execution_count": 46,
     "metadata": {},
     "output_type": "execute_result"
    }
   ],
   "source": [
    "emp1.__dict__"
   ]
  },
  {
   "cell_type": "code",
   "execution_count": 47,
   "id": "92e3872a",
   "metadata": {},
   "outputs": [
    {
     "data": {
      "text/plain": [
       "{}"
      ]
     },
     "execution_count": 47,
     "metadata": {},
     "output_type": "execute_result"
    }
   ],
   "source": [
    "emp2.__dict__"
   ]
  },
  {
   "cell_type": "code",
   "execution_count": 51,
   "id": "8076ebc4",
   "metadata": {},
   "outputs": [],
   "source": [
    "class Employee:\n",
    "    def working(self):\n",
    "        hours = 8\n",
    "        return hours\n",
    "    \n",
    "\n",
    "    def details(name, emp_id): #instance method\n",
    "        return f'Emp name is {name} and id is {emp_id}'"
   ]
  },
  {
   "cell_type": "code",
   "execution_count": 54,
   "id": "f44903a0",
   "metadata": {},
   "outputs": [],
   "source": [
    "emp3 = Employee()"
   ]
  },
  {
   "cell_type": "code",
   "execution_count": 55,
   "id": "4961c20c",
   "metadata": {},
   "outputs": [
    {
     "ename": "TypeError",
     "evalue": "Employee.details() takes 2 positional arguments but 3 were given",
     "output_type": "error",
     "traceback": [
      "\u001b[1;31m---------------------------------------------------------------------------\u001b[0m",
      "\u001b[1;31mTypeError\u001b[0m                                 Traceback (most recent call last)",
      "Cell \u001b[1;32mIn[55], line 1\u001b[0m\n\u001b[1;32m----> 1\u001b[0m \u001b[43memp3\u001b[49m\u001b[38;5;241;43m.\u001b[39;49m\u001b[43mdetails\u001b[49m\u001b[43m(\u001b[49m\u001b[38;5;124;43m'\u001b[39;49m\u001b[38;5;124;43mmerry\u001b[39;49m\u001b[38;5;124;43m'\u001b[39;49m\u001b[43m,\u001b[49m\u001b[43m \u001b[49m\u001b[38;5;241;43m101\u001b[39;49m\u001b[43m)\u001b[49m\n",
      "\u001b[1;31mTypeError\u001b[0m: Employee.details() takes 2 positional arguments but 3 were given"
     ]
    }
   ],
   "source": [
    "emp3.details('merry', 101)"
   ]
  },
  {
   "cell_type": "code",
   "execution_count": 56,
   "id": "9a6500fb",
   "metadata": {},
   "outputs": [],
   "source": [
    "#emp3.details('emp3','merry', 101)"
   ]
  },
  {
   "cell_type": "code",
   "execution_count": 57,
   "id": "8084dffd",
   "metadata": {},
   "outputs": [],
   "source": [
    "class Employee:\n",
    "    def working(self):\n",
    "        hours = 8\n",
    "        return hours\n",
    "    \n",
    "\n",
    "    def details(self, name, emp_id): #instance method\n",
    "        return f'Emp name is {name} and id is {emp_id}'"
   ]
  },
  {
   "cell_type": "code",
   "execution_count": 58,
   "id": "76ad4eb5",
   "metadata": {},
   "outputs": [],
   "source": [
    "emp3 = Employee()"
   ]
  },
  {
   "cell_type": "code",
   "execution_count": 59,
   "id": "73be738f",
   "metadata": {},
   "outputs": [
    {
     "data": {
      "text/plain": [
       "'Emp name is merry and id is 101'"
      ]
     },
     "execution_count": 59,
     "metadata": {},
     "output_type": "execute_result"
    }
   ],
   "source": [
    "emp3.details('merry', 101)"
   ]
  },
  {
   "cell_type": "code",
   "execution_count": 60,
   "id": "b9d63034",
   "metadata": {},
   "outputs": [
    {
     "data": {
      "text/plain": [
       "'Emp name is jill and id is 103'"
      ]
     },
     "execution_count": 60,
     "metadata": {},
     "output_type": "execute_result"
    }
   ],
   "source": [
    "emp3.details('jill', 103)"
   ]
  },
  {
   "cell_type": "code",
   "execution_count": 61,
   "id": "fc1856a4",
   "metadata": {},
   "outputs": [
    {
     "data": {
      "text/plain": [
       "'Emp name is sonumonu and id is 107'"
      ]
     },
     "execution_count": 61,
     "metadata": {},
     "output_type": "execute_result"
    }
   ],
   "source": [
    "emp3.details('sonumonu', 107)"
   ]
  },
  {
   "cell_type": "code",
   "execution_count": 62,
   "id": "d0a9b508",
   "metadata": {},
   "outputs": [],
   "source": [
    "#Initializer/Constructor\n",
    "#Instance method - used to initialize an object of a class.\n",
    "#__init__()"
   ]
  },
  {
   "cell_type": "code",
   "execution_count": 63,
   "id": "f80e162f",
   "metadata": {},
   "outputs": [],
   "source": [
    "num1 = 10 \n"
   ]
  },
  {
   "cell_type": "code",
   "execution_count": 70,
   "id": "76d994bc",
   "metadata": {},
   "outputs": [
    {
     "name": "stdout",
     "output_type": "stream",
     "text": [
      "<class 'int'>\n"
     ]
    }
   ],
   "source": [
    "print(type(num1))"
   ]
  },
  {
   "cell_type": "code",
   "execution_count": 67,
   "id": "1064bb36",
   "metadata": {},
   "outputs": [],
   "source": [
    "num2 = int(10)"
   ]
  },
  {
   "cell_type": "code",
   "execution_count": 75,
   "id": "42817edb",
   "metadata": {},
   "outputs": [
    {
     "name": "stdout",
     "output_type": "stream",
     "text": [
      "10\n"
     ]
    }
   ],
   "source": [
    "print(num2)"
   ]
  },
  {
   "cell_type": "code",
   "execution_count": null,
   "id": "b9b98dac",
   "metadata": {},
   "outputs": [],
   "source": [
    "#10.__init()__"
   ]
  },
  {
   "cell_type": "code",
   "execution_count": 68,
   "id": "9203ddf5",
   "metadata": {},
   "outputs": [
    {
     "data": {
      "text/plain": [
       "int"
      ]
     },
     "execution_count": 68,
     "metadata": {},
     "output_type": "execute_result"
    }
   ],
   "source": [
    "type(num2)"
   ]
  },
  {
   "cell_type": "code",
   "execution_count": 72,
   "id": "7b162f94",
   "metadata": {},
   "outputs": [],
   "source": [
    "num3 = int()"
   ]
  },
  {
   "cell_type": "code",
   "execution_count": 71,
   "id": "8be632de",
   "metadata": {},
   "outputs": [
    {
     "name": "stdout",
     "output_type": "stream",
     "text": [
      "<class 'int'>\n"
     ]
    }
   ],
   "source": [
    "print(type(num3))"
   ]
  },
  {
   "cell_type": "code",
   "execution_count": 73,
   "id": "d7e538e3",
   "metadata": {},
   "outputs": [
    {
     "name": "stdout",
     "output_type": "stream",
     "text": [
      "0\n"
     ]
    }
   ],
   "source": [
    "print(num3)"
   ]
  },
  {
   "cell_type": "code",
   "execution_count": 76,
   "id": "e6e75527",
   "metadata": {},
   "outputs": [],
   "source": [
    "#help(int)"
   ]
  },
  {
   "cell_type": "code",
   "execution_count": 77,
   "id": "a665d1c0",
   "metadata": {},
   "outputs": [],
   "source": [
    "class Employee:\n",
    "    def __init__(self, name, emp_id, salary): #constructor\n",
    "        self.name=name #declare a constructor variable self.name\n",
    "        self.emp_id=emp_id\n",
    "        self.sal=salary\n",
    "        "
   ]
  },
  {
   "cell_type": "code",
   "execution_count": 78,
   "id": "c3275ca4",
   "metadata": {
    "scrolled": true
   },
   "outputs": [
    {
     "ename": "TypeError",
     "evalue": "Employee.__init__() missing 3 required positional arguments: 'name', 'emp_id', and 'salary'",
     "output_type": "error",
     "traceback": [
      "\u001b[1;31m---------------------------------------------------------------------------\u001b[0m",
      "\u001b[1;31mTypeError\u001b[0m                                 Traceback (most recent call last)",
      "Cell \u001b[1;32mIn[78], line 1\u001b[0m\n\u001b[1;32m----> 1\u001b[0m emp1 \u001b[38;5;241m=\u001b[39m \u001b[43mEmployee\u001b[49m\u001b[43m(\u001b[49m\u001b[43m)\u001b[49m\n",
      "\u001b[1;31mTypeError\u001b[0m: Employee.__init__() missing 3 required positional arguments: 'name', 'emp_id', and 'salary'"
     ]
    }
   ],
   "source": [
    "emp1 = Employee()"
   ]
  },
  {
   "cell_type": "code",
   "execution_count": 79,
   "id": "b4404d0f",
   "metadata": {},
   "outputs": [],
   "source": [
    "emp1 = Employee('harry',1011, 300000)"
   ]
  },
  {
   "cell_type": "markdown",
   "id": "7c1138bf",
   "metadata": {},
   "source": [
    "#__init__ = it is a constructor means whenever a object created, \n",
    "\n",
    "this __init__ function will imidiately called. \n",
    "\n",
    "If any parameters are present in __init__ function,\n",
    "\n",
    "then have to pass arguments while creating object.\n"
   ]
  },
  {
   "cell_type": "code",
   "execution_count": 80,
   "id": "09b9dfc3",
   "metadata": {},
   "outputs": [
    {
     "data": {
      "text/plain": [
       "{'name': 'harry', 'emp_id': 1011, 'sal': 300000}"
      ]
     },
     "execution_count": 80,
     "metadata": {},
     "output_type": "execute_result"
    }
   ],
   "source": [
    "emp1.__dict__"
   ]
  },
  {
   "cell_type": "code",
   "execution_count": 81,
   "id": "52796e01",
   "metadata": {},
   "outputs": [],
   "source": [
    "emp2= Employee('charade',2011, 500000)"
   ]
  },
  {
   "cell_type": "code",
   "execution_count": 82,
   "id": "43a347cd",
   "metadata": {},
   "outputs": [
    {
     "data": {
      "text/plain": [
       "{'name': 'charade', 'emp_id': 2011, 'sal': 500000}"
      ]
     },
     "execution_count": 82,
     "metadata": {},
     "output_type": "execute_result"
    }
   ],
   "source": [
    "emp2.__dict__"
   ]
  },
  {
   "cell_type": "code",
   "execution_count": 83,
   "id": "742b7bb5",
   "metadata": {},
   "outputs": [
    {
     "data": {
      "text/plain": [
       "mappingproxy({'__module__': '__main__',\n",
       "              '__init__': <function __main__.Employee.__init__(self, name, emp_id, salary)>,\n",
       "              '__dict__': <attribute '__dict__' of 'Employee' objects>,\n",
       "              '__weakref__': <attribute '__weakref__' of 'Employee' objects>,\n",
       "              '__doc__': None})"
      ]
     },
     "execution_count": 83,
     "metadata": {},
     "output_type": "execute_result"
    }
   ],
   "source": [
    "Employee.__dict__"
   ]
  },
  {
   "cell_type": "code",
   "execution_count": 84,
   "id": "e8a16522",
   "metadata": {},
   "outputs": [
    {
     "name": "stdout",
     "output_type": "stream",
     "text": [
      "Help on class Employee in module __main__:\n",
      "\n",
      "class Employee(builtins.object)\n",
      " |  Employee(name, emp_id, salary)\n",
      " |  \n",
      " |  Methods defined here:\n",
      " |  \n",
      " |  __init__(self, name, emp_id, salary)\n",
      " |      Initialize self.  See help(type(self)) for accurate signature.\n",
      " |  \n",
      " |  ----------------------------------------------------------------------\n",
      " |  Data descriptors defined here:\n",
      " |  \n",
      " |  __dict__\n",
      " |      dictionary for instance variables (if defined)\n",
      " |  \n",
      " |  __weakref__\n",
      " |      list of weak references to the object (if defined)\n",
      "\n"
     ]
    }
   ],
   "source": [
    "help(Employee)"
   ]
  },
  {
   "cell_type": "code",
   "execution_count": 89,
   "id": "451dcd6d",
   "metadata": {},
   "outputs": [],
   "source": [
    "#print(type(self))"
   ]
  },
  {
   "cell_type": "code",
   "execution_count": null,
   "id": "50e9f22f",
   "metadata": {},
   "outputs": [],
   "source": [
    "#Assignments:\n",
    "\n",
    "1. Print the longest palindrome in sowpods.txt {1-mark}\n",
    "    \n",
    "2. print the words that are in sonnet_words.txt but not in sowpods.txt {2-mark}\n",
    "\n",
    "3.Name and handle the exception occured in the following program: {1-mark}\n",
    "a=3\n",
    "if a < 4 :\n",
    "\ta=a/(a-3)\n",
    "\tprint(a)\n",
    "    \n",
    "4. Name and handle the exception occurred in the following program: {1-mark}\n",
    "l=[1,2,3]\n",
    "print(l[3])"
   ]
  }
 ],
 "metadata": {
  "kernelspec": {
   "display_name": "Python 3 (ipykernel)",
   "language": "python",
   "name": "python3"
  },
  "language_info": {
   "codemirror_mode": {
    "name": "ipython",
    "version": 3
   },
   "file_extension": ".py",
   "mimetype": "text/x-python",
   "name": "python",
   "nbconvert_exporter": "python",
   "pygments_lexer": "ipython3",
   "version": "3.10.9"
  }
 },
 "nbformat": 4,
 "nbformat_minor": 5
}
